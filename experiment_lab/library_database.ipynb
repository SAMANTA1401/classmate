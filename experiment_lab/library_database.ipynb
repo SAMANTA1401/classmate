{
 "cells": [
  {
   "cell_type": "markdown",
   "metadata": {},
   "source": [
    "start with sql  if user grow then move to nosql"
   ]
  },
  {
   "cell_type": "markdown",
   "metadata": {},
   "source": [
    "no sql structure"
   ]
  },
  {
   "cell_type": "code",
   "execution_count": null,
   "metadata": {},
   "outputs": [],
   "source": [
    "{\n",
    "    \"user_id\": 1,\n",
    "    \"username\": \"Alice\",\n",
    "    \"subjects\": [\n",
    "        {\n",
    "            \"subject_name\": \"Mathematics\",\n",
    "            \"chapters\": [\n",
    "                {\n",
    "                    \"chapter_name\": \"Algebra\",\n",
    "                    \"topics\": [\"Linear Equations\", \"Quadratic Equations\"]\n",
    "                }\n",
    "            ]\n",
    "        }\n",
    "    ]\n",
    "}"
   ]
  },
  {
   "cell_type": "code",
   "execution_count": null,
   "metadata": {},
   "outputs": [],
   "source": [
    "from pymongo import MongoClient\n",
    "\n",
    "client = MongoClient('mongodb://localhost:27017/')\n",
    "db = client['library']\n",
    "users_collection = db['users']\n",
    "\n",
    "# CREATE\n",
    "def create_user(username, subjects=None):\n",
    "    user = {\n",
    "        \"username\": username,\n",
    "        \"subjects\": subjects or []\n",
    "    }\n",
    "    result = users_collection.insert_one(user)\n",
    "    print(f\"Created user: {username} (ID: {result.inserted_id})\")\n",
    "\n",
    "# Add subject with chapters and topics\n",
    "def add_subject(user_id, subject_name, chapters=None):\n",
    "    users_collection.update_one(\n",
    "        {\"_id\": user_id},\n",
    "        {\"$push\": {\"subjects\": {\"subject_name\": subject_name, \"chapters\": chapters or []}}}\n",
    "    )\n",
    "\n",
    "# READ\n",
    "def display_library():\n",
    "    for user in users_collection.find():\n",
    "        print(f\"User: {user['username']} (ID: {user['_id']})\")\n",
    "        for subject in user['subjects']:\n",
    "            print(f\"  Subject: {subject['subject_name']}\")\n",
    "            for chapter in subject['chapters']:\n",
    "                print(f\"    Chapter: {chapter['chapter_name']}\")\n",
    "                for topic in chapter['topics']:\n",
    "                    print(f\"      Topic: {topic}\")\n",
    "\n",
    "# Example usage\n",
    "create_user(\"Alice\")\n",
    "add_subject(users_collection.find_one({\"username\": \"Alice\"})[\"_id\"], \"Mathematics\", \n",
    "            [{\"chapter_name\": \"Algebra\", \"topics\": [\"Linear Equations\"]}])\n",
    "display_library()"
   ]
  },
  {
   "cell_type": "markdown",
   "metadata": {},
   "source": [
    "sql structures"
   ]
  },
  {
   "cell_type": "code",
   "execution_count": null,
   "metadata": {},
   "outputs": [],
   "source": [
    "import sqlite3 # change it to mysql\n",
    "\n",
    "# Connect to SQLite database\n",
    "conn = sqlite3.connect('library.db')\n",
    "cursor = conn.cursor()"
   ]
  },
  {
   "cell_type": "code",
   "execution_count": 10,
   "metadata": {},
   "outputs": [
    {
     "name": "stdout",
     "output_type": "stream",
     "text": [
      "Connected to MySQL successfully!\n"
     ]
    }
   ],
   "source": [
    "import mysql.connector\n",
    "from mysql.connector import Error\n",
    "\n",
    "# Establish connection\n",
    "try:\n",
    "    connection = mysql.connector.connect(\n",
    "        host=\"localhost\",\n",
    "        user=\"root\",\n",
    "        password=\"mYsql@2022\",\n",
    "        database=\"tutorengine\"\n",
    "    )\n",
    "    print(\"Connected to MySQL successfully!\")\n",
    "    \n",
    "except mysql.connector.Error as err:\n",
    "    print(f\"Error: {err}\")\n",
    "\n",
    "# Close connection\n",
    "# finally:\n",
    "#     if 'connection' in locals() and connection.is_connected():\n",
    "#         connection.close()\n",
    "#         print(\"Connection closed.\")\n",
    "        \n",
    "cursor = connection.cursor()\n",
    "        "
   ]
  },
  {
   "cell_type": "code",
   "execution_count": 2,
   "metadata": {},
   "outputs": [],
   "source": [
    "from pydantic import BaseModel, Field\n",
    "from typing import Optional\n",
    "from langchain.output_parsers import PydanticOutputParser\n",
    "\n",
    "class FieldSelectionParser(BaseModel):\n",
    "    Field_study: Optional[str] = Field(default=None, description='Selected fields (science, arts, or N/A)')\n",
    "    Subject: Optional[str] = Field(default=None, description='Selected subjects')\n",
    "    Chapter: Optional[str] = Field(default=None, description='Selected chapters')\n",
    "    Topic: Optional[str] = Field(default=None, description='Selected topic')\n",
    "    Difficulty_level: Optional[str] = Field(default=None, description='Selected difficulty level')\n",
    "    Question_or_query: Optional[str] = Field(default=None, description='Given input question or query')\n",
    "    Answer: Optional[str] = Field(default=None, description='Answer to the given question or query')\n",
    "\n",
    "# Initialize the parser\n",
    "parser = PydanticOutputParser(pydantic_object=FieldSelectionParser)"
   ]
  },
  {
   "cell_type": "code",
   "execution_count": 3,
   "metadata": {},
   "outputs": [],
   "source": [
    "state = {'messages': [FieldSelectionParser(Field_study=\"Science\", Subject=\"Mathematics\", Chapter=\"Calculus\", Topic=\"Integration\", Difficulty_level=None, Question_or_query='Find the value of ∫2x cos (x² – 5) with step by step solution', Answer='Happy to see you diving into calculus! This is a complex integration problem, please allow me a few seconds to process it...')]}"
   ]
  },
  {
   "cell_type": "code",
   "execution_count": null,
   "metadata": {},
   "outputs": [],
   "source": []
  },
  {
   "cell_type": "code",
   "execution_count": 8,
   "metadata": {},
   "outputs": [],
   "source": [
    "user_id = 1\n",
    "user_name = \"user1\""
   ]
  },
  {
   "cell_type": "code",
   "execution_count": null,
   "metadata": {},
   "outputs": [],
   "source": [
    "field_study = state[\"messages\"][0].Field_study\n",
    "subject = state[\"messages\"][0].Subject\n",
    "chapter = state[\"messages\"][0].Chapter\n",
    "topic = state[\"messages\"][0].Topic\n",
    "question = state[\"messages\"][0].Question_or_query\n"
   ]
  },
  {
   "cell_type": "code",
   "execution_count": null,
   "metadata": {},
   "outputs": [],
   "source": [
    "content = 'Ah, diving into the world of integration, I see! No sweat, I\\'ll guide you through it step by step. Think of integration as the reverse process of differentiation. It\\'s like figuring out the original function when you only know its derivative.\\n\\n### Step-by-Step Solution:\\n\\nOkay, let\\'s break down the integral:\\n\\\\[\\n\\\\int 2x \\\\cos(x^2 - 5) \\\\, dx\\n\\\\]\\n1. **Recognize the Pattern**:\\n   - Notice that \\\\(2x\\\\) is the derivative of \\\\(x^2 - 5\\\\). This suggests we can use substitution.\\n\\n2. **Apply u-Substitution**:\\n   - Let \\\\(u = x^2 - 5\\\\).\\n   - Then, \\\\(\\\\frac{du}{dx} = 2x\\\\), which means \\\\(du = 2x \\\\, dx\\\\).\\n\\n3. **Substitute**:\\n   - Replace \\\\(x^2 - 5\\\\) with \\\\(u\\\\) and \\\\(2x \\\\, dx\\\\) with \\\\(du\\\\) in the integral:\\n     \\\\[\\n     \\\\int \\\\cos(u) \\\\, du\\n     \\\\]\\n\\n4. **Integrate**:\\n   - The integral of \\\\(\\\\cos(u)\\\\) with respect to \\\\(u\\\\) is \\\\(\\\\sin(u)\\\\):\\n     \\\\[\\n     \\\\int \\\\cos(u) \\\\, du = \\\\sin(u) + C\\n     \\\\]\\n     where \\\\(C\\\\) is the constant of integration.\\n\\n5. **Back-Substitute**:\\n   - Replace \\\\(u\\\\) with \\\\(x^2 - 5\\\\) to get the final answer:\\n     \\\\[\\n     \\\\sin(x^2 - 5) + C\\n     \\\\]\\n\\nSo, the final answer is:\\n\\\\[\\n\\\\int 2x \\\\cos(x^2 - 5) \\\\, dx = \\\\sin(x^2 - 5) + C\\n\\\\]\\n\\n### Concept and Explanation:\\n\\n#### What is Integration?\\nIntegration is a way to find the area under a curve. Imagine you have a function \\\\(f(x)\\\\) and you want to find the area between the curve of \\\\(f(x)\\\\) and the x-axis over an interval \\\\([a, b]\\\\). Integration helps you find that area.\\n\\n#### Why u-Substitution?\\nU-substitution (also known as variable substitution) is a technique used to simplify integrals when you have a composite function. It\\'s like peeling an onion layer by layer. In this case, we had \\\\(\\\\cos(x^2 - 5)\\\\), and we simplified it by letting \\\\(u = x^2 - 5\\\\).\\n\\n#### Constant of Integration (C)\\nDon\\'t forget the \"+ C\"! When you find an indefinite integral, you\\'re finding a family of functions that all have the same derivative. The constant \\\\(C\\\\) represents any possible constant term that would disappear when you take the derivative.\\n\\n### Example:\\n\\nLet\\'s say you want to find:\\n\\\\[\\n\\\\int 3x^2 \\\\sin(x^3 + 7) \\\\, dx\\n\\\\]\\n1. **Let \\\\(u = x^3 + 7\\\\)**, so \\\\(du = 3x^2 \\\\, dx\\\\).\\n2. **Substitute**: \\\\(\\\\int \\\\sin(u) \\\\, du\\\\).\\n3. **Integrate**: \\\\(-\\\\cos(u) + C\\\\).\\n4. **Back-Substitute**: \\\\(-\\\\cos(x^3 + 7) + C\\\\).\\n\\n### Resources:\\n\\n1.  **Khan Academy**:\\n    -   [Khan Academy Integration](https://www.khanacademy.org/math/calculus-1/cs1-integrals)\\n2.  **Paul\\'s Online Math Notes**:\\n    -   [Paul\\'s Online Math Notes - Integrals](http://tutorial.math.lamar.edu/Classes/CalcI/Integrals.aspx)\\n3.  **MIT OpenCourseWare**:\\n    -   [Single Variable Calculus](https://ocw.mit.edu/courses/mathematics/18-01sc-single-variable-calculus-fall-2010/)\\n\\nI hope this helps! Let me know if you have more questions or want to try another problem! Happy integrating!'"
   ]
  },
  {
   "cell_type": "code",
   "execution_count": null,
   "metadata": {},
   "outputs": [],
   "source": [
    "# Create tables for the hierarchical structure\n",
    "def create_tables():\n",
    "    # Users table\n",
    "    cursor.execute('''\n",
    "        CREATE TABLE IF NOT EXISTS users (\n",
    "            user_id INTEGER PRIMARY KEY AUTOINCREMENT,\n",
    "            username TEXT NOT NULL UNIQUE\n",
    "        )\n",
    "    ''')\n",
    "\n",
    "    # Subjects table (child of users)\n",
    "    cursor.execute('''\n",
    "        CREATE TABLE IF NOT EXISTS subjects (\n",
    "            subject_id INTEGER PRIMARY KEY AUTOINCREMENT,\n",
    "            subject_name TEXT NOT NULL,\n",
    "            user_id INTEGER,\n",
    "            FOREIGN KEY (user_id) REFERENCES users(user_id)\n",
    "        )\n",
    "    ''')\n",
    "\n",
    "    # Chapters table (child of subjects)\n",
    "    cursor.execute('''\n",
    "        CREATE TABLE IF NOT EXISTS chapters (\n",
    "            chapter_id INTEGER PRIMARY KEY AUTOINCREMENT,\n",
    "            chapter_name TEXT NOT NULL,\n",
    "            subject_id INTEGER,\n",
    "            FOREIGN KEY (subject_id) REFERENCES subjects(subject_id)\n",
    "        )\n",
    "    ''')\n",
    "\n",
    "    # Topics table (child of chapters)\n",
    "    cursor.execute('''\n",
    "        CREATE TABLE IF NOT EXISTS topics (\n",
    "            topic_id INTEGER PRIMARY KEY AUTOINCREMENT,\n",
    "            topic_name TEXT NOT NULL,\n",
    "            chapter_id INTEGER,\n",
    "            FOREIGN KEY (chapter_id) REFERENCES chapters(chapter_id)\n",
    "        )\n",
    "    ''')\n",
    "\n",
    "    conn.commit()\n",
    "    print(\"Database tables created successfully.\")"
   ]
  },
  {
   "cell_type": "code",
   "execution_count": null,
   "metadata": {},
   "outputs": [],
   "source": [
    "# CRUD Operations\n",
    "\n",
    "# --- CREATE ---\n",
    "def create_user(username):\n",
    "    cursor.execute(\"INSERT OR IGNORE INTO users (username) VALUES (?)\", (username,))\n",
    "    conn.commit()\n",
    "    cursor.execute(\"SELECT user_id FROM users WHERE username = ?\", (username,))\n",
    "    user_id = cursor.fetchone()[0]\n",
    "    print(f\"Created user: {username} (ID: {user_id})\")\n",
    "    return user_id"
   ]
  },
  {
   "cell_type": "code",
   "execution_count": null,
   "metadata": {},
   "outputs": [],
   "source": [
    "def create_subject(user_id, subject_name):\n",
    "    cursor.execute(\"INSERT INTO subjects (subject_name, user_id) VALUES (?, ?)\", \n",
    "                  (subject_name, user_id))\n",
    "    conn.commit()\n",
    "    cursor.execute(\"SELECT subject_id FROM subjects WHERE subject_name = ? AND user_id = ?\", \n",
    "                  (subject_name, user_id))\n",
    "    subject_id = cursor.fetchone()[0]\n",
    "    print(f\"Created subject: {subject_name} for User ID {user_id}\")\n",
    "    return subject_id"
   ]
  },
  {
   "cell_type": "code",
   "execution_count": null,
   "metadata": {},
   "outputs": [],
   "source": [
    "def create_chapter(subject_id, chapter_name):\n",
    "    cursor.execute(\"INSERT INTO chapters (chapter_name, subject_id) VALUES (?, ?)\", \n",
    "                  (chapter_name, subject_id))\n",
    "    conn.commit()\n",
    "    cursor.execute(\"SELECT chapter_id FROM chapters WHERE chapter_name = ? AND subject_id = ?\", \n",
    "                  (chapter_name, subject_id))\n",
    "    chapter_id = cursor.fetchone()[0]\n",
    "    print(f\"Created chapter: {chapter_name} for Subject ID {subject_id}\")\n",
    "    return chapter_id"
   ]
  },
  {
   "cell_type": "code",
   "execution_count": null,
   "metadata": {},
   "outputs": [],
   "source": [
    "def create_topic(chapter_id, topic_name):\n",
    "    cursor.execute(\"INSERT INTO topics (topic_name, chapter_id) VALUES (?, ?)\", \n",
    "                  (topic_name, chapter_id))\n",
    "    conn.commit()\n",
    "    print(f\"Created topic: {topic_name} for Chapter ID {chapter_id}\")"
   ]
  },
  {
   "cell_type": "code",
   "execution_count": null,
   "metadata": {},
   "outputs": [],
   "source": [
    "# --- READ ---\n",
    "def display_library():\n",
    "    print(\"\\n=== Library Hierarchy ===\")\n",
    "    cursor.execute(\"SELECT * FROM users\")\n",
    "    users = cursor.fetchall()\n",
    "    for user in users:\n",
    "        user_id, username = user\n",
    "        print(f\"User: {username} (ID: {user_id})\")\n",
    "        \n",
    "        cursor.execute(\"SELECT subject_id, subject_name FROM subjects WHERE user_id = ?\", (user_id,))\n",
    "        subjects = cursor.fetchall()\n",
    "        for subject_id, subject_name in subjects:\n",
    "            print(f\"  Subject: {subject_name} (ID: {subject_id})\")\n",
    "            \n",
    "            cursor.execute(\"SELECT chapter_id, chapter_name FROM chapters WHERE subject_id = ?\", (subject_id,))\n",
    "            chapters = cursor.fetchall()\n",
    "            for chapter_id, chapter_name in chapters:\n",
    "                print(f\"    Chapter: {chapter_name} (ID: {chapter_id})\")\n",
    "                \n",
    "                cursor.execute(\"SELECT topic_name FROM topics WHERE chapter_id = ?\", (chapter_id,))\n",
    "                topics = cursor.fetchall()\n",
    "                for topic in topics:\n",
    "                    topic_name = topic[0]\n",
    "                    print(f\"      Topic: {topic_name}\")"
   ]
  },
  {
   "cell_type": "code",
   "execution_count": null,
   "metadata": {},
   "outputs": [],
   "source": [
    "# --- UPDATE ---\n",
    "def update_user(user_id, new_username):\n",
    "    cursor.execute(\"UPDATE users SET username = ? WHERE user_id = ?\", (new_username, user_id))\n",
    "    conn.commit()\n",
    "    print(f\"Updated User ID {user_id} to username: {new_username}\")"
   ]
  },
  {
   "cell_type": "code",
   "execution_count": null,
   "metadata": {},
   "outputs": [],
   "source": [
    "def update_subject(subject_id, new_subject_name):\n",
    "    cursor.execute(\"UPDATE subjects SET subject_name = ? WHERE subject_id = ?\", \n",
    "                  (new_subject_name, subject_id))\n",
    "    conn.commit()\n",
    "    print(f\"Updated Subject ID {subject_id} to: {new_subject_name}\")"
   ]
  },
  {
   "cell_type": "code",
   "execution_count": null,
   "metadata": {},
   "outputs": [],
   "source": [
    "def update_chapter(chapter_id, new_chapter_name):\n",
    "    cursor.execute(\"UPDATE chapters SET chapter_name = ? WHERE chapter_id = ?\", \n",
    "                  (new_chapter_name, chapter_id))\n",
    "    conn.commit()\n",
    "    print(f\"Updated Chapter ID {chapter_id} to: {new_chapter_name}\")"
   ]
  },
  {
   "cell_type": "code",
   "execution_count": null,
   "metadata": {},
   "outputs": [],
   "source": [
    "def update_topic(topic_id, new_topic_name):\n",
    "    cursor.execute(\"UPDATE topics SET topic_name = ? WHERE topic_id = ?\", \n",
    "                  (new_topic_name, topic_id))\n",
    "    conn.commit()\n",
    "    print(f\"Updated Topic ID {topic_id} to: {new_topic_name}\")"
   ]
  },
  {
   "cell_type": "code",
   "execution_count": null,
   "metadata": {},
   "outputs": [],
   "source": [
    "# --- DELETE ---\n",
    "def delete_user(user_id):\n",
    "    cursor.execute(\"DELETE FROM topics WHERE chapter_id IN (SELECT chapter_id FROM chapters WHERE subject_id IN (SELECT subject_id FROM subjects WHERE user_id = ?))\", (user_id,))\n",
    "    cursor.execute(\"DELETE FROM chapters WHERE subject_id IN (SELECT subject_id FROM subjects WHERE user_id = ?)\", (user_id,))\n",
    "    cursor.execute(\"DELETE FROM subjects WHERE user_id = ?\", (user_id,))\n",
    "    cursor.execute(\"DELETE FROM users WHERE user_id = ?\", (user_id,))\n",
    "    conn.commit()\n",
    "    print(f\"Deleted User ID {user_id} and all related data.\")"
   ]
  },
  {
   "cell_type": "code",
   "execution_count": null,
   "metadata": {},
   "outputs": [],
   "source": [
    "def delete_subject(subject_id):\n",
    "    cursor.execute(\"DELETE FROM topics WHERE chapter_id IN (SELECT chapter_id FROM chapters WHERE subject_id = ?)\", (subject_id,))\n",
    "    cursor.execute(\"DELETE FROM chapters WHERE subject_id = ?\", (subject_id,))\n",
    "    cursor.execute(\"DELETE FROM subjects WHERE subject_id = ?\", (subject_id,))\n",
    "    conn.commit()\n",
    "    print(f\"Deleted Subject ID {subject_id} and all related data.\")"
   ]
  },
  {
   "cell_type": "code",
   "execution_count": null,
   "metadata": {},
   "outputs": [],
   "source": [
    "def delete_chapter(chapter_id):\n",
    "    cursor.execute(\"DELETE FROM topics WHERE chapter_id = ?\", (chapter_id,))\n",
    "    cursor.execute(\"DELETE FROM chapters WHERE chapter_id = ?\", (chapter_id,))\n",
    "    conn.commit()\n",
    "    print(f\"Deleted Chapter ID {chapter_id} and all related topics.\")"
   ]
  },
  {
   "cell_type": "code",
   "execution_count": null,
   "metadata": {},
   "outputs": [],
   "source": [
    "def delete_topic(topic_id):\n",
    "    cursor.execute(\"DELETE FROM topics WHERE topic_id = ?\", (topic_id,))\n",
    "    conn.commit()\n",
    "    print(f\"Deleted Topic ID {topic_id}\")"
   ]
  },
  {
   "cell_type": "code",
   "execution_count": null,
   "metadata": {},
   "outputs": [],
   "source": [
    "# Main function to test CRUD operations\n",
    "def main():\n",
    "    create_tables()\n",
    "\n",
    "    # CREATE: Add sample data\n",
    "    user_id = create_user(\"Alice\")\n",
    "    subject_id = create_subject(user_id, \"Mathematics\")\n",
    "    chapter_id = create_chapter(subject_id, \"Algebra\")\n",
    "    create_topic(chapter_id, \"Linear Equations\")\n",
    "    create_topic(chapter_id, \"Quadratic Equations\")\n",
    "\n",
    "    user_id2 = create_user(\"Bob\")\n",
    "    subject_id2 = create_subject(user_id2, \"Physics\")\n",
    "    chapter_id2 = create_chapter(subject_id2, \"Mechanics\")\n",
    "    create_topic(chapter_id2, \"Newton's Laws\")\n",
    "\n",
    "    # READ: Display the library\n",
    "    display_library()\n",
    "\n",
    "    # UPDATE: Modify some entries\n",
    "    update_user(user_id, \"Alice_Updated\")\n",
    "    update_subject(subject_id, \"Advanced Mathematics\")\n",
    "    update_chapter(chapter_id, \"Advanced Algebra\")\n",
    "    cursor.execute(\"SELECT topic_id FROM topics WHERE chapter_id = ? LIMIT 1\", (chapter_id,))\n",
    "    topic_id = cursor.fetchone()[0]\n",
    "    update_topic(topic_id, \"Linear Systems\")\n",
    "\n",
    "    # READ: Display updated library\n",
    "    print(\"\\nAfter Updates:\")\n",
    "    display_library()\n",
    "\n",
    "    # DELETE: Remove some entries\n",
    "    delete_topic(topic_id)\n",
    "    delete_chapter(chapter_id2)\n",
    "    delete_subject(subject_id)\n",
    "    delete_user(user_id2)\n",
    "\n",
    "    # READ: Display final library\n",
    "    print(\"\\nAfter Deletions:\")\n",
    "    display_library()\n",
    "\n",
    "    conn.close()"
   ]
  },
  {
   "cell_type": "code",
   "execution_count": null,
   "metadata": {},
   "outputs": [],
   "source": [
    "# indexing \n",
    "\n",
    "# replication\n",
    "\n",
    "# partition by rows\n",
    "\n",
    "# horizontal partitioning  sharding\n",
    "\n",
    "# vertical partitioning\n",
    "\n",
    "# normalization\n",
    "\n",
    "# denormalization\n",
    "\n",
    "\n",
    "\n",
    "\n"
   ]
  }
 ],
 "metadata": {
  "kernelspec": {
   "display_name": "Python 3",
   "language": "python",
   "name": "python3"
  },
  "language_info": {
   "codemirror_mode": {
    "name": "ipython",
    "version": 3
   },
   "file_extension": ".py",
   "mimetype": "text/x-python",
   "name": "python",
   "nbconvert_exporter": "python",
   "pygments_lexer": "ipython3",
   "version": "3.12.0"
  }
 },
 "nbformat": 4,
 "nbformat_minor": 2
}
