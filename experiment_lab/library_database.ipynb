{
 "cells": [
  {
   "cell_type": "markdown",
   "metadata": {},
   "source": [
    "start with sql  if user grow then move to nosql"
   ]
  },
  {
   "cell_type": "markdown",
   "metadata": {},
   "source": [
    "no sql structure"
   ]
  },
  {
   "cell_type": "code",
   "execution_count": null,
   "metadata": {},
   "outputs": [],
   "source": [
    "{\n",
    "    \"user_id\": 1,\n",
    "    \"username\": \"Alice\",\n",
    "    \"subjects\": [\n",
    "        {\n",
    "            \"subject_name\": \"Mathematics\",\n",
    "            \"chapters\": [\n",
    "                {\n",
    "                    \"chapter_name\": \"Algebra\",\n",
    "                    \"topics\": [\"Linear Equations\", \"Quadratic Equations\"]\n",
    "                }\n",
    "            ]\n",
    "        }\n",
    "    ]\n",
    "}"
   ]
  },
  {
   "cell_type": "code",
   "execution_count": null,
   "metadata": {},
   "outputs": [],
   "source": [
    "from pymongo import MongoClient\n",
    "\n",
    "client = MongoClient('mongodb://localhost:27017/')\n",
    "db = client['library']\n",
    "users_collection = db['users']\n",
    "\n",
    "# CREATE\n",
    "def create_user(username, subjects=None):\n",
    "    user = {\n",
    "        \"username\": username,\n",
    "        \"subjects\": subjects or []\n",
    "    }\n",
    "    result = users_collection.insert_one(user)\n",
    "    print(f\"Created user: {username} (ID: {result.inserted_id})\")\n",
    "\n",
    "# Add subject with chapters and topics\n",
    "def add_subject(user_id, subject_name, chapters=None):\n",
    "    users_collection.update_one(\n",
    "        {\"_id\": user_id},\n",
    "        {\"$push\": {\"subjects\": {\"subject_name\": subject_name, \"chapters\": chapters or []}}}\n",
    "    )\n",
    "\n",
    "# READ\n",
    "def display_library():\n",
    "    for user in users_collection.find():\n",
    "        print(f\"User: {user['username']} (ID: {user['_id']})\")\n",
    "        for subject in user['subjects']:\n",
    "            print(f\"  Subject: {subject['subject_name']}\")\n",
    "            for chapter in subject['chapters']:\n",
    "                print(f\"    Chapter: {chapter['chapter_name']}\")\n",
    "                for topic in chapter['topics']:\n",
    "                    print(f\"      Topic: {topic}\")\n",
    "\n",
    "# Example usage\n",
    "create_user(\"Alice\")\n",
    "add_subject(users_collection.find_one({\"username\": \"Alice\"})[\"_id\"], \"Mathematics\", \n",
    "            [{\"chapter_name\": \"Algebra\", \"topics\": [\"Linear Equations\"]}])\n",
    "display_library()"
   ]
  },
  {
   "cell_type": "markdown",
   "metadata": {},
   "source": [
    "sql structures"
   ]
  },
  {
   "cell_type": "code",
   "execution_count": null,
   "metadata": {},
   "outputs": [],
   "source": [
    "import sqlite3 # change it to mysql\n",
    "\n",
    "# Connect to SQLite database\n",
    "conn = sqlite3.connect('library.db')\n",
    "cursor = conn.cursor()"
   ]
  },
  {
   "cell_type": "code",
   "execution_count": null,
   "metadata": {},
   "outputs": [],
   "source": []
  },
  {
   "cell_type": "code",
   "execution_count": null,
   "metadata": {},
   "outputs": [],
   "source": [
    "# Create tables for the hierarchical structure\n",
    "def create_tables():\n",
    "    # Users table\n",
    "    cursor.execute('''\n",
    "        CREATE TABLE IF NOT EXISTS users (\n",
    "            user_id INTEGER PRIMARY KEY AUTOINCREMENT,\n",
    "            username TEXT NOT NULL UNIQUE\n",
    "        )\n",
    "    ''')\n",
    "\n",
    "    # Subjects table (child of users)\n",
    "    cursor.execute('''\n",
    "        CREATE TABLE IF NOT EXISTS subjects (\n",
    "            subject_id INTEGER PRIMARY KEY AUTOINCREMENT,\n",
    "            subject_name TEXT NOT NULL,\n",
    "            user_id INTEGER,\n",
    "            FOREIGN KEY (user_id) REFERENCES users(user_id)\n",
    "        )\n",
    "    ''')\n",
    "\n",
    "    # Chapters table (child of subjects)\n",
    "    cursor.execute('''\n",
    "        CREATE TABLE IF NOT EXISTS chapters (\n",
    "            chapter_id INTEGER PRIMARY KEY AUTOINCREMENT,\n",
    "            chapter_name TEXT NOT NULL,\n",
    "            subject_id INTEGER,\n",
    "            FOREIGN KEY (subject_id) REFERENCES subjects(subject_id)\n",
    "        )\n",
    "    ''')\n",
    "\n",
    "    # Topics table (child of chapters)\n",
    "    cursor.execute('''\n",
    "        CREATE TABLE IF NOT EXISTS topics (\n",
    "            topic_id INTEGER PRIMARY KEY AUTOINCREMENT,\n",
    "            topic_name TEXT NOT NULL,\n",
    "            chapter_id INTEGER,\n",
    "            FOREIGN KEY (chapter_id) REFERENCES chapters(chapter_id)\n",
    "        )\n",
    "    ''')\n",
    "\n",
    "    conn.commit()\n",
    "    print(\"Database tables created successfully.\")"
   ]
  },
  {
   "cell_type": "code",
   "execution_count": null,
   "metadata": {},
   "outputs": [],
   "source": [
    "# CRUD Operations\n",
    "\n",
    "# --- CREATE ---\n",
    "def create_user(username):\n",
    "    cursor.execute(\"INSERT OR IGNORE INTO users (username) VALUES (?)\", (username,))\n",
    "    conn.commit()\n",
    "    cursor.execute(\"SELECT user_id FROM users WHERE username = ?\", (username,))\n",
    "    user_id = cursor.fetchone()[0]\n",
    "    print(f\"Created user: {username} (ID: {user_id})\")\n",
    "    return user_id"
   ]
  },
  {
   "cell_type": "code",
   "execution_count": null,
   "metadata": {},
   "outputs": [],
   "source": [
    "def create_subject(user_id, subject_name):\n",
    "    cursor.execute(\"INSERT INTO subjects (subject_name, user_id) VALUES (?, ?)\", \n",
    "                  (subject_name, user_id))\n",
    "    conn.commit()\n",
    "    cursor.execute(\"SELECT subject_id FROM subjects WHERE subject_name = ? AND user_id = ?\", \n",
    "                  (subject_name, user_id))\n",
    "    subject_id = cursor.fetchone()[0]\n",
    "    print(f\"Created subject: {subject_name} for User ID {user_id}\")\n",
    "    return subject_id"
   ]
  },
  {
   "cell_type": "code",
   "execution_count": null,
   "metadata": {},
   "outputs": [],
   "source": [
    "def create_chapter(subject_id, chapter_name):\n",
    "    cursor.execute(\"INSERT INTO chapters (chapter_name, subject_id) VALUES (?, ?)\", \n",
    "                  (chapter_name, subject_id))\n",
    "    conn.commit()\n",
    "    cursor.execute(\"SELECT chapter_id FROM chapters WHERE chapter_name = ? AND subject_id = ?\", \n",
    "                  (chapter_name, subject_id))\n",
    "    chapter_id = cursor.fetchone()[0]\n",
    "    print(f\"Created chapter: {chapter_name} for Subject ID {subject_id}\")\n",
    "    return chapter_id"
   ]
  },
  {
   "cell_type": "code",
   "execution_count": null,
   "metadata": {},
   "outputs": [],
   "source": [
    "def create_topic(chapter_id, topic_name):\n",
    "    cursor.execute(\"INSERT INTO topics (topic_name, chapter_id) VALUES (?, ?)\", \n",
    "                  (topic_name, chapter_id))\n",
    "    conn.commit()\n",
    "    print(f\"Created topic: {topic_name} for Chapter ID {chapter_id}\")"
   ]
  },
  {
   "cell_type": "code",
   "execution_count": null,
   "metadata": {},
   "outputs": [],
   "source": [
    "# --- READ ---\n",
    "def display_library():\n",
    "    print(\"\\n=== Library Hierarchy ===\")\n",
    "    cursor.execute(\"SELECT * FROM users\")\n",
    "    users = cursor.fetchall()\n",
    "    for user in users:\n",
    "        user_id, username = user\n",
    "        print(f\"User: {username} (ID: {user_id})\")\n",
    "        \n",
    "        cursor.execute(\"SELECT subject_id, subject_name FROM subjects WHERE user_id = ?\", (user_id,))\n",
    "        subjects = cursor.fetchall()\n",
    "        for subject_id, subject_name in subjects:\n",
    "            print(f\"  Subject: {subject_name} (ID: {subject_id})\")\n",
    "            \n",
    "            cursor.execute(\"SELECT chapter_id, chapter_name FROM chapters WHERE subject_id = ?\", (subject_id,))\n",
    "            chapters = cursor.fetchall()\n",
    "            for chapter_id, chapter_name in chapters:\n",
    "                print(f\"    Chapter: {chapter_name} (ID: {chapter_id})\")\n",
    "                \n",
    "                cursor.execute(\"SELECT topic_name FROM topics WHERE chapter_id = ?\", (chapter_id,))\n",
    "                topics = cursor.fetchall()\n",
    "                for topic in topics:\n",
    "                    topic_name = topic[0]\n",
    "                    print(f\"      Topic: {topic_name}\")"
   ]
  },
  {
   "cell_type": "code",
   "execution_count": null,
   "metadata": {},
   "outputs": [],
   "source": [
    "# --- UPDATE ---\n",
    "def update_user(user_id, new_username):\n",
    "    cursor.execute(\"UPDATE users SET username = ? WHERE user_id = ?\", (new_username, user_id))\n",
    "    conn.commit()\n",
    "    print(f\"Updated User ID {user_id} to username: {new_username}\")"
   ]
  },
  {
   "cell_type": "code",
   "execution_count": null,
   "metadata": {},
   "outputs": [],
   "source": [
    "def update_subject(subject_id, new_subject_name):\n",
    "    cursor.execute(\"UPDATE subjects SET subject_name = ? WHERE subject_id = ?\", \n",
    "                  (new_subject_name, subject_id))\n",
    "    conn.commit()\n",
    "    print(f\"Updated Subject ID {subject_id} to: {new_subject_name}\")"
   ]
  },
  {
   "cell_type": "code",
   "execution_count": null,
   "metadata": {},
   "outputs": [],
   "source": [
    "def update_chapter(chapter_id, new_chapter_name):\n",
    "    cursor.execute(\"UPDATE chapters SET chapter_name = ? WHERE chapter_id = ?\", \n",
    "                  (new_chapter_name, chapter_id))\n",
    "    conn.commit()\n",
    "    print(f\"Updated Chapter ID {chapter_id} to: {new_chapter_name}\")"
   ]
  },
  {
   "cell_type": "code",
   "execution_count": null,
   "metadata": {},
   "outputs": [],
   "source": [
    "def update_topic(topic_id, new_topic_name):\n",
    "    cursor.execute(\"UPDATE topics SET topic_name = ? WHERE topic_id = ?\", \n",
    "                  (new_topic_name, topic_id))\n",
    "    conn.commit()\n",
    "    print(f\"Updated Topic ID {topic_id} to: {new_topic_name}\")"
   ]
  },
  {
   "cell_type": "code",
   "execution_count": null,
   "metadata": {},
   "outputs": [],
   "source": [
    "# --- DELETE ---\n",
    "def delete_user(user_id):\n",
    "    cursor.execute(\"DELETE FROM topics WHERE chapter_id IN (SELECT chapter_id FROM chapters WHERE subject_id IN (SELECT subject_id FROM subjects WHERE user_id = ?))\", (user_id,))\n",
    "    cursor.execute(\"DELETE FROM chapters WHERE subject_id IN (SELECT subject_id FROM subjects WHERE user_id = ?)\", (user_id,))\n",
    "    cursor.execute(\"DELETE FROM subjects WHERE user_id = ?\", (user_id,))\n",
    "    cursor.execute(\"DELETE FROM users WHERE user_id = ?\", (user_id,))\n",
    "    conn.commit()\n",
    "    print(f\"Deleted User ID {user_id} and all related data.\")"
   ]
  },
  {
   "cell_type": "code",
   "execution_count": null,
   "metadata": {},
   "outputs": [],
   "source": [
    "def delete_subject(subject_id):\n",
    "    cursor.execute(\"DELETE FROM topics WHERE chapter_id IN (SELECT chapter_id FROM chapters WHERE subject_id = ?)\", (subject_id,))\n",
    "    cursor.execute(\"DELETE FROM chapters WHERE subject_id = ?\", (subject_id,))\n",
    "    cursor.execute(\"DELETE FROM subjects WHERE subject_id = ?\", (subject_id,))\n",
    "    conn.commit()\n",
    "    print(f\"Deleted Subject ID {subject_id} and all related data.\")"
   ]
  },
  {
   "cell_type": "code",
   "execution_count": null,
   "metadata": {},
   "outputs": [],
   "source": [
    "def delete_chapter(chapter_id):\n",
    "    cursor.execute(\"DELETE FROM topics WHERE chapter_id = ?\", (chapter_id,))\n",
    "    cursor.execute(\"DELETE FROM chapters WHERE chapter_id = ?\", (chapter_id,))\n",
    "    conn.commit()\n",
    "    print(f\"Deleted Chapter ID {chapter_id} and all related topics.\")"
   ]
  },
  {
   "cell_type": "code",
   "execution_count": null,
   "metadata": {},
   "outputs": [],
   "source": [
    "def delete_topic(topic_id):\n",
    "    cursor.execute(\"DELETE FROM topics WHERE topic_id = ?\", (topic_id,))\n",
    "    conn.commit()\n",
    "    print(f\"Deleted Topic ID {topic_id}\")"
   ]
  },
  {
   "cell_type": "code",
   "execution_count": null,
   "metadata": {},
   "outputs": [],
   "source": [
    "# Main function to test CRUD operations\n",
    "def main():\n",
    "    create_tables()\n",
    "\n",
    "    # CREATE: Add sample data\n",
    "    user_id = create_user(\"Alice\")\n",
    "    subject_id = create_subject(user_id, \"Mathematics\")\n",
    "    chapter_id = create_chapter(subject_id, \"Algebra\")\n",
    "    create_topic(chapter_id, \"Linear Equations\")\n",
    "    create_topic(chapter_id, \"Quadratic Equations\")\n",
    "\n",
    "    user_id2 = create_user(\"Bob\")\n",
    "    subject_id2 = create_subject(user_id2, \"Physics\")\n",
    "    chapter_id2 = create_chapter(subject_id2, \"Mechanics\")\n",
    "    create_topic(chapter_id2, \"Newton's Laws\")\n",
    "\n",
    "    # READ: Display the library\n",
    "    display_library()\n",
    "\n",
    "    # UPDATE: Modify some entries\n",
    "    update_user(user_id, \"Alice_Updated\")\n",
    "    update_subject(subject_id, \"Advanced Mathematics\")\n",
    "    update_chapter(chapter_id, \"Advanced Algebra\")\n",
    "    cursor.execute(\"SELECT topic_id FROM topics WHERE chapter_id = ? LIMIT 1\", (chapter_id,))\n",
    "    topic_id = cursor.fetchone()[0]\n",
    "    update_topic(topic_id, \"Linear Systems\")\n",
    "\n",
    "    # READ: Display updated library\n",
    "    print(\"\\nAfter Updates:\")\n",
    "    display_library()\n",
    "\n",
    "    # DELETE: Remove some entries\n",
    "    delete_topic(topic_id)\n",
    "    delete_chapter(chapter_id2)\n",
    "    delete_subject(subject_id)\n",
    "    delete_user(user_id2)\n",
    "\n",
    "    # READ: Display final library\n",
    "    print(\"\\nAfter Deletions:\")\n",
    "    display_library()\n",
    "\n",
    "    conn.close()"
   ]
  },
  {
   "cell_type": "code",
   "execution_count": null,
   "metadata": {},
   "outputs": [],
   "source": [
    "# indexing \n",
    "\n",
    "# replication\n",
    "\n",
    "# partition by rows\n",
    "\n",
    "# horizontal partitioning  sharding\n",
    "\n",
    "# vertical partitioning\n",
    "\n",
    "# normalization\n",
    "\n",
    "# denormalization\n",
    "\n",
    "\n",
    "\n",
    "\n"
   ]
  }
 ],
 "metadata": {
  "language_info": {
   "name": "python"
  }
 },
 "nbformat": 4,
 "nbformat_minor": 2
}
