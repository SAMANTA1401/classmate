{
 "cells": [
  {
   "cell_type": "code",
   "execution_count": 6,
   "id": "aa6749c3",
   "metadata": {},
   "outputs": [],
   "source": [
    "from src.tutorengine.utils import FieldSelectionParser"
   ]
  },
  {
   "cell_type": "code",
   "execution_count": 7,
   "id": "c45bf414",
   "metadata": {},
   "outputs": [],
   "source": [
    "value = {'messages': [FieldSelectionParser(Field_study=None, Subject=None, Chapter=None, Topic='quantum entanglemeent',\n",
    "                                            Difficulty_level='N/A', Question_or_query='Tell me about quantum entanglement',\n",
    "                                              Answer=\"That's a fascinating topic! Quantum entanglement is a phenomenon in which two or more particles become correlated in such a way that the state of one particle cannot be described independently of the others, even when they are not .That is a fascinating topic! Quantum entanglement is a phenomenon in which two or more particles become correlated in such a way that the state of one particle cannot be described independently of the others, even when they arch a way that the state of one particle cannot be described independently of the others, even when they are separated by large distances. This means that the information about the state of one particle is instantly transported to the other particles, regardless of the distance between them. It is a fundamental conceptly transported to the other particles, regardless of the distance between them. It is a fundamental concept in quantum mechanics and has been experimentally verified in various systems.\")]}"
   ]
  },
  {
   "cell_type": "code",
   "execution_count": 10,
   "id": "a6bde4e1",
   "metadata": {},
   "outputs": [
    {
     "data": {
      "text/plain": [
       "\"That's a fascinating topic! Quantum entanglement is a phenomenon in which two or more particles become correlated in such a way that the state of one particle cannot be described independently of the others, even when they are not .That is a fascinating topic! Quantum entanglement is a phenomenon in which two or more particles become correlated in such a way that the state of one particle cannot be described independently of the others, even when they arch a way that the state of one particle cannot be described independently of the others, even when they are separated by large distances. This means that the information about the state of one particle is instantly transported to the other particles, regardless of the distance between them. It is a fundamental conceptly transported to the other particles, regardless of the distance between them. It is a fundamental concept in quantum mechanics and has been experimentally verified in various systems.\""
      ]
     },
     "execution_count": 10,
     "metadata": {},
     "output_type": "execute_result"
    }
   ],
   "source": [
    "value['messages'][0].Answer"
   ]
  },
  {
   "cell_type": "code",
   "execution_count": 11,
   "id": "5a55d557",
   "metadata": {},
   "outputs": [
    {
     "data": {
      "text/plain": [
       "\"That's a fascinating topic! Quantum entanglement is a phenomenon in which two or more particles become correlated in such a way that the state of one particle cannot be described independently of the others, even when they are not .That is a fascinating topic! Quantum entanglement is a phenomenon in which two or more particles become correlated in such a way that the state of one particle cannot be described independently of the others, even when they arch a way that the state of one particle cannot be described independently of the others, even when they are separated by large distances. This means that the information about the state of one particle is instantly transported to the other particles, regardless of the distance between them. It is a fundamental conceptly transported to the other particles, regardless of the distance between them. It is a fundamental concept in quantum mechanics and has been experimentally verified in various systems.\""
      ]
     },
     "execution_count": 11,
     "metadata": {},
     "output_type": "execute_result"
    }
   ],
   "source": [
    "str(value['messages'][0].Answer)"
   ]
  },
  {
   "cell_type": "code",
   "execution_count": 12,
   "id": "4a444386",
   "metadata": {},
   "outputs": [
    {
     "data": {
      "text/plain": [
       "{'Field_study': None,\n",
       " 'Subject': None,\n",
       " 'Chapter': None,\n",
       " 'Topic': 'quantum entanglemeent',\n",
       " 'Difficulty_level': 'N/A',\n",
       " 'Question_or_query': 'Tell me about quantum entanglement',\n",
       " 'Answer': \"That's a fascinating topic! Quantum entanglement is a phenomenon in which two or more particles become correlated in such a way that the state of one particle cannot be described independently of the others, even when they are not .That is a fascinating topic! Quantum entanglement is a phenomenon in which two or more particles become correlated in such a way that the state of one particle cannot be described independently of the others, even when they arch a way that the state of one particle cannot be described independently of the others, even when they are separated by large distances. This means that the information about the state of one particle is instantly transported to the other particles, regardless of the distance between them. It is a fundamental conceptly transported to the other particles, regardless of the distance between them. It is a fundamental concept in quantum mechanics and has been experimentally verified in various systems.\"}"
      ]
     },
     "execution_count": 12,
     "metadata": {},
     "output_type": "execute_result"
    }
   ],
   "source": [
    "value[\"messages\"][0].model_dump()"
   ]
  },
  {
   "cell_type": "code",
   "execution_count": null,
   "id": "3be36770",
   "metadata": {},
   "outputs": [],
   "source": []
  }
 ],
 "metadata": {
  "kernelspec": {
   "display_name": "Python 3",
   "language": "python",
   "name": "python3"
  },
  "language_info": {
   "codemirror_mode": {
    "name": "ipython",
    "version": 3
   },
   "file_extension": ".py",
   "mimetype": "text/x-python",
   "name": "python",
   "nbconvert_exporter": "python",
   "pygments_lexer": "ipython3",
   "version": "3.12.0"
  }
 },
 "nbformat": 4,
 "nbformat_minor": 5
}
