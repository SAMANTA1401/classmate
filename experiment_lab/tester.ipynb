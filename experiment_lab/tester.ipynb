{
 "cells": [
  {
   "cell_type": "code",
   "execution_count": 1,
   "id": "aa6749c3",
   "metadata": {},
   "outputs": [],
   "source": [
    "from src.tutorengine.utils import FieldSelectionParser"
   ]
  },
  {
   "cell_type": "code",
   "execution_count": 4,
   "id": "c45bf414",
   "metadata": {},
   "outputs": [],
   "source": [
    "value = {'messages': [FieldSelectionParser(Field_study=None, Subject=None, Chapter=None, Topic='quantum entanglemeent',\n",
    "                                            Difficulty_level='N/A', Question_or_query='Tell me about quantum entanglement',\n",
    "                                              Answer=\"That's a fascinating topic! Quantum entanglement is a phenomenon in which two or more particles become correlated in such a way that the state of one particle cannot be described independently of the others, even when they are not .That is a fascinating topic! Quantum entanglement is a phenomenon in which two or more particles become correlated in such a way that the state of one particle cannot be described independently of the others, even when they arch a way that the state of one particle cannot be described independently of the others, even when they are separated by large distances. This means that the information about the state of one particle is instantly transported to the other particles, regardless of the distance between them. It is a fundamental conceptly transported to the other particles, regardless of the distance between them. It is a fundamental concept in quantum mechanics and has been experimentally verified in various systems.\")]}"
   ]
  },
  {
   "cell_type": "code",
   "execution_count": 2,
   "id": "4ebed69d",
   "metadata": {},
   "outputs": [],
   "source": [
    "library = {\n",
    "\n",
    "    \"user_id\":1,\n",
    "    \"subject\":None,\n",
    "    \"chapter\":None,\n",
    "    \"topic\":None,\n",
    "    \"content\":None\n",
    "}"
   ]
  },
  {
   "cell_type": "code",
   "execution_count": 6,
   "metadata": {},
   "outputs": [],
   "source": [
    "if isinstance(value, dict) and 'messages' in value and isinstance(value['messages'], list) and len(value['messages']) > 0:\n",
    "        message_data = value['messages'][0]\n",
    "        # Check if message_data is an object with attributes or a dict\n",
    "        if hasattr(message_data, 'Answer') and hasattr(message_data, 'Content'):\n",
    "            answer_value = message_data.Answer\n",
    "            content_value = message_data.Content\n",
    "            user_query = getattr(message_data, 'Question_or_query') # Fallback query\n",
    "        elif isinstance(message_data, dict) and 'Answer' in message_data and 'Content' in message_data:\n",
    "            answer_value = message_data.get('Answer')\n",
    "            content_value = message_data.get('Content')\n",
    "            user_query = message_data.get('Question_or_query') # Fallback query\n",
    "        else:\n",
    "            print(\"not found\") # Skip if expected structure not found in this value\n",
    "        \n",
    "        if hasattr(message_data, 'Subject') and hasattr(message_data, 'Chapter'):\n",
    "            library[\"subject\"] = message_data.Subject\n",
    "            library[\"chapter\"] = message_data.Chapter\n",
    "            library[\"topic\"] = message_data.Topic\n",
    "        elif isinstance(message_data, dict) and 'Subject' in message_data and 'Chapter' in message_data:\n",
    "            library[\"subject\"] = message_data.get('Subject')\n",
    "            library[\"chapter\"] = message_data.get('Chapter')\n",
    "            library[\"topic\"] = message_data.get('topic')\n",
    "        else:\n",
    "            print(\"not found\") # Skip if expected structure not found in this value\n",
    "        \n",
    "        if hasattr(message_data, 'Content'):\n",
    "            library[\"content\"] = message_data.Content\n",
    "        elif isinstance(message_data, dict) and 'Content' in message_data:\n",
    "            library[\"content\"] = message_data.get('Content')\n",
    "        else:\n",
    "            print(\"not found\") # Skip if expected structure not found in this value\n"
   ]
  },
  {
   "cell_type": "code",
   "execution_count": 7,
   "id": "5933e771",
   "metadata": {},
   "outputs": [
    {
     "data": {
      "text/plain": [
       "{'user_id': 1,\n",
       " 'subject': None,\n",
       " 'chapter': None,\n",
       " 'topic': 'quantum entanglemeent',\n",
       " 'content': None}"
      ]
     },
     "execution_count": 7,
     "metadata": {},
     "output_type": "execute_result"
    }
   ],
   "source": [
    "library"
   ]
  },
  {
   "cell_type": "code",
   "execution_count": 3,
   "id": "22227ad7",
   "metadata": {},
   "outputs": [
    {
     "data": {
      "text/plain": [
       "{'messages': [FieldSelectionParser(Field_study=None, Subject=None, Chapter=None, Topic='quantum entanglemeent', Difficulty_level='N/A', Question_or_query='Tell me about quantum entanglement', Answer=\"That's a fascinating topic! Quantum entanglement is a phenomenon in which two or more particles become correlated in such a way that the state of one particle cannot be described independently of the others, even when they are not .That is a fascinating topic! Quantum entanglement is a phenomenon in which two or more particles become correlated in such a way that the state of one particle cannot be described independently of the others, even when they arch a way that the state of one particle cannot be described independently of the others, even when they are separated by large distances. This means that the information about the state of one particle is instantly transported to the other particles, regardless of the distance between them. It is a fundamental conceptly transported to the other particles, regardless of the distance between them. It is a fundamental concept in quantum mechanics and has been experimentally verified in various systems.\", Content=None)]}"
      ]
     },
     "execution_count": 3,
     "metadata": {},
     "output_type": "execute_result"
    }
   ],
   "source": [
    "state"
   ]
  },
  {
   "cell_type": "code",
   "execution_count": 5,
   "id": "e2adc364",
   "metadata": {},
   "outputs": [
    {
     "data": {
      "text/plain": [
       "[FieldSelectionParser(Field_study=None, Subject=None, Chapter=None, Topic='quantum entanglemeent', Difficulty_level='N/A', Question_or_query='Tell me about quantum entanglement', Answer=\"That's a fascinating topic! Quantum entanglement is a phenomenon in which two or more particles become correlated in such a way that the state of one particle cannot be described independently of the others, even when they are not .That is a fascinating topic! Quantum entanglement is a phenomenon in which two or more particles become correlated in such a way that the state of one particle cannot be described independently of the others, even when they arch a way that the state of one particle cannot be described independently of the others, even when they are separated by large distances. This means that the information about the state of one particle is instantly transported to the other particles, regardless of the distance between them. It is a fundamental conceptly transported to the other particles, regardless of the distance between them. It is a fundamental concept in quantum mechanics and has been experimentally verified in various systems.\", Content=None)]"
      ]
     },
     "execution_count": 5,
     "metadata": {},
     "output_type": "execute_result"
    }
   ],
   "source": [
    "state[\"messages\"]"
   ]
  },
  {
   "cell_type": "code",
   "execution_count": 6,
   "id": "e419b508",
   "metadata": {},
   "outputs": [
    {
     "ename": "AttributeError",
     "evalue": "'list' object has no attribute 'Answer'",
     "output_type": "error",
     "traceback": [
      "\u001b[31m---------------------------------------------------------------------------\u001b[39m",
      "\u001b[31mAttributeError\u001b[39m                            Traceback (most recent call last)",
      "\u001b[36mCell\u001b[39m\u001b[36m \u001b[39m\u001b[32mIn[6]\u001b[39m\u001b[32m, line 1\u001b[39m\n\u001b[32m----> \u001b[39m\u001b[32m1\u001b[39m \u001b[43mstate\u001b[49m\u001b[43m[\u001b[49m\u001b[33;43m\"\u001b[39;49m\u001b[33;43mmessages\u001b[39;49m\u001b[33;43m\"\u001b[39;49m\u001b[43m]\u001b[49m\u001b[43m.\u001b[49m\u001b[43mAnswer\u001b[49m\n",
      "\u001b[31mAttributeError\u001b[39m: 'list' object has no attribute 'Answer'"
     ]
    }
   ],
   "source": [
    "state[\"messages\"].Answer"
   ]
  },
  {
   "cell_type": "code",
   "execution_count": null,
   "id": "a6bde4e1",
   "metadata": {},
   "outputs": [
    {
     "data": {
      "text/plain": [
       "\"That's a fascinating topic! Quantum entanglement is a phenomenon in which two or more particles become correlated in such a way that the state of one particle cannot be described independently of the others, even when they are not .That is a fascinating topic! Quantum entanglement is a phenomenon in which two or more particles become correlated in such a way that the state of one particle cannot be described independently of the others, even when they arch a way that the state of one particle cannot be described independently of the others, even when they are separated by large distances. This means that the information about the state of one particle is instantly transported to the other particles, regardless of the distance between them. It is a fundamental conceptly transported to the other particles, regardless of the distance between them. It is a fundamental concept in quantum mechanics and has been experimentally verified in various systems.\""
      ]
     },
     "execution_count": 3,
     "metadata": {},
     "output_type": "execute_result"
    }
   ],
   "source": [
    "state['messages'][0].Answer"
   ]
  },
  {
   "cell_type": "code",
   "execution_count": null,
   "id": "5a55d557",
   "metadata": {},
   "outputs": [
    {
     "data": {
      "text/plain": [
       "\"That's a fascinating topic! Quantum entanglement is a phenomenon in which two or more particles become correlated in such a way that the state of one particle cannot be described independently of the others, even when they are not .That is a fascinating topic! Quantum entanglement is a phenomenon in which two or more particles become correlated in such a way that the state of one particle cannot be described independently of the others, even when they arch a way that the state of one particle cannot be described independently of the others, even when they are separated by large distances. This means that the information about the state of one particle is instantly transported to the other particles, regardless of the distance between them. It is a fundamental conceptly transported to the other particles, regardless of the distance between them. It is a fundamental concept in quantum mechanics and has been experimentally verified in various systems.\""
      ]
     },
     "execution_count": 11,
     "metadata": {},
     "output_type": "execute_result"
    }
   ],
   "source": [
    "str(state['messages'][0].Answer)"
   ]
  },
  {
   "cell_type": "code",
   "execution_count": null,
   "id": "4a444386",
   "metadata": {},
   "outputs": [
    {
     "data": {
      "text/plain": [
       "{'Field_study': None,\n",
       " 'Subject': None,\n",
       " 'Chapter': None,\n",
       " 'Topic': 'quantum entanglemeent',\n",
       " 'Difficulty_level': 'N/A',\n",
       " 'Question_or_query': 'Tell me about quantum entanglement',\n",
       " 'Answer': \"That's a fascinating topic! Quantum entanglement is a phenomenon in which two or more particles become correlated in such a way that the state of one particle cannot be described independently of the others, even when they are not .That is a fascinating topic! Quantum entanglement is a phenomenon in which two or more particles become correlated in such a way that the state of one particle cannot be described independently of the others, even when they arch a way that the state of one particle cannot be described independently of the others, even when they are separated by large distances. This means that the information about the state of one particle is instantly transported to the other particles, regardless of the distance between them. It is a fundamental conceptly transported to the other particles, regardless of the distance between them. It is a fundamental concept in quantum mechanics and has been experimentally verified in various systems.\"}"
      ]
     },
     "execution_count": 12,
     "metadata": {},
     "output_type": "execute_result"
    }
   ],
   "source": [
    "state[\"messages\"][0].model_dump()"
   ]
  },
  {
   "cell_type": "code",
   "execution_count": 1,
   "id": "3be36770",
   "metadata": {},
   "outputs": [],
   "source": [
    "data = {\"answer\": \"happy to see you progressive learning about Topic\", \"content\": \"## Overview\\n\\nThis study plan is designed for graduate-level students interested in gaining a comprehensive understanding of quantum computing. It covers fundamental concepts, key algorithms, and advanced topics, preparing you for research or practical applications in the field.\\n\\n## Duration\\n\\n16 Weeks (Approximately 4 months)\\n\\n## Learning Objectives\\n\\nBy the end of this study plan, you will be able to:\\n\\n1.  Understand the fundamental principles of quantum mechanics and their relevance to quantum computing.\\n2.  Implement and analyze basic quantum algorithms, such as Deutsch-Jozsa, Grover's, and Shor's algorithms.\\n3.  Grasp the concepts of quantum error correction and fault-tolerant quantum computing.\\n4.  Familiarize yourself with different quantum computing architectures and platforms.\\n5.  Explore advanced topics like quantum machine learning and quantum cryptography.\\n\\n## Schedule/Structure\\n\\nHere is a detailed week-by-week breakdown of the study plan:\\n\\n**Week 1: Introduction to Quantum Computing**\\n\\n*   Overview of classical vs. quantum computing\\n*   Basic linear algebra: vector spaces, inner products, operators ($ \\\\mathbb{C}^n $)\\n*   Quantum bits (qubits) and Bloch sphere representation\\n*   Read: Chapters 1-2 of Nielsen and Chuang\\n\\n**Week 2: Quantum Mechanics Fundamentals**\\n\\n*   Postulates of quantum mechanics\\n*   Quantum measurement and the Born rule\\n*   Unitary evolution\\n*   Composite systems and entanglement\\n*   Read: Chapters 2 of Nielsen and Chuang\\n\\n**Week 3: Quantum Gates and Circuits**\\n\\n*   Single-qubit gates: Hadamard, Pauli gates, Phase gate ($ H, X, Y, Z, S, T $)\\n*   Multi-qubit gates: CNOT, Toffoli ($ CNOT $)\\n*   Universal gate sets\\n*   Quantum circuit representation\\n*   Exercises: Constructing simple quantum circuits\\n\\n**Week 4: Quantum Teleportation and Superdense Coding**\\n\\n*   Quantum teleportation protocol\\n*   Superdense coding protocol\\n*   Applications of entanglement\\n*   Read: Chapter 1 of Kaye, Laflamme, Mosca\\n\\n**Week 5: Quantum Fourier Transform (QFT)**\\n\\n*   Classical Fourier transform\\n*   Quantum Fourier transform\\n*   Applications of QFT\\n*   Read: Chapter 5 of Nielsen and Chuang\\n\\n**Week 6: Quantum Phase Estimation**\\n\\n*   Phase estimation algorithm\\n*   Applications in quantum algorithms\\n*   Relationship to QFT\\n*   Exercises: Implementing phase estimation\\n\\n**Week 7: Shor's Algorithm**\\n\\n*   Number theory basics: modular arithmetic, continued fractions\\n*   Quantum period finding\\n*   Shor's factoring algorithm\\n*   Read: Chapter 5 of Nielsen and Chuang\\n\\n**Week 8: Grover's Algorithm**\\n\\n*   Oracle-based search\\n*   Amplitude amplification\\n*   Grover's search algorithm\\n*   Applications and limitations\\n*   Read: Chapter 6 of Nielsen and Chuang\\n\\n**Week 9: Quantum Error Correction**\\n\\n*   Classical error correction\\n*   Quantum errors: bit flips, phase flips\\n*   Quantum error-correcting codes: Shor code, Steane code ($ [[n, k, d]] $ codes)\\n*   Read: Chapters 10 of Nielsen and Chuang\\n\\n**Week 10: Fault-Tolerant Quantum Computation**\\n\\n*   Concatenated codes\\n*   Threshold theorem\\n*   Fault-tolerant gate operations\\n*   Read: Chapters 10 of Nielsen and Chuang\\n\\n**Week 11: Quantum Information Theory**\\n\\n*   Von Neumann entropy\\n*   Quantum relative entropy\\n*   Quantum channel capacity\\n*   Read: Chapters 11-12 of Nielsen and Chuang\\n\\n**Week 12: Quantum Cryptography**\\n\\n*   BB84 protocol\\n*   E91 protocol\\n*   Quantum key distribution\\n*   Read: Chapter 12 of Nielsen and Chuang\\n\\n**Week 13: Physical Implementations of Quantum Computers**\\n\\n*   Superconducting qubits\\n*   Trapped ions\\n*   Photonic qubits\\n*   Topological qubits\\n*   Read research papers on arXiv\\n\\n**Week 14: Quantum Machine Learning**\\n\\n*   Quantum support vector machines\\n*   Quantum neural networks\\n*   Quantum data encoding\\n*   Read research papers on arXiv\\n\\n**Week 15: Advanced Topics**\\n\\n*   Quantum simulation\\n*   Adiabatic quantum computing\\n*   Topological quantum computing\\n*   Read recent research papers\\n\\n**Week 16: Review and Project**\\n\\n*   Review all topics\\n*   Work on a quantum computing project\\n*   Present project findings\\n\\n## Resources\\n\\n*   **Textbooks**:\\n    *   *Quantum Computation and Quantum Information* by Michael A. Nielsen and Isaac L. Chuang\\n    *   *An Introduction to Quantum Computing* by Kaye, Laflamme, and Mosca\\n*   **Online Courses**:\\n    *   edX: Quantum Information Science\\n    *   Coursera: The Quantum Computing Playground\\n*   **Websites**:\\n    *   Quantum Information Processing (QIP) Conference\\n    *   arXiv.org (for the latest research papers)\\n\"}\n"
   ]
  },
  {
   "cell_type": "code",
   "execution_count": 3,
   "id": "85ba83f9",
   "metadata": {},
   "outputs": [],
   "source": [
    "import json"
   ]
  },
  {
   "cell_type": "code",
   "execution_count": 4,
   "id": "67512664",
   "metadata": {},
   "outputs": [],
   "source": [
    "data = json.dumps(data)\n"
   ]
  },
  {
   "cell_type": "code",
   "execution_count": 5,
   "id": "0e7de46c",
   "metadata": {},
   "outputs": [
    {
     "ename": "AttributeError",
     "evalue": "'str' object has no attribute 'answer'",
     "output_type": "error",
     "traceback": [
      "\u001b[31m---------------------------------------------------------------------------\u001b[39m",
      "\u001b[31mAttributeError\u001b[39m                            Traceback (most recent call last)",
      "\u001b[36mCell\u001b[39m\u001b[36m \u001b[39m\u001b[32mIn[5]\u001b[39m\u001b[32m, line 1\u001b[39m\n\u001b[32m----> \u001b[39m\u001b[32m1\u001b[39m \u001b[43mdata\u001b[49m\u001b[43m.\u001b[49m\u001b[43manswer\u001b[49m\n",
      "\u001b[31mAttributeError\u001b[39m: 'str' object has no attribute 'answer'"
     ]
    }
   ],
   "source": [
    "data.answer"
   ]
  },
  {
   "cell_type": "code",
   "execution_count": 1,
   "id": "6cd0209c",
   "metadata": {},
   "outputs": [],
   "source": [
    "file_name = None"
   ]
  },
  {
   "cell_type": "code",
   "execution_count": 2,
   "id": "b7fcd3e3",
   "metadata": {},
   "outputs": [],
   "source": [
    "def test():\n",
    "    print(\"Hello World\")\n",
    "    file_name = \"test.txt\"\n",
    "    return file_name"
   ]
  },
  {
   "cell_type": "code",
   "execution_count": 3,
   "id": "9c63edda",
   "metadata": {},
   "outputs": [],
   "source": [
    "file_name"
   ]
  },
  {
   "cell_type": "code",
   "execution_count": 4,
   "id": "216300a0",
   "metadata": {},
   "outputs": [
    {
     "name": "stdout",
     "output_type": "stream",
     "text": [
      "Hello World\n"
     ]
    },
    {
     "data": {
      "text/plain": [
       "'test.txt'"
      ]
     },
     "execution_count": 4,
     "metadata": {},
     "output_type": "execute_result"
    }
   ],
   "source": [
    "test()"
   ]
  },
  {
   "cell_type": "code",
   "execution_count": null,
   "id": "a1512672",
   "metadata": {},
   "outputs": [],
   "source": []
  }
 ],
 "metadata": {
  "kernelspec": {
   "display_name": "Python 3",
   "language": "python",
   "name": "python3"
  },
  "language_info": {
   "codemirror_mode": {
    "name": "ipython",
    "version": 3
   },
   "file_extension": ".py",
   "mimetype": "text/x-python",
   "name": "python",
   "nbconvert_exporter": "python",
   "pygments_lexer": "ipython3",
   "version": "3.12.0"
  }
 },
 "nbformat": 4,
 "nbformat_minor": 5
}
