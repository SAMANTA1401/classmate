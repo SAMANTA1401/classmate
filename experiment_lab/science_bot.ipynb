{
 "cells": [
  {
   "cell_type": "markdown",
   "metadata": {},
   "source": [
    "create date wise chat history list only give last 7 days chat history after 7 days create report after that create summary memory of clear 7 days chat history add to another list then monthly summary memory of 7 days chat history so as on"
   ]
  },
  {
   "cell_type": "code",
   "execution_count": null,
   "metadata": {},
   "outputs": [],
   "source": [
    "import os\n",
    "from dotenv import load_dotenv\n",
    "load_dotenv()\n",
    "\n",
    "GOOGLE_API_KEY=os.getenv(\"GEMINI_API_KEY\")\n",
    "os.environ[\"GOOGLE_API_KEY\"]=GOOGLE_API_KEY\n",
    "\n",
    "GROQ_API_KEY=os.getenv(\"GROQ_API_KEY\")\n",
    "os.environ[\"GROQ_API_KEY\"]=GROQ_API_KEY"
   ]
  },
  {
   "cell_type": "code",
   "execution_count": null,
   "metadata": {},
   "outputs": [],
   "source": [
    "chat_history = []"
   ]
  },
  {
   "cell_type": "code",
   "execution_count": null,
   "metadata": {},
   "outputs": [],
   "source": [
    "import requests\n",
    "import json\n",
    "from langchain.prompts import PromptTemplate\n",
    "from langchain.output_parsers import PydanticOutputParser\n",
    "from pydantic import BaseModel, Field"
   ]
  },
  {
   "cell_type": "code",
   "execution_count": null,
   "metadata": {},
   "outputs": [],
   "source": [
    "from langchain_google_genai import ChatGoogleGenerativeAI\n",
    "llm1 = ChatGoogleGenerativeAI(model=\"gemini-2.0-flash\")"
   ]
  },
  {
   "cell_type": "code",
   "execution_count": null,
   "metadata": {},
   "outputs": [],
   "source": [
    "from langchain_core.output_parsers import StrOutputParser"
   ]
  },
  {
   "cell_type": "code",
   "execution_count": null,
   "metadata": {},
   "outputs": [],
   "source": [
    "chat_history = []"
   ]
  },
  {
   "cell_type": "code",
   "execution_count": null,
   "metadata": {},
   "outputs": [],
   "source": [
    "def science_bot(state, chat_history:list):\n",
    "    messages = state[\"messages\"]\n",
    "    context = messages[-1]\n",
    "    print(context)\n",
    "    \n",
    "    template = \"\"\"\n",
    "        You are an AI educational assistant designed to help students by creating detailed study plans, courses, or generating exam-style questions and check answer , provide correct answer based on their input. Use the following details provided by the user to generate a response tailored to their request.\n",
    "        extract parameters from context .\n",
    "        ### context: {context}\n",
    "    \n",
    "        ### Instructions:\n",
    "        1. **If the query or question asks to \"create a course\" or \"create a study plan\" ** (e.g., \"Create a course on...\", \"Create a study plan for...\"):\n",
    "        - Design a detailed course or study plan based on the provided subject, topic, and difficulty level/class.\n",
    "        - Include the following sections in your response:\n",
    "            - **Overview**: A brief introduction to the course/study plan.\n",
    "            - **Duration**: Suggested time frame (e.g., 1 week, 1 month).\n",
    "            - **Learning Objectives**: 3-5 specific goals for the student.\n",
    "            - **Schedule/Structure**: A breakdown of topics/subtopics with suggested time allocations (e.g., daily or weekly tasks).\n",
    "            - **resources**: A list of resources, link , book etc.\n",
    "    \n",
    "        - Keep the content appropriate for the specified difficulty level or class (e.g., beginner, intermediate, advanced, or grade level).\n",
    "\n",
    "        2. **If the query asks to \"create questions\" or \"generate exam questions\"** (e.g., \"Create MCQs for...\", \"Generate descriptive questions on...\", \"create numerical questions on...\"):\n",
    "        - Generate 10-15 questions based on the subject, topic, difficulty level/class, and specified question type (e.g., MCQ, descriptive, short answer).\n",
    "        - For MCQs:\n",
    "            - Provide 4 answer options (a, b, c, d) with no answer  marked.\n",
    "        - For descriptive questions:\n",
    "            - Ensure the questions require detailed explanations or reasoning.\n",
    "        - Match the complexity to the difficulty level/class provided.\n",
    "        \n",
    "        3. **If the query ask for details explanation or reasoning or doubt clearing or solve problems step by step (e.g.,\"Find the value of ∫2x cos (x² – 5) with step by step solution\", \"explain kelvin cycle\", \"I have doubt or confusion about...\")\n",
    "        - Explain in detail easiest way , solve problems step by step solution, with fun so that student can understand easily.\n",
    "        \n",
    "        4. **If the query is unclear or incomplete**:\n",
    "        - Politely ask for clarification (e.g., \"Could you please specify if you want a study plan or questions, and provide more details?\").\n",
    "\n",
    "        5. **General Guidelines**:\n",
    "        - Keep the tone friendly, encouraging, and educational. make fun with learning\n",
    "        - Ensure the response is detailed, structured, and directly addresses the query.\n",
    "        - Adapt the content to the difficulty level or class (e.g., simpler explanations for beginners, advanced concepts for higher levels).\n",
    "\n",
    "        ### Response Format:\n",
    "        - Provide your response in clear, well-organized text.\n",
    "        - Use headings (e.g., ## Overview, ## Learning Objectives) to structure the output.\n",
    "\n",
    "        ---\n",
    "\n",
    "        ### Example Inputs and Expected Outputs:\n",
    "        **Input 1**: \n",
    "        - Subject: Mathematics\n",
    "        - Topic: Algebra\n",
    "        - Difficulty Level: Intermediate\n",
    "        - Query: Create a study plan on that topic\n",
    "        **Output**: A detailed study plan with overview, duration, objectives, schedule, and resources.\n",
    "\n",
    "        **Input 2**: \n",
    "        - Subject: Biology\n",
    "        - Topic: Cell Structure\n",
    "        - Difficulty Level: Class 10\n",
    "        - Question Type: MCQ\n",
    "        - Query: Generate exam questions\n",
    "        **Output**: 10-15 multiple-choice questions with options and correct answers.\n",
    "\n",
    "        \n",
    "    \"\"\"\n",
    "    \n",
    "    prompt = PromptTemplate(template=template,\n",
    "                                    input_variables=[context],\n",
    "                                    partial_variables={}\n",
    "                                    )\n",
    "    \n",
    "    chain =  prompt | llm1 | StrOutputParser()\n",
    "    \n",
    "    response = chain.invoke({\"context\": context})\n",
    "    \n",
    "    return {\"messages\": [response]}\n",
    "            \n",
    "            "
   ]
  }
 ],
 "metadata": {
  "kernelspec": {
   "display_name": "Python 3",
   "language": "python",
   "name": "python3"
  },
  "language_info": {
   "name": "python",
   "version": "3.11.0"
  }
 },
 "nbformat": 4,
 "nbformat_minor": 2
}
