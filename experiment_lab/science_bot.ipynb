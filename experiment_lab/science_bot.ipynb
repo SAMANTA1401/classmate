{
 "cells": [
  {
   "cell_type": "markdown",
   "metadata": {},
   "source": [
    "create date wise chat history list only give last 7 days chat history after 7 days create report after that create summary memory of clear 7 days chat history add to another list then monthly summary memory of 7 days chat history so as on"
   ]
  },
  {
   "cell_type": "code",
   "execution_count": 2,
   "metadata": {},
   "outputs": [],
   "source": [
    "import os\n",
    "from dotenv import load_dotenv\n",
    "load_dotenv()\n",
    "\n",
    "GOOGLE_API_KEY=os.getenv(\"GEMINI_API_KEY\")\n",
    "os.environ[\"GOOGLE_API_KEY\"]=GOOGLE_API_KEY\n",
    "\n",
    "GROQ_API_KEY=os.getenv(\"GROQ_API_KEY\")\n",
    "os.environ[\"GROQ_API_KEY\"]=GROQ_API_KEY"
   ]
  },
  {
   "cell_type": "code",
   "execution_count": 3,
   "metadata": {},
   "outputs": [],
   "source": [
    "chat_history = []"
   ]
  },
  {
   "cell_type": "code",
   "execution_count": 4,
   "metadata": {},
   "outputs": [],
   "source": [
    "import requests\n",
    "import json\n",
    "from langchain.prompts import PromptTemplate\n",
    "from langchain.output_parsers import PydanticOutputParser\n",
    "from pydantic import BaseModel, Field"
   ]
  },
  {
   "cell_type": "code",
   "execution_count": 5,
   "metadata": {},
   "outputs": [],
   "source": [
    "from langchain_google_genai import ChatGoogleGenerativeAI\n",
    "llm1 = ChatGoogleGenerativeAI(model=\"gemini-2.0-flash\")"
   ]
  },
  {
   "cell_type": "code",
   "execution_count": 6,
   "metadata": {},
   "outputs": [],
   "source": [
    "from langchain_core.output_parsers import StrOutputParser"
   ]
  },
  {
   "cell_type": "code",
   "execution_count": null,
   "metadata": {},
   "outputs": [],
   "source": [
    "def science_bot(state):\n",
    "    messages = state[\"messages\"]\n",
    "    context = messages[-1]\n",
    "    print(context)\n",
    "    \n",
    "    template = \"\"\"\n",
    "        You are an AI educational assistant designed to help students by creating detailed study plans, courses, or generating exam-style questions and check answer , provide correct answer based on their input. Use the following details provided by the user to generate a response tailored to their request.\n",
    "        extract parameters from context .\n",
    "        ### context: {context}\n",
    "    \n",
    "        ### Instructions:\n",
    "        1. **If the query or question asks to \"create a course\" or \"create a study plan\" ** (e.g., \"Create a course on...\", \"Create a study plan for...\"):\n",
    "        - Design a detailed course or study plan based on the provided subject, topic, and difficulty level/class.\n",
    "        - Include the following sections in your response:\n",
    "            - **Overview**: A brief introduction to the course/study plan.\n",
    "            - **Duration**: Suggested time frame (e.g., 1 week, 1 month).\n",
    "            - **Learning Objectives**: 3-5 specific goals for the student.\n",
    "            - **Schedule/Structure**: A breakdown of topics/subtopics with suggested time allocations (e.g., daily or weekly tasks).\n",
    "            - **resources**: A list of resources, link , book etc.\n",
    "    \n",
    "        - Keep the content appropriate for the specified difficulty level or class (e.g., beginner, intermediate, advanced, or grade level).\n",
    "\n",
    "        2. **If the query asks to \"create questions\" or \"generate exam questions\"** (e.g., \"Create MCQs for...\", \"Generate descriptive questions on...\", \"create numerical questions on...\"):\n",
    "        - Generate 10-15 questions based on the subject, topic, difficulty level/class, and specified question type (e.g., MCQ, descriptive, short answer).\n",
    "        - For MCQs:\n",
    "            - Provide 4 answer options (a, b, c, d) with no answer  marked.\n",
    "        - For descriptive questions:\n",
    "            - Ensure the questions require detailed explanations or reasoning.\n",
    "        - Match the complexity to the difficulty level/class provided.\n",
    "        \n",
    "        3. **If the query ask for  ask for give tutorial or lecture on topic sub topic, details explanation or reasoning or doubt clearing or solve problems step by step (e.g.,\"Find the value of ∫2x cos (x² – 5) with step by step solution\", \"explain kelvin cycle\", \"I have doubt or confusion about...\")\n",
    "        - Explain in detail easiest way,give clear concept, give example,derivation , equation, formula, diagram , graph if has, , solve problems step by step solution, with fun so that student can understand easily.\n",
    "        -  give a list of resources, link , book etc.\n",
    "        \n",
    "        4. **If the query is unclear or incomplete**:\n",
    "        - Politely ask for clarification (e.g., \"Could you please specify if you want a study plan or questions, and provide more details?\").\n",
    "\n",
    "        5. **General Guidelines**:\n",
    "        - Keep the tone friendly, encouraging, and educational. make fun with learning\n",
    "        - Ensure the response is detailed, structured, and directly addresses the query.\n",
    "        - Adapt the content to the difficulty level or class (e.g., simpler explanations for beginners, advanced concepts for higher levels).\n",
    "\n",
    "        ### Response Format:\n",
    "        - Provide your response in clear, well-organized text.\n",
    "        - Use headings (e.g., ## Overview, ## Learning Objectives) to structure the output.\n",
    "\n",
    "        ---\n",
    "\n",
    "        ### Example Inputs and Expected Outputs:\n",
    "        **Input 1**: \n",
    "        - Subject: Mathematics\n",
    "        - Topic: Algebra\n",
    "        - Difficulty Level: Intermediate\n",
    "        - Query: Create a study plan on that topic\n",
    "        **Output**: A detailed study plan with overview, duration, objectives, schedule, and resources.\n",
    "\n",
    "        **Input 2**: \n",
    "        - Subject: Biology\n",
    "        - Topic: Cell Structure\n",
    "        - Difficulty Level: Class 10\n",
    "        - Question Type: MCQ\n",
    "        - Query: Generate exam questions\n",
    "        **Output**: 10-15 multiple-choice questions with options and correct answers.\n",
    "\n",
    "        \n",
    "    \"\"\"\n",
    "    \n",
    "    prompt = PromptTemplate(template=template,\n",
    "                                    input_variables=[context],\n",
    "                                    partial_variables={}\n",
    "                                    )\n",
    "    \n",
    "    chain =  prompt | llm1 #| StrOutputParser()\n",
    "    \n",
    "    response = chain.invoke({\"context\": context})\n",
    "    \n",
    "    return {\"messages\": [response]}\n",
    "            \n",
    "            "
   ]
  },
  {
   "cell_type": "code",
   "execution_count": 8,
   "metadata": {},
   "outputs": [],
   "source": [
    "state = {\"messages\": [\" create a course on modern physics for class 12\"]}"
   ]
  },
  {
   "cell_type": "code",
   "execution_count": 9,
   "metadata": {},
   "outputs": [
    {
     "name": "stdout",
     "output_type": "stream",
     "text": [
      " create a course on modern physics for class 12\n"
     ]
    }
   ],
   "source": [
    "solution = science_bot(state)"
   ]
  },
  {
   "cell_type": "code",
   "execution_count": 10,
   "metadata": {},
   "outputs": [
    {
     "data": {
      "text/markdown": [
       "Okay, I can help you create a course on modern physics for class 12! Buckle up, because we're about to dive into the mind-bending world of atoms, relativity, and quantum weirdness!\n",
       "\n",
       "## Course: Modern Physics for Class 12\n",
       "\n",
       "### Overview\n",
       "This course is designed to introduce you to the fascinating realm of modern physics, which revolutionized our understanding of the universe in the 20th century. We'll explore topics like the dual nature of matter and radiation, the structure of atoms and nuclei, and the mind-blowing concepts of special relativity. Get ready to question everything you thought you knew about space, time, and reality!\n",
       "\n",
       "### Duration\n",
       "Suggested duration: 4-5 weeks (adjust based on your learning pace)\n",
       "\n",
       "### Learning Objectives\n",
       "By the end of this course, you will be able to:\n",
       "1.  Explain the experimental evidence for the wave-particle duality of matter and radiation.\n",
       "2.  Describe the structure of atoms and nuclei, including the properties of elementary particles.\n",
       "3.  Apply the principles of special relativity to solve problems involving time dilation, length contraction, and relativistic momentum and energy.\n",
       "4.  Understand the basic principles of quantum mechanics and their applications in modern technology.\n",
       "5.  Solve numerical problems related to modern physics concepts.\n",
       "\n",
       "### Schedule/Structure\n",
       "\n",
       "**Week 1: Introduction to Modern Physics & Particle Nature of Radiation**\n",
       "\n",
       "*   **Day 1:**\n",
       "    *   **Topic:** Introduction to Modern Physics - What is it and why do we study it?\n",
       "    *   **Subtopics:** Limitations of classical physics, need for new theories.\n",
       "    *   **Activities:** Read introductory chapter, watch a documentary on the history of modern physics.\n",
       "*   **Day 2:**\n",
       "    *   **Topic:** Photoelectric Effect\n",
       "    *   **Subtopics:** Hertz's observations, Einstein's explanation, laws of photoelectric emission.\n",
       "    *   **Activities:** Solve numerical problems on photoelectric effect.\n",
       "*   **Day 3:**\n",
       "    *   **Topic:** Wave-Particle Duality of Light\n",
       "    *   **Subtopics:** Planck's quantum theory, photons, energy and momentum of photons.\n",
       "    *   **Activities:** Compare and contrast wave and particle nature of light.\n",
       "*   **Day 4:**\n",
       "    *   **Topic:** Applications of Photoelectric Effect\n",
       "    *   **Subtopics:** Photocell, solar cells, etc.\n",
       "    *   **Activities:** Research and present on a specific application.\n",
       "*   **Day 5:**\n",
       "    *   **Review & Quiz:** Review all topics covered this week.\n",
       "    *   **Activities:** Solve practice questions, take a short quiz.\n",
       "\n",
       "**Week 2: Atomic Structure**\n",
       "\n",
       "*   **Day 1:**\n",
       "    *   **Topic:** Alpha-Particle Scattering and Rutherford's Nuclear Model of Atom\n",
       "    *   **Subtopics:** Observations, Rutherford's model, drawbacks.\n",
       "    *   **Activities:** Analyze Rutherford's experiment and its implications.\n",
       "*   **Day 2:**\n",
       "    *   **Topic:** Bohr Model of the Hydrogen Atom\n",
       "    *   **Subtopics:** Postulates, energy levels, spectra of hydrogen atom.\n",
       "    *   **Activities:** Derive the Bohr's quantization condition.\n",
       "*   **Day 3:**\n",
       "    *   **Topic:** Limitations of Bohr's Model\n",
       "    *   **Subtopics:** Failure to explain complex atoms, fine structure, etc.\n",
       "    *   **Activities:** Discuss the shortcomings of the Bohr model.\n",
       "*   **Day 4:**\n",
       "    *   **Topic:** X-rays\n",
       "    *   **Subtopics:** Production, properties, continuous and characteristic X-rays.\n",
       "    *   **Activities:** Learn about the applications of X-rays in medicine and industry.\n",
       "*   **Day 5:**\n",
       "    *   **Review & Quiz:** Review all topics covered this week.\n",
       "    *   **Activities:** Solve numerical problems, take a quiz.\n",
       "\n",
       "**Week 3: Nuclei**\n",
       "\n",
       "*   **Day 1:**\n",
       "    *   **Topic:** Composition and Size of Nucleus\n",
       "    *   **Subtopics:** Nuclear constituents, nuclear size and density.\n",
       "    *   **Activities:** Calculate the density of nuclear matter.\n",
       "*   **Day 2:**\n",
       "    *   **Topic:** Mass-Energy and Nuclear Binding Energy\n",
       "    *   **Subtopics:** Einstein's mass-energy relation, binding energy curve.\n",
       "    *   **Activities:** Solve problems on mass defect and binding energy.\n",
       "*   **Day 3:**\n",
       "    *   **Topic:** Nuclear Force\n",
       "    *   **Subtopics:** Properties of nuclear force, short range, strong, etc.\n",
       "    *   **Activities:** Compare and contrast nuclear force with electromagnetic force.\n",
       "*   **Day 4:**\n",
       "    *   **Topic:** Nuclear Reactions\n",
       "    *   **Subtopics:** Nuclear fission and fusion, energy released.\n",
       "    *   **Activities:** Learn about the applications of nuclear energy.\n",
       "*   **Day 5:**\n",
       "    *   **Review & Quiz:** Review all topics covered this week.\n",
       "    *   **Activities:** Discuss the environmental impact of nuclear energy, take a quiz.\n",
       "\n",
       "**Week 4: Radioactivity**\n",
       "\n",
       "*   **Day 1:**\n",
       "    *   **Topic:** Radioactive Decay Law\n",
       "    *   **Subtopics:** Alpha, beta, and gamma decay, half-life, decay constant.\n",
       "    *   **Activities:** Derive the radioactive decay law.\n",
       "*   **Day 2:**\n",
       "    *   **Topic:** Nuclear Reactor\n",
       "    *   **Subtopics:** Components, working principle, types of reactors.\n",
       "    *   **Activities:** Study the design and safety features of a nuclear reactor.\n",
       "*   **Day 3:**\n",
       "    *   **Topic:** Nuclear Weapons\n",
       "    *   **Subtopics:** Working principle, effects, ethical considerations.\n",
       "    *   **Activities:** Discuss the dangers of nuclear proliferation.\n",
       "*   **Day 4:**\n",
       "    *   **Topic:** Applications of Radioactivity\n",
       "    *   **Subtopics:** Carbon dating, medical applications, industrial applications.\n",
       "    *   **Activities:** Present on a specific application of radioactivity.\n",
       "*   **Day 5:**\n",
       "    *   **Review & Quiz:** Review all topics covered this week.\n",
       "    *   **Activities:** Solve numerical problems, take a quiz.\n",
       "\n",
       "**Week 5: Semiconductor Electronics (If Time Permits)**\n",
       "\n",
       "*   **Day 1:**\n",
       "    *   **Topic:** Energy Bands in Solids\n",
       "    *   **Subtopics:** Conductors, insulators, and semiconductors.\n",
       "    *   **Activities:** Understand the difference between conductors, insulators, and semiconductors based on band theory.\n",
       "*   **Day 2:**\n",
       "    *   **Topic:** Intrinsic and Extrinsic Semiconductors\n",
       "    *   **Subtopics:** Doping, p-type and n-type semiconductors.\n",
       "    *   **Activities:** Learn how doping changes the conductivity of semiconductors.\n",
       "*   **Day 3:**\n",
       "    *   **Topic:** Semiconductor Diode\n",
       "    *   **Subtopics:** p-n junction, forward and reverse bias.\n",
       "    *   **Activities:** Plot the V-I characteristics of a semiconductor diode.\n",
       "*   **Day 4:**\n",
       "    *   **Topic:** Applications of Semiconductor Diodes\n",
       "    *   **Subtopics:** Rectifiers, LEDs, solar cells.\n",
       "    *   **Activities:** Study the working of a full-wave rectifier.\n",
       "*   **Day 5:**\n",
       "    *   **Review & Quiz:** Review all topics covered this week.\n",
       "    *   **Activities:** Design a simple circuit using diodes, take a quiz.\n",
       "\n",
       "### Resources\n",
       "\n",
       "*   **Textbooks:**\n",
       "    *   NCERT Physics Textbook for Class 12 (Part 2)\n",
       "    *   Concepts of Physics by H.C. Verma (Vol. 2)\n",
       "*   **Online Resources:**\n",
       "    *   Khan Academy (Physics section)\n",
       "    *   MIT OpenCourseware (Physics courses)\n",
       "    *   HyperPhysics ([http://hyperphysics.phy-astr.gsu.edu/](http://hyperphysics.phy-astr.gsu.edu/))\n",
       "*   **YouTube Channels:**\n",
       "    *   Physics Wallah\n",
       "    *   Khan Academy Physics\n",
       "    *   Veritasium (for conceptual understanding)"
      ],
      "text/plain": [
       "<IPython.core.display.Markdown object>"
      ]
     },
     "metadata": {},
     "output_type": "display_data"
    }
   ],
   "source": [
    "from IPython.display import display, Markdown\n",
    "display(Markdown(solution[\"messages\"][0]))"
   ]
  },
  {
   "cell_type": "code",
   "execution_count": 20,
   "metadata": {},
   "outputs": [],
   "source": [
    "state = {\"messages\":[\"give lecture on modern physics photoelectric effects\"]}"
   ]
  },
  {
   "cell_type": "code",
   "execution_count": 21,
   "metadata": {},
   "outputs": [
    {
     "name": "stdout",
     "output_type": "stream",
     "text": [
      "give lecture on modern physics photoelectric effects\n"
     ]
    }
   ],
   "source": [
    "solution = science_bot(state)"
   ]
  },
  {
   "cell_type": "code",
   "execution_count": 23,
   "metadata": {},
   "outputs": [
    {
     "data": {
      "text/plain": [
       "{'messages': [AIMessage(content='Alright, let\\'s dive into the fascinating world of the photoelectric effect! Buckle up, because we\\'re about to shine some light on this mind-bending concept. ✨\\n\\n## Lecture: Modern Physics - The Photoelectric Effect\\n\\n### Overview\\n\\nThe photoelectric effect is a phenomenon where light (electromagnetic radiation) shines on a material, causing it to emit electrons. These ejected electrons are called photoelectrons. This effect is a cornerstone of quantum mechanics, demonstrating the particle-like nature of light. It\\'s like light is throwing tiny electron-sized baseballs at a surface!\\n\\n### Key Concepts\\n\\n1.  **Photons:** Light is composed of discrete packets of energy called photons.\\n2.  **Work Function (Φ):** The minimum energy required to remove an electron from the surface of a material. Think of it as the electron\\'s \"escape fee.\"\\n3.  **Threshold Frequency (f₀):** The minimum frequency of light required to eject electrons. If the light\\'s frequency is below this, no electrons are emitted, no matter how intense the light is!\\n4.  **Kinetic Energy (KE):** The energy of the emitted electrons.\\n5.  **Stopping Potential (V₀):** The voltage required to stop the emitted electrons from reaching the collector.\\n\\n### The Experiment Setup\\n\\nImagine a vacuum tube with two metal plates:\\n\\n*   **Emitter (Cathode):** The plate where light shines and electrons are emitted.\\n*   **Collector (Anode):** The plate that collects the emitted electrons.\\n\\nWhen light of sufficient frequency shines on the emitter, electrons are ejected and travel to the collector, creating a current.\\n\\n### The Magic Formula\\n\\nThe key equation that governs the photoelectric effect is:\\n\\n```\\nE = hf = Φ + KE_max\\n```\\n\\nWhere:\\n\\n*   `E` is the energy of the photon.\\n*   `h` is Planck\\'s constant (approximately 6.626 x 10⁻³⁴ Js).\\n*   `f` is the frequency of the light.\\n*   `Φ` is the work function of the material.\\n*   `KE_max` is the maximum kinetic energy of the emitted electrons.\\n\\n### Explanation\\n\\n*   A photon with energy `hf` strikes the metal surface.\\n*   An amount of energy equal to the work function `Φ` is used to liberate the electron from the metal.\\n*   The remaining energy appears as the kinetic energy `KE_max` of the emitted electron.\\n\\n### Important Observations and Implications\\n\\n1.  **Intensity Doesn\\'t Matter (Below Threshold):** Increasing the intensity of light *below* the threshold frequency does *not* cause electron emission. It\\'s like throwing more pebbles that are too light to knock something over.\\n2.  **Frequency Matters:** The kinetic energy of the emitted electrons depends on the frequency of the light. Higher frequency means higher kinetic energy.\\n3.  **Instantaneous Emission:** Electrons are emitted almost instantaneously (within about 10⁻⁹ seconds) after the light shines on the material.\\n4.  **Einstein\\'s Explanation:** Albert Einstein explained the photoelectric effect in 1905, which earned him the Nobel Prize in Physics in 1921. He proposed that light consists of discrete packets of energy (photons).\\n\\n### Let\\'s Do a Fun Example!\\n\\n**Problem:**\\n\\nA metal has a work function of 2.0 eV. Light with a wavelength of 400 nm shines on the metal. What is the maximum kinetic energy of the emitted electrons?\\n\\n**Solution:**\\n\\n1.  **Convert Wavelength to Frequency:**\\n\\n    *   `c = fλ`, where `c` is the speed of light (3 x 10⁸ m/s) and `λ` is the wavelength.\\n    *   `f = c / λ = (3 x 10⁸ m/s) / (400 x 10⁻⁹ m) = 7.5 x 10¹⁴ Hz`\\n2.  **Calculate Photon Energy:**\\n\\n    *   `E = hf = (6.626 x 10⁻³⁴ Js) x (7.5 x 10¹⁴ Hz) = 4.97 x 10⁻¹⁹ J`\\n3.  **Convert Work Function to Joules:**\\n\\n    *   `Φ = 2.0 eV = 2.0 x 1.602 x 10⁻¹⁹ J = 3.204 x 10⁻¹⁹ J`\\n4.  **Calculate Maximum Kinetic Energy:**\\n\\n    *   `KE_max = E - Φ = (4.97 x 10⁻¹⁹ J) - (3.204 x 10⁻¹⁹ J) = 1.766 x 10⁻¹⁹ J`\\n5.  **Convert Kinetic Energy to eV:**\\n\\n    *   `KE_max = (1.766 x 10⁻¹⁹ J) / (1.602 x 10⁻¹⁹ J/eV) ≈ 1.1 eV`\\n\\nSo, the maximum kinetic energy of the emitted electrons is approximately 1.1 eV.\\n\\n### Real-World Applications\\n\\n*   **Photocells:** Used in light meters, automatic doors, and solar panels.\\n*   **Digital Cameras:** The sensors in digital cameras use the photoelectric effect to convert light into electrical signals.\\n*   **Medical Imaging:** Used in certain types of medical imaging devices.\\n\\n### Let\\'s Recap!\\n\\n*   The photoelectric effect demonstrates the particle nature of light.\\n*   Light comes in packets called photons.\\n*   Electrons are emitted when light of sufficient frequency shines on a material.\\n*   The key equation is `E = hf = Φ + KE_max`.\\n\\nAnd that\\'s the photoelectric effect in a nutshell! I hope this lecture was enlightening (pun intended!). If you have any more questions or need further clarification, feel free to ask! Keep shining bright! 🌟', additional_kwargs={}, response_metadata={'prompt_feedback': {'block_reason': 0, 'safety_ratings': []}, 'finish_reason': 'STOP', 'safety_ratings': []}, id='run-28ca4835-e713-4142-9402-ba17f6179af6-0', usage_metadata={'input_tokens': 866, 'output_tokens': 1301, 'total_tokens': 2167, 'input_token_details': {'cache_read': 0}})]}"
      ]
     },
     "execution_count": 23,
     "metadata": {},
     "output_type": "execute_result"
    }
   ],
   "source": [
    "solution"
   ]
  },
  {
   "cell_type": "code",
   "execution_count": 24,
   "metadata": {},
   "outputs": [
    {
     "data": {
      "text/markdown": [
       "Alright, let's dive into the fascinating world of the photoelectric effect! Buckle up, because we're about to shine some light on this mind-bending concept. ✨\n",
       "\n",
       "## Lecture: Modern Physics - The Photoelectric Effect\n",
       "\n",
       "### Overview\n",
       "\n",
       "The photoelectric effect is a phenomenon where light (electromagnetic radiation) shines on a material, causing it to emit electrons. These ejected electrons are called photoelectrons. This effect is a cornerstone of quantum mechanics, demonstrating the particle-like nature of light. It's like light is throwing tiny electron-sized baseballs at a surface!\n",
       "\n",
       "### Key Concepts\n",
       "\n",
       "1.  **Photons:** Light is composed of discrete packets of energy called photons.\n",
       "2.  **Work Function (Φ):** The minimum energy required to remove an electron from the surface of a material. Think of it as the electron's \"escape fee.\"\n",
       "3.  **Threshold Frequency (f₀):** The minimum frequency of light required to eject electrons. If the light's frequency is below this, no electrons are emitted, no matter how intense the light is!\n",
       "4.  **Kinetic Energy (KE):** The energy of the emitted electrons.\n",
       "5.  **Stopping Potential (V₀):** The voltage required to stop the emitted electrons from reaching the collector.\n",
       "\n",
       "### The Experiment Setup\n",
       "\n",
       "Imagine a vacuum tube with two metal plates:\n",
       "\n",
       "*   **Emitter (Cathode):** The plate where light shines and electrons are emitted.\n",
       "*   **Collector (Anode):** The plate that collects the emitted electrons.\n",
       "\n",
       "When light of sufficient frequency shines on the emitter, electrons are ejected and travel to the collector, creating a current.\n",
       "\n",
       "### The Magic Formula\n",
       "\n",
       "The key equation that governs the photoelectric effect is:\n",
       "\n",
       "```\n",
       "E = hf = Φ + KE_max\n",
       "```\n",
       "\n",
       "Where:\n",
       "\n",
       "*   `E` is the energy of the photon.\n",
       "*   `h` is Planck's constant (approximately 6.626 x 10⁻³⁴ Js).\n",
       "*   `f` is the frequency of the light.\n",
       "*   `Φ` is the work function of the material.\n",
       "*   `KE_max` is the maximum kinetic energy of the emitted electrons.\n",
       "\n",
       "### Explanation\n",
       "\n",
       "*   A photon with energy `hf` strikes the metal surface.\n",
       "*   An amount of energy equal to the work function `Φ` is used to liberate the electron from the metal.\n",
       "*   The remaining energy appears as the kinetic energy `KE_max` of the emitted electron.\n",
       "\n",
       "### Important Observations and Implications\n",
       "\n",
       "1.  **Intensity Doesn't Matter (Below Threshold):** Increasing the intensity of light *below* the threshold frequency does *not* cause electron emission. It's like throwing more pebbles that are too light to knock something over.\n",
       "2.  **Frequency Matters:** The kinetic energy of the emitted electrons depends on the frequency of the light. Higher frequency means higher kinetic energy.\n",
       "3.  **Instantaneous Emission:** Electrons are emitted almost instantaneously (within about 10⁻⁹ seconds) after the light shines on the material.\n",
       "4.  **Einstein's Explanation:** Albert Einstein explained the photoelectric effect in 1905, which earned him the Nobel Prize in Physics in 1921. He proposed that light consists of discrete packets of energy (photons).\n",
       "\n",
       "### Let's Do a Fun Example!\n",
       "\n",
       "**Problem:**\n",
       "\n",
       "A metal has a work function of 2.0 eV. Light with a wavelength of 400 nm shines on the metal. What is the maximum kinetic energy of the emitted electrons?\n",
       "\n",
       "**Solution:**\n",
       "\n",
       "1.  **Convert Wavelength to Frequency:**\n",
       "\n",
       "    *   `c = fλ`, where `c` is the speed of light (3 x 10⁸ m/s) and `λ` is the wavelength.\n",
       "    *   `f = c / λ = (3 x 10⁸ m/s) / (400 x 10⁻⁹ m) = 7.5 x 10¹⁴ Hz`\n",
       "2.  **Calculate Photon Energy:**\n",
       "\n",
       "    *   `E = hf = (6.626 x 10⁻³⁴ Js) x (7.5 x 10¹⁴ Hz) = 4.97 x 10⁻¹⁹ J`\n",
       "3.  **Convert Work Function to Joules:**\n",
       "\n",
       "    *   `Φ = 2.0 eV = 2.0 x 1.602 x 10⁻¹⁹ J = 3.204 x 10⁻¹⁹ J`\n",
       "4.  **Calculate Maximum Kinetic Energy:**\n",
       "\n",
       "    *   `KE_max = E - Φ = (4.97 x 10⁻¹⁹ J) - (3.204 x 10⁻¹⁹ J) = 1.766 x 10⁻¹⁹ J`\n",
       "5.  **Convert Kinetic Energy to eV:**\n",
       "\n",
       "    *   `KE_max = (1.766 x 10⁻¹⁹ J) / (1.602 x 10⁻¹⁹ J/eV) ≈ 1.1 eV`\n",
       "\n",
       "So, the maximum kinetic energy of the emitted electrons is approximately 1.1 eV.\n",
       "\n",
       "### Real-World Applications\n",
       "\n",
       "*   **Photocells:** Used in light meters, automatic doors, and solar panels.\n",
       "*   **Digital Cameras:** The sensors in digital cameras use the photoelectric effect to convert light into electrical signals.\n",
       "*   **Medical Imaging:** Used in certain types of medical imaging devices.\n",
       "\n",
       "### Let's Recap!\n",
       "\n",
       "*   The photoelectric effect demonstrates the particle nature of light.\n",
       "*   Light comes in packets called photons.\n",
       "*   Electrons are emitted when light of sufficient frequency shines on a material.\n",
       "*   The key equation is `E = hf = Φ + KE_max`.\n",
       "\n",
       "And that's the photoelectric effect in a nutshell! I hope this lecture was enlightening (pun intended!). If you have any more questions or need further clarification, feel free to ask! Keep shining bright! 🌟"
      ],
      "text/plain": [
       "<IPython.core.display.Markdown object>"
      ]
     },
     "metadata": {},
     "output_type": "display_data"
    }
   ],
   "source": [
    "from IPython.display import display, Markdown\n",
    "display(Markdown(solution[\"messages\"][0].content))"
   ]
  },
  {
   "cell_type": "code",
   "execution_count": 25,
   "metadata": {},
   "outputs": [],
   "source": [
    "state = {\"messages\":[\"Find the value of ∫2x cos (x² – 5) with step by step solution\"]}"
   ]
  },
  {
   "cell_type": "code",
   "execution_count": 26,
   "metadata": {},
   "outputs": [
    {
     "name": "stdout",
     "output_type": "stream",
     "text": [
      "Find the value of ∫2x cos (x² – 5) with step by step solution\n"
     ]
    }
   ],
   "source": [
    "solution = science_bot(state)"
   ]
  },
  {
   "cell_type": "code",
   "execution_count": 28,
   "metadata": {},
   "outputs": [
    {
     "data": {
      "text/markdown": [
       "Okay, let's find the value of ∫2x cos (x² – 5) dx with a step-by-step solution. I'll make it super clear and fun!\n",
       "\n",
       "**Here's the problem:**\n",
       "\n",
       "∫2x cos (x² – 5) dx\n",
       "\n",
       "**Solution:**\n",
       "\n",
       "1.  **Recognize the Pattern**:\n",
       "    Notice that the derivative of x² – 5 is 2x, which is present in the integral. This suggests using substitution.\n",
       "\n",
       "2.  **Substitution**:\n",
       "    Let u = x² – 5\n",
       "    Then, du/dx = 2x\n",
       "    So, du = 2x dx\n",
       "\n",
       "3.  **Rewrite the Integral**:\n",
       "    Now, substitute u and du into the integral:\n",
       "    ∫ cos(u) du\n",
       "\n",
       "4.  **Integrate**:\n",
       "    The integral of cos(u) with respect to u is sin(u):\n",
       "    ∫ cos(u) du = sin(u) + C\n",
       "\n",
       "5.  **Substitute Back**:\n",
       "    Replace u with x² – 5:\n",
       "    sin(x² – 5) + C\n",
       "\n",
       "**Final Answer**:\n",
       "\n",
       "∫2x cos (x² – 5) dx = sin(x² – 5) + C\n",
       "\n",
       "**Summary**\n",
       "*   We recognized the pattern for substitution.\n",
       "*   We substituted u = x² – 5 and du = 2x dx.\n",
       "*   We integrated ∫ cos(u) du to get sin(u) + C.\n",
       "*   We substituted back to get the final answer: sin(x² – 5) + C.\n",
       "\n",
       "I hope this helps! Let me know if you have any more questions or need further clarification. Happy studying!"
      ],
      "text/plain": [
       "<IPython.core.display.Markdown object>"
      ]
     },
     "metadata": {},
     "output_type": "display_data"
    }
   ],
   "source": [
    "from IPython.display import display, Markdown\n",
    "display(Markdown(solution[\"messages\"][0].content))"
   ]
  },
  {
   "cell_type": "code",
   "execution_count": null,
   "metadata": {},
   "outputs": [],
   "source": []
  }
 ],
 "metadata": {
  "kernelspec": {
   "display_name": "Python 3",
   "language": "python",
   "name": "python3"
  },
  "language_info": {
   "codemirror_mode": {
    "name": "ipython",
    "version": 3
   },
   "file_extension": ".py",
   "mimetype": "text/x-python",
   "name": "python",
   "nbconvert_exporter": "python",
   "pygments_lexer": "ipython3",
   "version": "3.12.0"
  }
 },
 "nbformat": 4,
 "nbformat_minor": 2
}
