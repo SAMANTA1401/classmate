{
 "cells": [
  {
   "cell_type": "markdown",
   "metadata": {},
   "source": [
    "Database Schema Update"
   ]
  },
  {
   "cell_type": "code",
   "execution_count": null,
   "metadata": {
    "vscode": {
     "languageId": "sql"
    }
   },
   "outputs": [],
   "source": [
    "CREATE TABLE Users (\n",
    "    user_id INT PRIMARY KEY AUTO_INCREMENT,\n",
    "    username VARCHAR(255) UNIQUE NOT NULL\n",
    ");\n",
    "\n",
    "CREATE TABLE Subjects (\n",
    "    subject_id INT PRIMARY KEY AUTO_INCREMENT,\n",
    "    user_id INT,\n",
    "    subject_name VARCHAR(255) NOT NULL,\n",
    "    CONSTRAINT unique_user_subject UNIQUE (user_id, subject_name),\n",
    "    FOREIGN KEY (user_id) REFERENCES Users(user_id) ON DELETE CASCADE\n",
    ");\n",
    "\n",
    "CREATE TABLE Chapters (\n",
    "    chapter_id INT PRIMARY KEY AUTO_INCREMENT,\n",
    "    subject_id INT,\n",
    "    chapter_name VARCHAR(255) NOT NULL,\n",
    "    CONSTRAINT unique_subject_chapter UNIQUE (subject_id, chapter_name),\n",
    "    FOREIGN KEY (subject_id) REFERENCES Subjects(subject_id) ON DELETE CASCADE\n",
    ");\n",
    "\n",
    "CREATE TABLE Topics (\n",
    "    topic_id INT PRIMARY KEY AUTO_INCREMENT,\n",
    "    chapter_id INT,\n",
    "    topic_name VARCHAR(255) NOT NULL,\n",
    "    CONSTRAINT unique_chapter_topic UNIQUE (chapter_id, topic_name),\n",
    "    FOREIGN KEY (chapter_id) REFERENCES Chapters(chapter_id) ON DELETE CASCADE\n",
    ");\n",
    "\n",
    "CREATE TABLE Contents (\n",
    "    content_id INT PRIMARY KEY AUTO_INCREMENT,\n",
    "    topic_id INT,\n",
    "    content_text TEXT NOT NULL,\n",
    "    FOREIGN KEY (topic_id) REFERENCES Topics(topic_id) ON DELETE CASCADE\n",
    ");\n",
    "\n"
   ]
  },
  {
   "cell_type": "markdown",
   "metadata": {
    "vscode": {
     "languageId": "sql"
    }
   },
   "source": [
    "\n",
    "insertion"
   ]
  },
  {
   "cell_type": "code",
   "execution_count": null,
   "metadata": {
    "vscode": {
     "languageId": "sql"
    }
   },
   "outputs": [],
   "source": [
    "-- Adding users\n",
    "INSERT INTO Users (username) VALUES ('john_doe');\n",
    "INSERT INTO Users (username) VALUES ('jane_smith');\n",
    "\n",
    "-- Adding subjects for users\n",
    "INSERT INTO Subjects (user_id, subject_name) VALUES (1, 'Physics'); -- OK\n",
    "INSERT INTO Subjects (user_id, subject_name) VALUES (1, 'Mathematics'); -- OK\n",
    "INSERT INTO Subjects (user_id, subject_name) VALUES (2, 'Physics'); -- OK (same subject, different user)\n",
    "INSERT INTO Subjects (user_id, subject_name) VALUES (1, 'Physics'); -- ERROR (duplicate subject for same user)\n",
    "\n",
    "-- Adding chapters\n",
    "INSERT INTO Chapters (subject_id, chapter_name) VALUES (1, 'Mechanics'); -- OK\n",
    "INSERT INTO Chapters (subject_id, chapter_name) VALUES (1, 'Thermodynamics'); -- OK\n",
    "INSERT INTO Chapters (subject_id, chapter_name) VALUES (1, 'Mechanics'); -- ERROR (duplicate chapter under same subject)\n",
    "\n",
    "-- Adding topics\n",
    "INSERT INTO Topics (chapter_id, topic_name) VALUES (1, 'Newton’s Laws'); -- OK\n",
    "INSERT INTO Topics (chapter_id, topic_name) VALUES (1, 'Work and Energy'); -- OK\n",
    "INSERT INTO Topics (chapter_id, topic_name) VALUES (1, 'Newton’s Laws'); -- ERROR (duplicate topic under same chapter)\n"
   ]
  },
  {
   "cell_type": "markdown",
   "metadata": {},
   "source": [
    "Insert Content for a Topic"
   ]
  },
  {
   "cell_type": "code",
   "execution_count": null,
   "metadata": {
    "vscode": {
     "languageId": "sql"
    }
   },
   "outputs": [],
   "source": [
    "INSERT INTO Contents (topic_id, content_text)\n",
    "SELECT topic_id, 'This is content for Gravitation'\n",
    "FROM Topics \n",
    "WHERE topic_name = 'Gravitation' \n",
    "AND chapter_id = (SELECT chapter_id FROM Chapters WHERE chapter_name = 'Mechanics');\n"
   ]
  },
  {
   "cell_type": "markdown",
   "metadata": {},
   "source": [
    "Retrieve All Topics & Their Content for user_id = 1"
   ]
  },
  {
   "cell_type": "code",
   "execution_count": null,
   "metadata": {
    "vscode": {
     "languageId": "sql"
    }
   },
   "outputs": [],
   "source": [
    "SELECT \n",
    "    S.subject_name, \n",
    "    C.chapter_name, \n",
    "    T.topic_name,\n",
    "    COALESCE(CT.content_text, 'No Content Available') AS content\n",
    "FROM Subjects S\n",
    "JOIN Chapters C ON S.subject_id = C.subject_id\n",
    "JOIN Topics T ON C.chapter_id = T.chapter_id\n",
    "LEFT JOIN Contents CT ON T.topic_id = CT.topic_id  -- Include content\n",
    "WHERE S.user_id = 1\n",
    "ORDER BY S.subject_name, C.chapter_name, T.topic_name;\n"
   ]
  },
  {
   "cell_type": "markdown",
   "metadata": {},
   "source": [
    "Insert Subject, Chapter, Topic & Content in One Query"
   ]
  },
  {
   "cell_type": "code",
   "execution_count": null,
   "metadata": {
    "vscode": {
     "languageId": "sql"
    }
   },
   "outputs": [],
   "source": [
    "-- Step 1: Insert \"Physics\" if not exists\n",
    "INSERT INTO Subjects (user_id, subject_name)\n",
    "SELECT 1, 'Physics' \n",
    "WHERE NOT EXISTS (\n",
    "    SELECT 1 FROM Subjects WHERE subject_name = 'Physics' AND user_id = 1\n",
    ");\n",
    "\n",
    "-- Step 2: Get subject_id\n",
    "SET @subject_id = (SELECT subject_id FROM Subjects WHERE subject_name = 'Physics' AND user_id = 1);\n",
    "\n",
    "-- Step 3: Insert \"Mechanics\" if not exists\n",
    "INSERT INTO Chapters (subject_id, chapter_name)\n",
    "SELECT @subject_id, 'Mechanics'\n",
    "WHERE NOT EXISTS (\n",
    "    SELECT 1 FROM Chapters WHERE chapter_name = 'Mechanics' AND subject_id = @subject_id\n",
    ");\n",
    "\n",
    "-- Step 4: Get chapter_id\n",
    "SET @chapter_id = (SELECT chapter_id FROM Chapters WHERE chapter_name = 'Mechanics' AND subject_id = @subject_id);\n",
    "\n",
    "-- Step 5: Insert \"Gravitation\" if not exists\n",
    "INSERT INTO Topics (chapter_id, topic_name)\n",
    "SELECT @chapter_id, 'Gravitation'\n",
    "WHERE NOT EXISTS (\n",
    "    SELECT 1 FROM Topics WHERE topic_name = 'Gravitation' AND chapter_id = @chapter_id\n",
    ");\n",
    "\n",
    "-- Step 6: Insert Content for \"Gravitation\"\n",
    "SET @topic_id = (SELECT topic_id FROM Topics WHERE topic_name = 'Gravitation' AND chapter_id = @chapter_id);\n",
    "\n",
    "INSERT INTO Contents (topic_id, content_text)\n",
    "SELECT @topic_id, 'This is the content for Gravitation'\n",
    "WHERE NOT EXISTS (\n",
    "    SELECT 1 FROM Contents WHERE topic_id = @topic_id\n",
    ");\n"
   ]
  },
  {
   "cell_type": "markdown",
   "metadata": {},
   "source": [
    "Retrieve Subjects for user_id = 1"
   ]
  },
  {
   "cell_type": "code",
   "execution_count": null,
   "metadata": {
    "vscode": {
     "languageId": "sql"
    }
   },
   "outputs": [],
   "source": [
    "SELECT subject_id, subject_name \n",
    "FROM Subjects \n",
    "WHERE user_id = 1;\n"
   ]
  },
  {
   "cell_type": "markdown",
   "metadata": {},
   "source": [
    "Retrieve Chapters for subject_id = 1 (Belonging to user_id = 1)"
   ]
  },
  {
   "cell_type": "code",
   "execution_count": null,
   "metadata": {
    "vscode": {
     "languageId": "sql"
    }
   },
   "outputs": [],
   "source": [
    "SELECT chapter_id, chapter_name \n",
    "FROM Chapters \n",
    "WHERE subject_id = 1;\n"
   ]
  },
  {
   "cell_type": "markdown",
   "metadata": {},
   "source": [
    "Retrieve Topics for chapter_id = 1 (Under subject_id = 1, Belonging to user_id = 1)"
   ]
  },
  {
   "cell_type": "code",
   "execution_count": null,
   "metadata": {
    "vscode": {
     "languageId": "sql"
    }
   },
   "outputs": [],
   "source": [
    "SELECT T.topic_id, T.topic_name \n",
    "FROM Topics T\n",
    "JOIN Chapters C ON T.chapter_id = C.chapter_id\n",
    "JOIN Subjects S ON C.subject_id = S.subject_id\n",
    "WHERE C.chapter_id = 1 AND S.subject_id = 1 AND S.user_id = 1;\n"
   ]
  },
  {
   "cell_type": "markdown",
   "metadata": {},
   "source": [
    "SQL Query to Get All Subjects, Chapters, and Topics for user_id = 1"
   ]
  },
  {
   "cell_type": "code",
   "execution_count": null,
   "metadata": {
    "vscode": {
     "languageId": "sql"
    }
   },
   "outputs": [],
   "source": [
    "SELECT \n",
    "    S.subject_id, S.subject_name, \n",
    "    C.chapter_id, C.chapter_name, \n",
    "    T.topic_id, T.topic_name\n",
    "FROM Subjects S\n",
    "LEFT JOIN Chapters C ON S.subject_id = C.subject_id\n",
    "LEFT JOIN Topics T ON C.chapter_id = T.chapter_id\n",
    "WHERE S.user_id = 1\n",
    "ORDER BY S.subject_id, C.chapter_id, T.topic_id;\n"
   ]
  },
  {
   "cell_type": "code",
   "execution_count": null,
   "metadata": {
    "vscode": {
     "languageId": "sql"
    }
   },
   "outputs": [],
   "source": [
    "-- Example Output for user_id = 1\n",
    "-- subject_id\tsubject_name\tchapter_id\tchapter_name\ttopic_id\ttopic_name\n",
    "-- 1\tPhysics\t1\tMechanics\t1\tNewton’s Laws\n",
    "-- 1\tPhysics\t1\tMechanics\t2\tWork & Energy\n",
    "-- 1\tPhysics\t2\tThermodynamics\tNULL\tNULL\n",
    "-- 2\tMathematics\t3\tAlgebra\t3\tQuadratic Equations\n",
    "-- 2\tMathematics\t3\tAlgebra\t4\tMatrices\n"
   ]
  },
  {
   "cell_type": "markdown",
   "metadata": {},
   "source": [
    "Alternative: Grouped Result Using GROUP_CONCAT"
   ]
  },
  {
   "cell_type": "markdown",
   "metadata": {},
   "source": []
  },
  {
   "cell_type": "code",
   "execution_count": null,
   "metadata": {
    "vscode": {
     "languageId": "sql"
    }
   },
   "outputs": [],
   "source": [
    "SELECT \n",
    "    S.subject_name,\n",
    "    GROUP_CONCAT(DISTINCT C.chapter_name ORDER BY C.chapter_id SEPARATOR ', ') AS chapters,\n",
    "    GROUP_CONCAT(DISTINCT T.topic_name ORDER BY T.topic_id SEPARATOR ', ') AS topics\n",
    "FROM Subjects S\n",
    "LEFT JOIN Chapters C ON S.subject_id = C.subject_id\n",
    "LEFT JOIN Topics T ON C.chapter_id = T.chapter_id\n",
    "WHERE S.user_id = 1\n",
    "GROUP BY S.subject_id;\n"
   ]
  },
  {
   "cell_type": "markdown",
   "metadata": {},
   "source": [
    "Find subject_id for \"Physics\" (for user_id = 1)"
   ]
  },
  {
   "cell_type": "code",
   "execution_count": null,
   "metadata": {
    "vscode": {
     "languageId": "sql"
    }
   },
   "outputs": [],
   "source": [
    "SELECT subject_id \n",
    "FROM Subjects \n",
    "WHERE subject_name = 'Physics' AND user_id = 1;\n"
   ]
  },
  {
   "cell_type": "markdown",
   "metadata": {},
   "source": [
    "Find chapter_id for \"Mechanics\" under \"Physics\""
   ]
  },
  {
   "cell_type": "code",
   "execution_count": null,
   "metadata": {
    "vscode": {
     "languageId": "sql"
    }
   },
   "outputs": [],
   "source": [
    "SELECT chapter_id \n",
    "FROM Chapters \n",
    "WHERE chapter_name = 'Mechanics' AND subject_id = X;\n"
   ]
  },
  {
   "cell_type": "markdown",
   "metadata": {},
   "source": [
    "Insert \"Gravitation\" into the Topics Table"
   ]
  },
  {
   "cell_type": "code",
   "execution_count": null,
   "metadata": {
    "vscode": {
     "languageId": "sql"
    }
   },
   "outputs": [],
   "source": [
    "INSERT INTO Topics (chapter_id, topic_name) \n",
    "VALUES (Y, 'Gravitation');\n"
   ]
  },
  {
   "cell_type": "markdown",
   "metadata": {},
   "source": [
    "Full SQL Query (Without Manually Checking IDs)"
   ]
  },
  {
   "cell_type": "code",
   "execution_count": null,
   "metadata": {
    "vscode": {
     "languageId": "sql"
    }
   },
   "outputs": [],
   "source": [
    "INSERT INTO Topics (chapter_id, topic_name)\n",
    "VALUES (\n",
    "    (SELECT chapter_id \n",
    "     FROM Chapters \n",
    "     WHERE chapter_name = 'Mechanics' \n",
    "     AND subject_id = (SELECT subject_id \n",
    "                       FROM Subjects \n",
    "                       WHERE subject_name = 'Physics' \n",
    "                       AND user_id = 1)\n",
    "    ), \n",
    "    'Gravitation'\n",
    ");\n"
   ]
  },
  {
   "cell_type": "markdown",
   "metadata": {},
   "source": [
    "Full SQL Query (Handle Missing Entries)"
   ]
  },
  {
   "cell_type": "code",
   "execution_count": null,
   "metadata": {
    "vscode": {
     "languageId": "sql"
    }
   },
   "outputs": [],
   "source": [
    "-- Step 1: Insert \"Physics\" if not exists\n",
    "INSERT INTO Subjects (user_id, subject_name)\n",
    "SELECT 1, 'Physics' \n",
    "WHERE NOT EXISTS (\n",
    "    SELECT 1 FROM Subjects WHERE subject_name = 'Physics' AND user_id = 1\n",
    ");\n",
    "\n",
    "-- Step 2: Get subject_id for \"Physics\"\n",
    "SET @subject_id = (SELECT subject_id FROM Subjects WHERE subject_name = 'Physics' AND user_id = 1);\n",
    "\n",
    "-- Step 3: Insert \"Mechanics\" if not exists\n",
    "INSERT INTO Chapters (subject_id, chapter_name)\n",
    "SELECT @subject_id, 'Mechanics'\n",
    "WHERE NOT EXISTS (\n",
    "    SELECT 1 FROM Chapters WHERE chapter_name = 'Mechanics' AND subject_id = @subject_id\n",
    ");\n",
    "\n",
    "-- Step 4: Get chapter_id for \"Mechanics\"\n",
    "SET @chapter_id = (SELECT chapter_id FROM Chapters WHERE chapter_name = 'Mechanics' AND subject_id = @subject_id);\n",
    "\n",
    "-- Step 5: Insert \"Gravitation\" into Topics\n",
    "INSERT INTO Topics (chapter_id, topic_name)\n",
    "SELECT @chapter_id, 'Gravitation'\n",
    "WHERE NOT EXISTS (\n",
    "    SELECT 1 FROM Topics WHERE topic_name = 'Gravitation' AND chapter_id = @chapter_id\n",
    ");\n"
   ]
  },
  {
   "cell_type": "markdown",
   "metadata": {},
   "source": [
    "SQL Query to Get All Topics for user_id = 1"
   ]
  },
  {
   "cell_type": "code",
   "execution_count": null,
   "metadata": {
    "vscode": {
     "languageId": "sql"
    }
   },
   "outputs": [],
   "source": [
    "SELECT \n",
    "    S.subject_name, \n",
    "    C.chapter_name, \n",
    "    T.topic_name\n",
    "FROM Subjects S\n",
    "JOIN Chapters C ON S.subject_id = C.subject_id\n",
    "JOIN Topics T ON C.chapter_id = T.chapter_id\n",
    "WHERE S.user_id = 1\n",
    "ORDER BY S.subject_name, C.chapter_name, T.topic_name;\n"
   ]
  }
 ],
 "metadata": {
  "kernelspec": {
   "display_name": "Python 3",
   "language": "python",
   "name": "python3"
  },
  "language_info": {
   "codemirror_mode": {
    "name": "ipython",
    "version": 3
   },
   "file_extension": ".py",
   "mimetype": "text/x-python",
   "name": "python",
   "nbconvert_exporter": "python",
   "pygments_lexer": "ipython3",
   "version": "3.12.0"
  }
 },
 "nbformat": 4,
 "nbformat_minor": 2
}
