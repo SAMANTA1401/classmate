{
 "cells": [
  {
   "cell_type": "code",
   "execution_count": 2,
   "metadata": {},
   "outputs": [],
   "source": [
    "import os\n",
    "from dotenv import load_dotenv\n",
    "load_dotenv()\n",
    "\n",
    "GOOGLE_API_KEY=os.getenv(\"GEMINI_API_KEY\")\n",
    "os.environ[\"GOOGLE_API_KEY\"]=GOOGLE_API_KEY\n",
    "\n",
    "GROQ_API_KEY=os.getenv(\"GROQ_API_KEY\")\n",
    "os.environ[\"GROQ_API_KEY\"]=GROQ_API_KEY"
   ]
  },
  {
   "cell_type": "code",
   "execution_count": 6,
   "metadata": {},
   "outputs": [],
   "source": [
    "from langchain_google_genai import ChatGoogleGenerativeAI\n",
    "llm1 = ChatGoogleGenerativeAI(model=\"gemini-2.0-flash\")"
   ]
  },
  {
   "cell_type": "code",
   "execution_count": 8,
   "metadata": {},
   "outputs": [],
   "source": [
    "from langchain_groq import ChatGroq\n",
    "llm2 = ChatGroq(model=\"gemma2-9b-it\")"
   ]
  },
  {
   "cell_type": "code",
   "execution_count": null,
   "metadata": {},
   "outputs": [],
   "source": [
    "formatted_response = llm1.invoke(\"hi\").content # gemini-2.0-flash by google"
   ]
  },
  {
   "cell_type": "code",
   "execution_count": null,
   "metadata": {},
   "outputs": [],
   "source": [
    "formatted_response = llm2.invoke(\"hi\").content # gemma chat groq"
   ]
  },
  {
   "cell_type": "code",
   "execution_count": 10,
   "metadata": {},
   "outputs": [],
   "source": [
    "from langchain_google_genai import ChatGoogleGenerativeAI\n",
    "llm3 = ChatGoogleGenerativeAI(model=\"gemini-2.0-flash-lite\")"
   ]
  },
  {
   "cell_type": "code",
   "execution_count": 11,
   "metadata": {},
   "outputs": [],
   "source": [
    "formatted_response = llm3.invoke(\"hi\").content # flash lite"
   ]
  },
  {
   "cell_type": "code",
   "execution_count": 12,
   "metadata": {},
   "outputs": [],
   "source": [
    "from langchain_groq import ChatGroq\n",
    "llm4 = ChatGroq(model=\"llama3-8b-8192\")"
   ]
  },
  {
   "cell_type": "code",
   "execution_count": 17,
   "metadata": {},
   "outputs": [],
   "source": [
    "formatted_response1 = llm1.invoke(\"Find the value of ∫2x cos (x² – 5) with step by step solution\").content # flash lite"
   ]
  },
  {
   "cell_type": "code",
   "execution_count": 18,
   "metadata": {},
   "outputs": [
    {
     "data": {
      "text/markdown": [
       "Okay, let's solve the integral step-by-step.\n",
       "\n",
       "**1.  Identify a suitable substitution:**\n",
       "\n",
       "   Notice that the derivative of `x² - 5` is `2x`, which appears in the integrand. This suggests a substitution. Let:\n",
       "\n",
       "   `u = x² - 5`\n",
       "\n",
       "**2.  Find the differential du:**\n",
       "\n",
       "   Differentiate both sides of the substitution equation with respect to x:\n",
       "\n",
       "   `du/dx = 2x`\n",
       "\n",
       "   Multiply both sides by `dx`:\n",
       "\n",
       "   `du = 2x dx`\n",
       "\n",
       "**3.  Rewrite the integral in terms of u:**\n",
       "\n",
       "   Substitute `u` and `du` into the original integral:\n",
       "\n",
       "   ∫ 2x cos(x² - 5) dx  =  ∫ cos(u) du\n",
       "\n",
       "**4.  Evaluate the integral with respect to u:**\n",
       "\n",
       "   The integral of `cos(u)` is `sin(u)`:\n",
       "\n",
       "   ∫ cos(u) du = sin(u) + C\n",
       "\n",
       "   where C is the constant of integration.\n",
       "\n",
       "**5.  Substitute back to express the result in terms of x:**\n",
       "\n",
       "   Replace `u` with `x² - 5`:\n",
       "\n",
       "   sin(u) + C = sin(x² - 5) + C\n",
       "\n",
       "**Therefore, the solution to the integral is:**\n",
       "\n",
       "∫ 2x cos(x² – 5) dx = sin(x² - 5) + C"
      ],
      "text/plain": [
       "<IPython.core.display.Markdown object>"
      ]
     },
     "metadata": {},
     "output_type": "display_data"
    }
   ],
   "source": [
    "from IPython.display import display, Markdown\n",
    "display(Markdown(formatted_response1))"
   ]
  },
  {
   "cell_type": "code",
   "execution_count": null,
   "metadata": {},
   "outputs": [],
   "source": [
    "formatted_response4 = llm4.invoke(\"Find the value of ∫2x cos (x² – 5) with step by step solution\").content # flash lite"
   ]
  },
  {
   "cell_type": "code",
   "execution_count": null,
   "metadata": {},
   "outputs": [
    {
     "data": {
      "text/markdown": [
       "A nice integral! Let's break it down step by step.\n",
       "\n",
       "The integral is:\n",
       "\n",
       "$$\\int 2x \\cos(x^2 - 5) dx$$\n",
       "\n",
       "To evaluate this integral, we'll need to use integration by substitution and some trigonometric identities.\n",
       "\n",
       "**Step 1: Substitute u = x^2 - 5**\n",
       "\n",
       "Let's substitute u = x^2 - 5, so that du/dx = 2x. This will help us to eliminate the x^2 term in the integral.\n",
       "\n",
       "du = 2x dx\n",
       "\n",
       "Now, we'll rewrite the integral in terms of u:\n",
       "\n",
       "$$\\int \\cos(u) du$$\n",
       "\n",
       "**Step 2: Integrate the cosine term**\n",
       "\n",
       "The integral of cosine is sine. So, we'll integrate the cosine term:\n",
       "\n",
       "$$\\int \\cos(u) du = \\sin(u) + C$$\n",
       "\n",
       "where C is the constant of integration.\n",
       "\n",
       "**Step 3: Substitute back u = x^2 - 5**\n",
       "\n",
       "Now, we'll substitute back u = x^2 - 5 to express the answer in terms of x:\n",
       "\n",
       "$$\\sin(x^2 - 5) + C$$\n",
       "\n",
       "**Step 4: Simplify the answer**\n",
       "\n",
       "The answer is:\n",
       "\n",
       "$$\\boxed{\\int 2x \\cos(x^2 - 5) dx = \\sin(x^2 - 5) + C}$$\n",
       "\n",
       "And that's it! We've evaluated the integral.\n",
       "\n",
       "Note that the constant of integration C is not specified, as it depends on the initial conditions or the particular problem context."
      ],
      "text/plain": [
       "<IPython.core.display.Markdown object>"
      ]
     },
     "metadata": {},
     "output_type": "display_data"
    }
   ],
   "source": [
    "from IPython.display import display, Markdown\n",
    "display(Markdown(formatted_response4))"
   ]
  },
  {
   "cell_type": "code",
   "execution_count": 19,
   "metadata": {},
   "outputs": [],
   "source": [
    "formatted_response4 = llm4.invoke(\"create a study plan for photosynthesis for class 11\").content # flash lite"
   ]
  },
  {
   "cell_type": "code",
   "execution_count": 20,
   "metadata": {},
   "outputs": [
    {
     "data": {
      "text/markdown": [
       "Here's a study plan for photosynthesis for Class 11:\n",
       "\n",
       "**Day 1-2: Introduction to Photosynthesis**\n",
       "\n",
       "1. Read Chapter 8 of your biology textbook and take notes on:\n",
       "\t* Definition of photosynthesis\n",
       "\t* Importance of photosynthesis\n",
       "\t* Types of photosynthesis (aerobic and anaerobic)\n",
       "2. Watch video lectures or online tutorials on photosynthesis to get a better understanding of the concept.\n",
       "3. Make a concept map or diagram to visualize the process of photosynthesis.\n",
       "\n",
       "**Day 3-4: Light-Dependent Reactions**\n",
       "\n",
       "1. Read Chapter 8 of your biology textbook and take notes on:\n",
       "\t* Light-dependent reactions (light reaction)\n",
       "\t* Role of light energy in photosynthesis\n",
       "\t* Light-harvesting complexes (LHC)\n",
       "\t* ATP and NADPH synthesis\n",
       "2. Practice problems:\n",
       "\t* Draw a diagram of the light-dependent reactions\n",
       "\t* Label the components of the light-dependent reactions\n",
       "\t* Explain the role of light energy in the light-dependent reactions\n",
       "3. Watch video lectures or online tutorials on light-dependent reactions to reinforce your understanding.\n",
       "\n",
       "**Day 5-6: Light-Independent Reactions**\n",
       "\n",
       "1. Read Chapter 8 of your biology textbook and take notes on:\n",
       "\t* Light-independent reactions (Calvin cycle)\n",
       "\t* Role of CO2 in photosynthesis\n",
       "\t* RuBisCO enzyme\n",
       "\t* Synthesis of glucose from CO2\n",
       "2. Practice problems:\n",
       "\t* Draw a diagram of the light-independent reactions\n",
       "\t* Label the components of the light-independent reactions\n",
       "\t* Explain the role of CO2 in the light-independent reactions\n",
       "3. Watch video lectures or online tutorials on light-independent reactions to reinforce your understanding.\n",
       "\n",
       "**Day 7-8: Factors Affecting Photosynthesis**\n",
       "\n",
       "1. Read Chapter 8 of your biology textbook and take notes on:\n",
       "\t* Factors that affect photosynthesis (light intensity, temperature, water, CO2)\n",
       "\t* Effects of these factors on photosynthesis\n",
       "2. Practice problems:\n",
       "\t* Explain how light intensity affects photosynthesis\n",
       "\t* Describe the effects of temperature on photosynthesis\n",
       "\t* Discuss the role of water and CO2 in photosynthesis\n",
       "3. Watch video lectures or online tutorials on factors affecting photosynthesis to reinforce your understanding.\n",
       "\n",
       "**Day 9-10: Review and Practice**\n",
       "\n",
       "1. Review all the concepts covered in the study plan\n",
       "2. Practice problems from your textbook or online resources\n",
       "3. Attempt to solve past year question papers or online quizzes to test your understanding\n",
       "\n",
       "**Additional Tips**\n",
       "\n",
       "* Make sure to review and practice regularly to avoid last-minute cramming\n",
       "* Use flashcards to memorize key terms and concepts\n",
       "* Teach someone else what you've learned to reinforce your own understanding\n",
       "* Use diagrams and flowcharts to visualize the process of photosynthesis\n",
       "\n",
       "By following this study plan, you should be well-prepared for your Class 11 biology exams on photosynthesis!"
      ],
      "text/plain": [
       "<IPython.core.display.Markdown object>"
      ]
     },
     "metadata": {},
     "output_type": "display_data"
    }
   ],
   "source": [
    "from IPython.display import display, Markdown\n",
    "display(Markdown(formatted_response4))"
   ]
  },
  {
   "cell_type": "code",
   "execution_count": 21,
   "metadata": {},
   "outputs": [],
   "source": [
    "formatted_response4 = llm4.invoke(\"Battle Of Plassey 1757 for upsc\").content # flash lite"
   ]
  },
  {
   "cell_type": "code",
   "execution_count": 22,
   "metadata": {},
   "outputs": [
    {
     "data": {
      "text/markdown": [
       "A crucial event in Indian history!\n",
       "\n",
       "Here's a detailed summary of the Battle of Plassey (1757) for UPSC:\n",
       "\n",
       "**Background:**\n",
       "\n",
       "In the mid-18th century, the British East India Company (EIC) was expanding its influence in India. The company's power was growing, and it was facing challenges from the Mughal Empire and other regional powers. In 1756, the EIC's Governor-General, Robert Clive, was appointed to strengthen the company's position in India.\n",
       "\n",
       "**Causes of the Battle:**\n",
       "\n",
       "The Battle of Plassey was sparked by a series of events:\n",
       "\n",
       "1. **Battle of Calcutta**: In 1756, the city of Calcutta (now Kolkata) was overrun by Siraj-ud-Daula, the Nawab of Bengal. The EIC's forces were defeated, and many British officials were imprisoned in the infamous Black Hole of Calcutta.\n",
       "2. **Revenge and Re-conquest**: Clive, determined to avenge the defeat and reclaim Calcutta, led a small force to Bengal. He formed an alliance with the Rohilla Afghans, who were opposed to Siraj-ud-Daula's rule.\n",
       "3. **Siraj-ud-Daula's Weaknesses**: Siraj-ud-Daula's army was divided, and he had alienated many of his nobles. Clive exploited these weaknesses by offering generous terms to defecting nobles and merchants.\n",
       "\n",
       "**The Battle:**\n",
       "\n",
       "The Battle of Plassey took place on June 23, 1757, near the village of Plassey, in modern-day West Bengal, India. The British forces, led by Clive, consisted of around 3,000 troops, including European soldiers, sepoys (Indian troops), and native mercenaries. Siraj-ud-Daula's army, estimated to be around 50,000 strong, was largely composed of cavalry and infantry.\n",
       "\n",
       "The battle was a decisive victory for the British. Clive's forces used effective artillery and tactics to outmaneuver and defeat the Nawab's army. Many of Siraj-ud-Daula's troops deserted or fled, and the Nawab himself escaped.\n",
       "\n",
       "**Consequences:**\n",
       "\n",
       "The Battle of Plassey had significant consequences:\n",
       "\n",
       "1. **British Dominance**: The battle marked the beginning of British dominance in India. The EIC's power and influence grew, and it became a major player in Indian politics.\n",
       "2. **Nawab's Downfall**: Siraj-ud-Daula was defeated, and his rule was eventually ended. The Mughal Empire, already weakened, continued its decline.\n",
       "3. **Expansion of British India**: The victory at Plassey led to further British expansion in India. The company acquired more territories, and its influence extended into the Deccan Plateau and other regions.\n",
       "4. **Impact on Indian Society**: The battle had significant social and economic implications. The British established a new system of administration, which led to changes in land tenure, taxation, and trade.\n",
       "\n",
       "**Key Points for UPSC:**\n",
       "\n",
       "1. **Date**: June 23, 1757\n",
       "2. **Location**: Plassey, West Bengal, India\n",
       "3. **British Forces**: Led by Robert Clive, around 3,000 troops\n",
       "4. **Nawab's Forces**: Led by Siraj-ud-Daula, around 50,000 troops\n",
       "5. **Causes**: Revenge for the Battle of Calcutta, exploiting Siraj-ud-Daula's weaknesses\n",
       "6. **Consequences**: British dominance in India, downfall of Siraj-ud-Daula, expansion of British India, and impact on Indian society\n",
       "\n",
       "Remember to highlight the significance of the Battle of Plassey in the context of British expansion in India and its long-term consequences for Indian society and politics. Good luck with your UPSC preparations!"
      ],
      "text/plain": [
       "<IPython.core.display.Markdown object>"
      ]
     },
     "metadata": {},
     "output_type": "display_data"
    }
   ],
   "source": [
    "from IPython.display import display, Markdown\n",
    "display(Markdown(formatted_response4))"
   ]
  },
  {
   "cell_type": "code",
   "execution_count": 23,
   "metadata": {},
   "outputs": [],
   "source": [
    "formatted_response4 = llm4.invoke(\"create a quizz for photosynthesis neet exam \").content # flash lite"
   ]
  },
  {
   "cell_type": "code",
   "execution_count": 24,
   "metadata": {},
   "outputs": [
    {
     "data": {
      "text/markdown": [
       "Here's a quiz on photosynthesis for NEET exam:\n",
       "\n",
       "**Section A: Multiple Choice Questions**\n",
       "\n",
       "1. What is the process by which plants make their own food?\n",
       "a) Respiration\n",
       "b) Photosynthesis\n",
       "c) Fermentation\n",
       "d) Decomposition\n",
       "\n",
       "Answer: b) Photosynthesis\n",
       "\n",
       "2. Which of the following is NOT a product of photosynthesis?\n",
       "a) Glucose\n",
       "b) Oxygen\n",
       "c) Carbon dioxide\n",
       "d) Water\n",
       "\n",
       "Answer: c) Carbon dioxide\n",
       "\n",
       "3. What is the role of light in photosynthesis?\n",
       "a) To break down glucose\n",
       "b) To synthesize ATP\n",
       "c) To produce oxygen\n",
       "d) To absorb carbon dioxide\n",
       "\n",
       "Answer: c) To produce oxygen\n",
       "\n",
       "4. Which pigment is responsible for absorbing blue and red light in photosynthesis?\n",
       "a) Chlorophyll a\n",
       "b) Chlorophyll b\n",
       "c) Carotenoids\n",
       "d) Anthocyanins\n",
       "\n",
       "Answer: a) Chlorophyll a\n",
       "\n",
       "5. What is the byproduct of oxygen production during photosynthesis?\n",
       "a) ATP\n",
       "b) NADPH\n",
       "c) Glucose\n",
       "d) Water\n",
       "\n",
       "Answer: a) ATP\n",
       "\n",
       "6. Which of the following is a characteristic of C3 plants?\n",
       "a) They have a higher rate of photosynthesis\n",
       "b) They have a lower rate of photosynthesis\n",
       "c) They have a different type of chloroplast\n",
       "d) They have a different type of stomata\n",
       "\n",
       "Answer: b) They have a lower rate of photosynthesis\n",
       "\n",
       "7. What is the function of stomata in photosynthesis?\n",
       "a) To release oxygen\n",
       "b) To absorb carbon dioxide\n",
       "c) To release water vapor\n",
       "d) To absorb light\n",
       "\n",
       "Answer: b) To absorb carbon dioxide\n",
       "\n",
       "8. Which of the following is NOT a factor that affects photosynthesis?\n",
       "a) Light intensity\n",
       "b) Temperature\n",
       "c) Water availability\n",
       "d) Gravity\n",
       "\n",
       "Answer: d) Gravity\n",
       "\n",
       "9. What is the role of water in photosynthesis?\n",
       "a) To produce glucose\n",
       "b) To produce oxygen\n",
       "c) To absorb carbon dioxide\n",
       "d) To release ATP\n",
       "\n",
       "Answer: c) To absorb carbon dioxide\n",
       "\n",
       "10. Which of the following is a type of photosynthetic reaction?\n",
       "a) Light-dependent reaction\n",
       "b) Light-independent reaction\n",
       "c) Fermentation\n",
       "d) Respiration\n",
       "\n",
       "Answer: a) Light-dependent reaction\n",
       "\n",
       "**Section B: Short Answer Questions**\n",
       "\n",
       "1. Describe the light-dependent reactions in photosynthesis. (10 marks)\n",
       "\n",
       "Answer: (Insert answer here)\n",
       "\n",
       "2. What is the role of ATP and NADPH in the Calvin cycle? (10 marks)\n",
       "\n",
       "Answer: (Insert answer here)\n",
       "\n",
       "**Section C: Long Answer Question**\n",
       "\n",
       "1. Describe the overall equation of photosynthesis and explain the importance of each reactant and product. (20 marks)\n",
       "\n",
       "Answer: (Insert answer here)\n",
       "\n",
       "Note: This is just a sample quiz and the marking scheme may vary."
      ],
      "text/plain": [
       "<IPython.core.display.Markdown object>"
      ]
     },
     "metadata": {},
     "output_type": "display_data"
    }
   ],
   "source": [
    "from IPython.display import display, Markdown\n",
    "display(Markdown(formatted_response4))"
   ]
  },
  {
   "cell_type": "code",
   "execution_count": 26,
   "metadata": {},
   "outputs": [],
   "source": [
    "formatted_response4 = llm1.invoke(\"create a quizz for photosynthesis neet exam \").content # flash lite"
   ]
  },
  {
   "cell_type": "code",
   "execution_count": 27,
   "metadata": {},
   "outputs": [
    {
     "data": {
      "text/markdown": [
       "Okay, here's a NEET-style quiz on Photosynthesis, designed to test your understanding of the key concepts and details.  I've tried to include different question types (assertion-reason, statement-based, direct, and conceptual) and cover a range of difficulty levels.\n",
       "\n",
       "**Instructions:** Choose the best answer for each question.\n",
       "\n",
       "**Photosynthesis NEET Quiz**\n",
       "\n",
       "**1.  The primary function of the light-dependent reactions of photosynthesis is to:**\n",
       "    (a) Fix carbon dioxide to produce glucose.\n",
       "    (b) Synthesize ATP and NADPH.\n",
       "    (c) Generate oxygen.\n",
       "    (d) All of the above.\n",
       "\n",
       "**2.  Which of the following is the electron donor in the light-dependent reactions of photosynthesis?**\n",
       "    (a) Carbon dioxide\n",
       "    (b) Glucose\n",
       "    (c) Water\n",
       "    (d) RuBP\n",
       "\n",
       "**3.  The Calvin cycle takes place in the:**\n",
       "    (a) Thylakoid membrane\n",
       "    (b) Stroma\n",
       "    (c) Grana\n",
       "    (d) Outer membrane of the chloroplast\n",
       "\n",
       "**4.  Which of the following pigments is the primary light-harvesting pigment in plants?**\n",
       "    (a) Chlorophyll b\n",
       "    (b) Carotenoids\n",
       "    (c) Xanthophylls\n",
       "    (d) Chlorophyll a\n",
       "\n",
       "**5.  Cyclic photophosphorylation results in the production of:**\n",
       "    (a) ATP and NADPH\n",
       "    (b) ATP only\n",
       "    (c) NADPH only\n",
       "    (d) Oxygen only\n",
       "\n",
       "**6.  Photorespiration is a process that:**\n",
       "    (a) Increases photosynthetic efficiency.\n",
       "    (b) Occurs when RuBisCO binds to oxygen instead of carbon dioxide.\n",
       "    (c) Is beneficial to C4 plants.\n",
       "    (d) Produces glucose directly.\n",
       "\n",
       "**7.  C4 plants are more efficient at photosynthesis than C3 plants because:**\n",
       "    (a) They have a higher concentration of RuBisCO.\n",
       "    (b) They can fix carbon dioxide at lower concentrations.\n",
       "    (c) They do not require water.\n",
       "    (d) They only perform cyclic photophosphorylation.\n",
       "\n",
       "**8.  Which of the following is NOT required for the Calvin cycle?**\n",
       "    (a) RuBP\n",
       "    (b) ATP\n",
       "    (c) NADPH\n",
       "    (d) Oxygen\n",
       "\n",
       "**9.  The splitting of water during photosynthesis is directly associated with:**\n",
       "    (a) Photosystem I\n",
       "    (b) Photosystem II\n",
       "    (c) The Calvin cycle\n",
       "    (d) Photorespiration\n",
       "\n",
       "**10.  The enzyme responsible for the initial fixation of carbon dioxide in C4 plants is:**\n",
       "    (a) RuBisCO\n",
       "    (b) PEP carboxylase\n",
       "    (c) RuBP carboxylase\n",
       "    (d) Carbonic anhydrase\n",
       "\n",
       "**11.  Assertion:  Photorespiration decreases the efficiency of photosynthesis in C3 plants.**\n",
       "**Reason: RuBisCO has a higher affinity for oxygen than carbon dioxide at high temperatures.**\n",
       "\n",
       "    (a) Both assertion and reason are true, and the reason is the correct explanation of the assertion.\n",
       "    (b) Both assertion and reason are true, but the reason is not the correct explanation of the assertion.\n",
       "    (c) Assertion is true, but the reason is false.\n",
       "    (d) Assertion is false, but the reason is true.\n",
       "\n",
       "**12.  Which of the following statements is/are correct?**\n",
       "    *   I.  The light-dependent reactions occur in the stroma.\n",
       "    *   II.  The Calvin cycle uses ATP and NADPH to convert CO2 to sugar.\n",
       "    *   III.  Photosystem I absorbs light at a wavelength of 700 nm.\n",
       "    *   IV.  Photorespiration is beneficial for C3 plants in hot, dry conditions.\n",
       "\n",
       "    (a) I and II\n",
       "    (b) II and III\n",
       "    (c) I and IV\n",
       "    (d) All of the above\n",
       "\n",
       "**13.  Which of the following is the final electron acceptor in the light-dependent reactions?**\n",
       "    (a) Oxygen\n",
       "    (b) Carbon Dioxide\n",
       "    (c) NADP+\n",
       "    (d) Water\n",
       "\n",
       "**14.  What is the role of carotenoids in photosynthesis?**\n",
       "    (a) Absorb light energy and transfer it to chlorophyll.\n",
       "    (b) Protect chlorophyll from photo-oxidation.\n",
       "    (c) Both (a) and (b).\n",
       "    (d) None of the above.\n",
       "\n",
       "**15.  Kranz anatomy is characteristic of:**\n",
       "    (a) C3 plants\n",
       "    (b) C4 plants\n",
       "    (c) CAM plants\n",
       "    (d) All of the above\n",
       "\n",
       "**16.  Which of the following is the first stable product of carbon fixation in C3 plants?**\n",
       "    (a) Oxaloacetic acid (OAA)\n",
       "    (b) Phosphoglycerate (PGA)\n",
       "    (c) Malic acid\n",
       "    (d) RuBP\n",
       "\n",
       "**17.  CAM plants open their stomata:**\n",
       "    (a) During the day\n",
       "    (b) During the night\n",
       "    (c) Both day and night\n",
       "    (d) Never\n",
       "\n",
       "**18.  The Chemiosmotic hypothesis explains the mechanism of ATP synthesis in chloroplasts.  Which of the following statements accurately describes a component of this process?**\n",
       "    (a)  Protons are pumped from the stroma into the thylakoid lumen, creating a proton gradient.\n",
       "    (b)  Electrons are directly passed from Photosystem II to ATP synthase.\n",
       "    (c)  The pH of the stroma is lower than the pH of the thylakoid lumen.\n",
       "    (d)  ATP is synthesized in the thylakoid lumen and then transported to the stroma.\n",
       "\n",
       "**19.  The number of ATP and NADPH molecules required to fix one molecule of CO2 in C3 plants is:**\n",
       "    (a) 2 ATP and 2 NADPH\n",
       "    (b) 3 ATP and 2 NADPH\n",
       "    (c) 2 ATP and 3 NADPH\n",
       "    (d) 3 ATP and 3 NADPH\n",
       "\n",
       "**20.  Given the following information, identify the type of plant:**\n",
       "\n",
       "*   **High photosynthetic rate in hot, dry conditions.**\n",
       "*   **Possesses PEP carboxylase.**\n",
       "*   **Stomata open primarily at night.**\n",
       "\n",
       "    (a) C3 plant\n",
       "    (b) C4 plant\n",
       "    (c) CAM plant\n",
       "    (d) Shade-adapted C3 plant\n",
       "\n",
       "**Answer Key:**\n",
       "\n",
       "1.  (b)\n",
       "2.  (c)\n",
       "3.  (b)\n",
       "4.  (d)\n",
       "5.  (b)\n",
       "6.  (b)\n",
       "7.  (b)\n",
       "8.  (d)\n",
       "9.  (b)\n",
       "10. (b)\n",
       "11. (a)\n",
       "12. (b)\n",
       "13. (c)\n",
       "14. (c)\n",
       "15. (b)\n",
       "16. (b)\n",
       "17. (b)\n",
       "18. (a)\n",
       "19. (b)\n",
       "20. (c)\n",
       "\n",
       "**Explanation of some answers and why others are wrong:**\n",
       "\n",
       "*   **Q1:**  The light-dependent reactions convert light energy into chemical energy in the form of ATP and NADPH.  They also produce oxygen as a byproduct.\n",
       "*   **Q2:** Water is split to provide electrons to Photosystem II, replenishing the electrons lost by chlorophyll.\n",
       "*   **Q6:** Photorespiration is a wasteful process that occurs when RuBisCO binds to O2 instead of CO2.  It reduces photosynthetic efficiency.\n",
       "*   **Q7:** C4 plants have a mechanism to concentrate CO2 around RuBisCO, minimizing photorespiration.\n",
       "*   **Q11:** RuBisCO *does* have a higher affinity for O2 at higher temperatures, leading to increased photorespiration.\n",
       "*   **Q12:**  I is incorrect because the light dependent reaction occur in the thylakoid membrane. IV is incorrect because photorespiration is harmful not beneficial.\n",
       "*   **Q15:** Kranz anatomy (bundle sheath cells surrounding vascular bundles) is a key characteristic of C4 plants.\n",
       "*   **Q18:** The proton gradient drives ATP synthesis as protons flow down their concentration gradient through ATP synthase. The pH gradient exists because there are more protons in the thylakoid lumen than in the stroma.\n",
       "*   **Q20:** The combination of PEP carboxylase and stomata opening at night is characteristic of CAM plants, which minimize water loss by fixing CO2 at night and then using it during the day when stomata are closed.\n",
       "\n",
       "**How to Use This Quiz:**\n",
       "\n",
       "1.  **Take the quiz:**  Try to answer all the questions without looking at the answers.\n",
       "2.  **Check your answers:** Use the answer key to see how you did.\n",
       "3.  **Review:** For any questions you missed, review the relevant concepts in your textbook or notes.  Understand *why* the correct answer is correct and *why* the other options are wrong.\n",
       "4.  **Repeat:**  Retake the quiz after reviewing to reinforce your understanding.\n",
       "5.  **Focus on Weak Areas:**  Identify areas where you consistently struggle and dedicate extra study time to those topics.\n",
       "\n",
       "Good luck with your NEET preparation!  Let me know if you'd like more practice questions on specific aspects of photosynthesis or other biology topics."
      ],
      "text/plain": [
       "<IPython.core.display.Markdown object>"
      ]
     },
     "metadata": {},
     "output_type": "display_data"
    }
   ],
   "source": [
    "from IPython.display import display, Markdown\n",
    "display(Markdown(formatted_response4))"
   ]
  },
  {
   "cell_type": "code",
   "execution_count": 34,
   "metadata": {},
   "outputs": [
    {
     "name": "stdout",
     "output_type": "stream",
     "text": [
      "Hello!\n",
      "How are you?\n"
     ]
    }
   ],
   "source": [
    "from typing import TypedDict, Sequence, Annotated\n",
    "from langchain_core.messages import BaseMessage\n",
    "import operator\n",
    "\n",
    "class BaseMessage:\n",
    "    def __init__(self, content: str):\n",
    "        self.content = content\n",
    "\n",
    "class AgentState(TypedDict):\n",
    "    messages: Annotated[Sequence[BaseMessage], operator.add]\n",
    "\n",
    "# Creating an initial state\n",
    "state: AgentState = {\"messages\": [BaseMessage(\"Hello!\")]}\n",
    "\n",
    "# Adding a new message (simulating \"adding\" with operator.add)\n",
    "new_message = BaseMessage(\"How are you?\")\n",
    "state[\"messages\"] = state[\"messages\"] + [new_message,]\n",
    "\n",
    "# Printing the messages\n",
    "for message in state[\"messages\"]:\n",
    "    print(message.content)"
   ]
  },
  {
   "cell_type": "code",
   "execution_count": 94,
   "metadata": {},
   "outputs": [],
   "source": [
    "from pydantic import BaseModel, Field\n",
    "from typing import Optional\n",
    "from langchain.output_parsers import PydanticOutputParser\n",
    "\n",
    "class FieldSelectionParser(BaseModel):\n",
    "    Field_study: Optional[str] = Field(default=None, description='Selected fields (science, arts, or N/A)')\n",
    "    Subject: Optional[str] = Field(default=None, description='Selected subjects')\n",
    "    Topic: Optional[str] = Field(default=None, description='Selected topic')\n",
    "    Age_of_student: Optional[str] = Field(default=None, description='Selected age of student')\n",
    "    Difficulty_level: Optional[str] = Field(default=None, description='Selected difficulty level')\n",
    "    Question_or_query: Optional[str] = Field(default=None, description='Given input question or query')\n",
    "    Answer: Optional[str] = Field(default=None, description='Answer to the given question or query')\n",
    "\n",
    "# Initialize the parser\n",
    "parser = PydanticOutputParser(pydantic_object=FieldSelectionParser)"
   ]
  },
  {
   "cell_type": "code",
   "execution_count": 108,
   "metadata": {},
   "outputs": [
    {
     "name": "stdout",
     "output_type": "stream",
     "text": [
      "Field_study='Quantum Computing' Subject=None Topic=None Age_of_student=None Difficulty_level=None Question_or_query=None Answer=None\n",
      "Quantum Computing\n",
      "None\n"
     ]
    }
   ],
   "source": [
    "\n",
    "llm_output = \"\"\"\n",
    "{\n",
    "  \"Field_study\": \"Quantum Computing\",\n",
    "  \"answer\": \"It's a cutting-edge field with potential for significant impact.\"\n",
    "}\n",
    "\"\"\"\n",
    "\n",
    "# Parse the LLM output\n",
    "parsed_data = parser.parse(llm_output)\n",
    "print(parsed_data)\n",
    "\n",
    "# Access the parsed data\n",
    "print(parsed_data.Field_study)\n",
    "print(parsed_data.Topic)"
   ]
  },
  {
   "cell_type": "code",
   "execution_count": 33,
   "metadata": {},
   "outputs": [],
   "source": [
    "from langchain_core.output_parsers import StrOutputParser\n",
    "from langchain_core.prompts import ChatPromptTemplate\n",
    "from langchain_core.runnables import RunnablePassthrough\n",
    "from langchain.prompts import PromptTemplate\n"
   ]
  },
  {
   "cell_type": "code",
   "execution_count": 103,
   "metadata": {},
   "outputs": [],
   "source": [
    "def master_bot_router(state): # agent call\n",
    "    message=state[\"messages\"]\n",
    "    question=message # last message\n",
    "    # print(question)\n",
    "    \n",
    "    template=\"\"\"\n",
    "       You are an AI designed to conversation as a educational carrier guide ,mentor or teacher with student politely with fun and ethically and full fill their need and help in study \n",
    "       \n",
    "       1. **If the user asks a direct factual question or general knowledge related question(e.g., \"Who is the current president of America?\", \"What is 2+2?, \"what is the weather in kolkata today?\")**:\n",
    "        - always starting with greetings related question (e.g., \"hi, this is a good question here is your answer, etc.\")\n",
    "        - Provide a concise, direct answer (e.g., \"today is sunday\")  and store your answer in following parameter .\n",
    "        - **Answer**: your answer.\n",
    "        - Do not include extra explanations or formatting unless explicitly requested. if you don't know just say that I am not aware.\n",
    "       \n",
    "       2. **if they ask for \"study plan or course or problem solving or content creation related study\" (e.g., \"Create a study plan for...\", \"Solve this...\",\"Write a...\")**:\n",
    "        - always starting with greetings (e.g., \"that is great\", etc.\")\n",
    "        - extract specific fields from student input without providing answers or additional content.\n",
    "        - When given a question or request, identify and extract the following parameters (if present): \n",
    "        - **Field_study**: Whether the topic is related to science (e.g., physics, biology), arts (e.g., literature, music), or \"N/A\" if it doesn’t clearly fall into either category.\n",
    "        - **Subject**: The general subject area (e.g., math, history, English).\n",
    "        - **Topic**: The specific topic within the subject (e.g., calculus, World War II, poetry).\n",
    "        - **Age_of_student**: The age or age group of the user (e.g., 10, teens, adults). Default to \"Not specified\" if not provided in the input.\n",
    "        - **Difficulty_level**: The difficulty level (e.g., beginner, intermediate, advanced) or \"N/A\" if not specified.\n",
    "        - **Question_or_query**: User input question as it is given.\n",
    "        \n",
    "       3. **If the context is unclear or doesn’t fit the above categories**:\n",
    "        - Ask the user to clarify their request (e.g., \"Could you please provide more details so I can assist you better?\").\n",
    "        - Do not invent information or assume details not provided\n",
    "        \n",
    "        \n",
    "        \n",
    "        User query: {question}\n",
    "        {format_instructions}\n",
    "    \"\"\"\n",
    "    \n",
    "    prompt = PromptTemplate(template=template,\n",
    "                                    input_variables=[question],\n",
    "                                    partial_variables={\n",
    "                                        \"format_instructions\" : parser.get_format_instructions()                                    }\n",
    "                                    )\n",
    "    chain =  prompt | llm4 | parser\n",
    "    \n",
    "    response = chain.invoke({\"question\":question,\"format_instructions\" : parser.get_format_instructions() })\n",
    "    # next call either llm or rag\n",
    "\n",
    "    print(response)\n",
    "\n",
    "    return {\"messages\":[response]} # this response go for llm or rag call using routing function"
   ]
  },
  {
   "cell_type": "code",
   "execution_count": 56,
   "metadata": {},
   "outputs": [],
   "source": [
    "\n",
    "state={\"messages\": [\"Find the value of ∫2x cos (x² – 5) with step by step solution \"]}"
   ]
  },
  {
   "cell_type": "code",
   "execution_count": 52,
   "metadata": {},
   "outputs": [
    {
     "data": {
      "text/plain": [
       "{'messages': ['Find the value of ∫2x cos (x² – 5) with step by step solution ']}"
      ]
     },
     "execution_count": 52,
     "metadata": {},
     "output_type": "execute_result"
    }
   ],
   "source": [
    "state"
   ]
  },
  {
   "cell_type": "code",
   "execution_count": 57,
   "metadata": {},
   "outputs": [],
   "source": [
    "response = master_bot_router(state)"
   ]
  },
  {
   "cell_type": "code",
   "execution_count": 58,
   "metadata": {},
   "outputs": [
    {
     "data": {
      "text/plain": [
       "{'messages': [FieldSelectionParser(Field_study='Science', Subject='Mathematics', Topic='Calculus', Age_of_student='Not specified', Difficulty_level='Advanced', Question_or_query='Find the value of ∫2x cos (x² – 5) with step by step solution')]}"
      ]
     },
     "execution_count": 58,
     "metadata": {},
     "output_type": "execute_result"
    }
   ],
   "source": [
    "response"
   ]
  },
  {
   "cell_type": "code",
   "execution_count": 72,
   "metadata": {},
   "outputs": [
    {
     "name": "stdout",
     "output_type": "stream",
     "text": [
      "[FieldSelectionParser(Field_study='N/A', Subject='Social Studies', Topic='Politics', Age_of_student='Not specified', Difficulty_level='N/A', Question_or_query='who is the current president of America?')]\n"
     ]
    }
   ],
   "source": [
    "print(response[\"messages\"])"
   ]
  },
  {
   "cell_type": "code",
   "execution_count": 69,
   "metadata": {},
   "outputs": [
    {
     "data": {
      "text/plain": [
       "{'messages': [FieldSelectionParser(Field_study='N/A', Subject='Social Studies', Topic='Politics', Age_of_student='Not specified', Difficulty_level='N/A', Question_or_query='who is the current president of America?')]}"
      ]
     },
     "execution_count": 69,
     "metadata": {},
     "output_type": "execute_result"
    }
   ],
   "source": [
    "response"
   ]
  },
  {
   "cell_type": "code",
   "execution_count": 74,
   "metadata": {},
   "outputs": [
    {
     "name": "stderr",
     "output_type": "stream",
     "text": [
      "C:\\Users\\lenovo\\AppData\\Local\\Temp\\ipykernel_7672\\1715893580.py:1: PydanticDeprecatedSince20: The `dict` method is deprecated; use `model_dump` instead. Deprecated in Pydantic V2.0 to be removed in V3.0. See Pydantic V2 Migration Guide at https://errors.pydantic.dev/2.10/migration/\n",
      "  response[\"messages\"][0].dict()\n"
     ]
    },
    {
     "data": {
      "text/plain": [
       "{'Field_study': 'N/A',\n",
       " 'Subject': 'Social Studies',\n",
       " 'Topic': 'Politics',\n",
       " 'Age_of_student': 'Not specified',\n",
       " 'Difficulty_level': 'N/A',\n",
       " 'Question_or_query': 'who is the current president of America?'}"
      ]
     },
     "execution_count": 74,
     "metadata": {},
     "output_type": "execute_result"
    }
   ],
   "source": [
    "response[\"messages\"][0].dict()"
   ]
  },
  {
   "cell_type": "code",
   "execution_count": 75,
   "metadata": {},
   "outputs": [
    {
     "name": "stderr",
     "output_type": "stream",
     "text": [
      "C:\\Users\\lenovo\\AppData\\Local\\Temp\\ipykernel_7672\\814765986.py:1: PydanticDeprecatedSince20: The `dict` method is deprecated; use `model_dump` instead. Deprecated in Pydantic V2.0 to be removed in V3.0. See Pydantic V2 Migration Guide at https://errors.pydantic.dev/2.10/migration/\n",
      "  response[\"messages\"][0].dict()[\"Subject\"]\n"
     ]
    },
    {
     "data": {
      "text/plain": [
       "'Social Studies'"
      ]
     },
     "execution_count": 75,
     "metadata": {},
     "output_type": "execute_result"
    }
   ],
   "source": [
    "response[\"messages\"][0].dict()[\"Subject\"]"
   ]
  },
  {
   "cell_type": "code",
   "execution_count": 104,
   "metadata": {},
   "outputs": [],
   "source": [
    "state={\"messages\": [\"what is the value of 9-5 ?\"]}"
   ]
  },
  {
   "cell_type": "code",
   "execution_count": 105,
   "metadata": {},
   "outputs": [
    {
     "name": "stdout",
     "output_type": "stream",
     "text": [
      "Field_study=None Subject=None Topic=None Age_of_student=None Difficulty_level=None Question_or_query='What is the value of 9-5?' Answer='4'\n"
     ]
    }
   ],
   "source": [
    "response = master_bot_router(state)"
   ]
  },
  {
   "cell_type": "code",
   "execution_count": 109,
   "metadata": {},
   "outputs": [
    {
     "data": {
      "text/plain": [
       "{'messages': [FieldSelectionParser(Field_study=None, Subject=None, Topic=None, Age_of_student=None, Difficulty_level=None, Question_or_query='What is the value of 9-5?', Answer='4')]}"
      ]
     },
     "execution_count": 109,
     "metadata": {},
     "output_type": "execute_result"
    }
   ],
   "source": [
    "response"
   ]
  },
  {
   "cell_type": "code",
   "execution_count": 113,
   "metadata": {},
   "outputs": [
    {
     "data": {
      "text/plain": [
       "'4'"
      ]
     },
     "execution_count": 113,
     "metadata": {},
     "output_type": "execute_result"
    }
   ],
   "source": [
    "response[\"messages\"][0].model_dump()[\"Answer\"]"
   ]
  },
  {
   "cell_type": "code",
   "execution_count": null,
   "metadata": {},
   "outputs": [],
   "source": []
  }
 ],
 "metadata": {
  "kernelspec": {
   "display_name": "Python 3",
   "language": "python",
   "name": "python3"
  },
  "language_info": {
   "codemirror_mode": {
    "name": "ipython",
    "version": 3
   },
   "file_extension": ".py",
   "mimetype": "text/x-python",
   "name": "python",
   "nbconvert_exporter": "python",
   "pygments_lexer": "ipython3",
   "version": "3.11.0"
  }
 },
 "nbformat": 4,
 "nbformat_minor": 2
}
