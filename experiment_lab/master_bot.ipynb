{
 "cells": [
  {
   "cell_type": "markdown",
   "metadata": {},
   "source": [
    "create date wise chat history list only give last 7 days chat history after 7 days create report after that create summary memory of 7 days chat history add to another list then monthly summary memory of 7 days chat history so as on"
   ]
  },
  {
   "cell_type": "code",
   "execution_count": 1,
   "metadata": {},
   "outputs": [],
   "source": [
    "import os\n",
    "from dotenv import load_dotenv\n",
    "load_dotenv()\n",
    "\n",
    "GOOGLE_API_KEY=os.getenv(\"GEMINI_API_KEY\")\n",
    "os.environ[\"GOOGLE_API_KEY\"]=GOOGLE_API_KEY\n",
    "\n",
    "GROQ_API_KEY=os.getenv(\"GROQ_API_KEY\")\n",
    "os.environ[\"GROQ_API_KEY\"]=GROQ_API_KEY"
   ]
  },
  {
   "cell_type": "code",
   "execution_count": 2,
   "metadata": {},
   "outputs": [],
   "source": [
    "from langchain_google_genai import ChatGoogleGenerativeAI\n",
    "llm1 = ChatGoogleGenerativeAI(model=\"gemini-2.0-flash\")"
   ]
  },
  {
   "cell_type": "code",
   "execution_count": 3,
   "metadata": {},
   "outputs": [],
   "source": [
    "from langchain_groq import ChatGroq\n",
    "llm2 = ChatGroq(model=\"gemma2-9b-it\")"
   ]
  },
  {
   "cell_type": "code",
   "execution_count": null,
   "metadata": {},
   "outputs": [],
   "source": [
    "formatted_response = llm1.invoke(\"hi\").content # gemini-2.0-flash by google"
   ]
  },
  {
   "cell_type": "code",
   "execution_count": null,
   "metadata": {},
   "outputs": [],
   "source": [
    "formatted_response = llm2.invoke(\"hi\").content # gemma chat groq"
   ]
  },
  {
   "cell_type": "code",
   "execution_count": 4,
   "metadata": {},
   "outputs": [],
   "source": [
    "from langchain_google_genai import ChatGoogleGenerativeAI\n",
    "llm3 = ChatGoogleGenerativeAI(model=\"gemini-2.0-flash-lite\")"
   ]
  },
  {
   "cell_type": "code",
   "execution_count": 11,
   "metadata": {},
   "outputs": [],
   "source": [
    "formatted_response = llm3.invoke(\"hi\").content # flash lite"
   ]
  },
  {
   "cell_type": "code",
   "execution_count": 5,
   "metadata": {},
   "outputs": [],
   "source": [
    "from langchain_groq import ChatGroq\n",
    "llm4 = ChatGroq(model=\"llama3-8b-8192\")"
   ]
  },
  {
   "cell_type": "code",
   "execution_count": 17,
   "metadata": {},
   "outputs": [],
   "source": [
    "formatted_response1 = llm1.invoke(\"Find the value of ∫2x cos (x² – 5) with step by step solution\").content # flash lite"
   ]
  },
  {
   "cell_type": "code",
   "execution_count": 18,
   "metadata": {},
   "outputs": [
    {
     "data": {
      "text/markdown": [
       "Okay, let's solve the integral step-by-step.\n",
       "\n",
       "**1.  Identify a suitable substitution:**\n",
       "\n",
       "   Notice that the derivative of `x² - 5` is `2x`, which appears in the integrand. This suggests a substitution. Let:\n",
       "\n",
       "   `u = x² - 5`\n",
       "\n",
       "**2.  Find the differential du:**\n",
       "\n",
       "   Differentiate both sides of the substitution equation with respect to x:\n",
       "\n",
       "   `du/dx = 2x`\n",
       "\n",
       "   Multiply both sides by `dx`:\n",
       "\n",
       "   `du = 2x dx`\n",
       "\n",
       "**3.  Rewrite the integral in terms of u:**\n",
       "\n",
       "   Substitute `u` and `du` into the original integral:\n",
       "\n",
       "   ∫ 2x cos(x² - 5) dx  =  ∫ cos(u) du\n",
       "\n",
       "**4.  Evaluate the integral with respect to u:**\n",
       "\n",
       "   The integral of `cos(u)` is `sin(u)`:\n",
       "\n",
       "   ∫ cos(u) du = sin(u) + C\n",
       "\n",
       "   where C is the constant of integration.\n",
       "\n",
       "**5.  Substitute back to express the result in terms of x:**\n",
       "\n",
       "   Replace `u` with `x² - 5`:\n",
       "\n",
       "   sin(u) + C = sin(x² - 5) + C\n",
       "\n",
       "**Therefore, the solution to the integral is:**\n",
       "\n",
       "∫ 2x cos(x² – 5) dx = sin(x² - 5) + C"
      ],
      "text/plain": [
       "<IPython.core.display.Markdown object>"
      ]
     },
     "metadata": {},
     "output_type": "display_data"
    }
   ],
   "source": [
    "from IPython.display import display, Markdown\n",
    "display(Markdown(formatted_response1))"
   ]
  },
  {
   "cell_type": "code",
   "execution_count": 6,
   "metadata": {},
   "outputs": [
    {
     "ename": "NameError",
     "evalue": "name 'llm4' is not defined",
     "output_type": "error",
     "traceback": [
      "\u001b[1;31m---------------------------------------------------------------------------\u001b[0m",
      "\u001b[1;31mNameError\u001b[0m                                 Traceback (most recent call last)",
      "Cell \u001b[1;32mIn[6], line 1\u001b[0m\n\u001b[1;32m----> 1\u001b[0m formatted_response4 \u001b[38;5;241m=\u001b[39m \u001b[43mllm4\u001b[49m\u001b[38;5;241m.\u001b[39minvoke(\u001b[38;5;124m\"\u001b[39m\u001b[38;5;124mFind the value of ∫2x cos (x² – 5) with step by step solution\u001b[39m\u001b[38;5;124m\"\u001b[39m)\u001b[38;5;241m.\u001b[39mcontent \u001b[38;5;66;03m# flash lite\u001b[39;00m\n",
      "\u001b[1;31mNameError\u001b[0m: name 'llm4' is not defined"
     ]
    }
   ],
   "source": [
    "formatted_response4 = llm4.invoke(\"Find the value of ∫2x cos (x² – 5) with step by step solution\").content # flash lite"
   ]
  },
  {
   "cell_type": "code",
   "execution_count": null,
   "metadata": {},
   "outputs": [
    {
     "data": {
      "text/markdown": [
       "A nice integral! Let's break it down step by step.\n",
       "\n",
       "The integral is:\n",
       "\n",
       "$$\\int 2x \\cos(x^2 - 5) dx$$\n",
       "\n",
       "To evaluate this integral, we'll need to use integration by substitution and some trigonometric identities.\n",
       "\n",
       "**Step 1: Substitute u = x^2 - 5**\n",
       "\n",
       "Let's substitute u = x^2 - 5, so that du/dx = 2x. This will help us to eliminate the x^2 term in the integral.\n",
       "\n",
       "du = 2x dx\n",
       "\n",
       "Now, we'll rewrite the integral in terms of u:\n",
       "\n",
       "$$\\int \\cos(u) du$$\n",
       "\n",
       "**Step 2: Integrate the cosine term**\n",
       "\n",
       "The integral of cosine is sine. So, we'll integrate the cosine term:\n",
       "\n",
       "$$\\int \\cos(u) du = \\sin(u) + C$$\n",
       "\n",
       "where C is the constant of integration.\n",
       "\n",
       "**Step 3: Substitute back u = x^2 - 5**\n",
       "\n",
       "Now, we'll substitute back u = x^2 - 5 to express the answer in terms of x:\n",
       "\n",
       "$$\\sin(x^2 - 5) + C$$\n",
       "\n",
       "**Step 4: Simplify the answer**\n",
       "\n",
       "The answer is:\n",
       "\n",
       "$$\\boxed{\\int 2x \\cos(x^2 - 5) dx = \\sin(x^2 - 5) + C}$$\n",
       "\n",
       "And that's it! We've evaluated the integral.\n",
       "\n",
       "Note that the constant of integration C is not specified, as it depends on the initial conditions or the particular problem context."
      ],
      "text/plain": [
       "<IPython.core.display.Markdown object>"
      ]
     },
     "metadata": {},
     "output_type": "display_data"
    }
   ],
   "source": [
    "from IPython.display import display, Markdown\n",
    "display(Markdown(formatted_response4))"
   ]
  },
  {
   "cell_type": "code",
   "execution_count": 19,
   "metadata": {},
   "outputs": [],
   "source": [
    "formatted_response4 = llm4.invoke(\"create a study plan for photosynthesis for class 11\").content # flash lite"
   ]
  },
  {
   "cell_type": "code",
   "execution_count": 20,
   "metadata": {},
   "outputs": [
    {
     "data": {
      "text/markdown": [
       "Here's a study plan for photosynthesis for Class 11:\n",
       "\n",
       "**Day 1-2: Introduction to Photosynthesis**\n",
       "\n",
       "1. Read Chapter 8 of your biology textbook and take notes on:\n",
       "\t* Definition of photosynthesis\n",
       "\t* Importance of photosynthesis\n",
       "\t* Types of photosynthesis (aerobic and anaerobic)\n",
       "2. Watch video lectures or online tutorials on photosynthesis to get a better understanding of the concept.\n",
       "3. Make a concept map or diagram to visualize the process of photosynthesis.\n",
       "\n",
       "**Day 3-4: Light-Dependent Reactions**\n",
       "\n",
       "1. Read Chapter 8 of your biology textbook and take notes on:\n",
       "\t* Light-dependent reactions (light reaction)\n",
       "\t* Role of light energy in photosynthesis\n",
       "\t* Light-harvesting complexes (LHC)\n",
       "\t* ATP and NADPH synthesis\n",
       "2. Practice problems:\n",
       "\t* Draw a diagram of the light-dependent reactions\n",
       "\t* Label the components of the light-dependent reactions\n",
       "\t* Explain the role of light energy in the light-dependent reactions\n",
       "3. Watch video lectures or online tutorials on light-dependent reactions to reinforce your understanding.\n",
       "\n",
       "**Day 5-6: Light-Independent Reactions**\n",
       "\n",
       "1. Read Chapter 8 of your biology textbook and take notes on:\n",
       "\t* Light-independent reactions (Calvin cycle)\n",
       "\t* Role of CO2 in photosynthesis\n",
       "\t* RuBisCO enzyme\n",
       "\t* Synthesis of glucose from CO2\n",
       "2. Practice problems:\n",
       "\t* Draw a diagram of the light-independent reactions\n",
       "\t* Label the components of the light-independent reactions\n",
       "\t* Explain the role of CO2 in the light-independent reactions\n",
       "3. Watch video lectures or online tutorials on light-independent reactions to reinforce your understanding.\n",
       "\n",
       "**Day 7-8: Factors Affecting Photosynthesis**\n",
       "\n",
       "1. Read Chapter 8 of your biology textbook and take notes on:\n",
       "\t* Factors that affect photosynthesis (light intensity, temperature, water, CO2)\n",
       "\t* Effects of these factors on photosynthesis\n",
       "2. Practice problems:\n",
       "\t* Explain how light intensity affects photosynthesis\n",
       "\t* Describe the effects of temperature on photosynthesis\n",
       "\t* Discuss the role of water and CO2 in photosynthesis\n",
       "3. Watch video lectures or online tutorials on factors affecting photosynthesis to reinforce your understanding.\n",
       "\n",
       "**Day 9-10: Review and Practice**\n",
       "\n",
       "1. Review all the concepts covered in the study plan\n",
       "2. Practice problems from your textbook or online resources\n",
       "3. Attempt to solve past year question papers or online quizzes to test your understanding\n",
       "\n",
       "**Additional Tips**\n",
       "\n",
       "* Make sure to review and practice regularly to avoid last-minute cramming\n",
       "* Use flashcards to memorize key terms and concepts\n",
       "* Teach someone else what you've learned to reinforce your own understanding\n",
       "* Use diagrams and flowcharts to visualize the process of photosynthesis\n",
       "\n",
       "By following this study plan, you should be well-prepared for your Class 11 biology exams on photosynthesis!"
      ],
      "text/plain": [
       "<IPython.core.display.Markdown object>"
      ]
     },
     "metadata": {},
     "output_type": "display_data"
    }
   ],
   "source": [
    "from IPython.display import display, Markdown\n",
    "display(Markdown(formatted_response4))"
   ]
  },
  {
   "cell_type": "code",
   "execution_count": 21,
   "metadata": {},
   "outputs": [],
   "source": [
    "formatted_response4 = llm4.invoke(\"Battle Of Plassey 1757 for upsc\").content # flash lite"
   ]
  },
  {
   "cell_type": "code",
   "execution_count": 22,
   "metadata": {},
   "outputs": [
    {
     "data": {
      "text/markdown": [
       "A crucial event in Indian history!\n",
       "\n",
       "Here's a detailed summary of the Battle of Plassey (1757) for UPSC:\n",
       "\n",
       "**Background:**\n",
       "\n",
       "In the mid-18th century, the British East India Company (EIC) was expanding its influence in India. The company's power was growing, and it was facing challenges from the Mughal Empire and other regional powers. In 1756, the EIC's Governor-General, Robert Clive, was appointed to strengthen the company's position in India.\n",
       "\n",
       "**Causes of the Battle:**\n",
       "\n",
       "The Battle of Plassey was sparked by a series of events:\n",
       "\n",
       "1. **Battle of Calcutta**: In 1756, the city of Calcutta (now Kolkata) was overrun by Siraj-ud-Daula, the Nawab of Bengal. The EIC's forces were defeated, and many British officials were imprisoned in the infamous Black Hole of Calcutta.\n",
       "2. **Revenge and Re-conquest**: Clive, determined to avenge the defeat and reclaim Calcutta, led a small force to Bengal. He formed an alliance with the Rohilla Afghans, who were opposed to Siraj-ud-Daula's rule.\n",
       "3. **Siraj-ud-Daula's Weaknesses**: Siraj-ud-Daula's army was divided, and he had alienated many of his nobles. Clive exploited these weaknesses by offering generous terms to defecting nobles and merchants.\n",
       "\n",
       "**The Battle:**\n",
       "\n",
       "The Battle of Plassey took place on June 23, 1757, near the village of Plassey, in modern-day West Bengal, India. The British forces, led by Clive, consisted of around 3,000 troops, including European soldiers, sepoys (Indian troops), and native mercenaries. Siraj-ud-Daula's army, estimated to be around 50,000 strong, was largely composed of cavalry and infantry.\n",
       "\n",
       "The battle was a decisive victory for the British. Clive's forces used effective artillery and tactics to outmaneuver and defeat the Nawab's army. Many of Siraj-ud-Daula's troops deserted or fled, and the Nawab himself escaped.\n",
       "\n",
       "**Consequences:**\n",
       "\n",
       "The Battle of Plassey had significant consequences:\n",
       "\n",
       "1. **British Dominance**: The battle marked the beginning of British dominance in India. The EIC's power and influence grew, and it became a major player in Indian politics.\n",
       "2. **Nawab's Downfall**: Siraj-ud-Daula was defeated, and his rule was eventually ended. The Mughal Empire, already weakened, continued its decline.\n",
       "3. **Expansion of British India**: The victory at Plassey led to further British expansion in India. The company acquired more territories, and its influence extended into the Deccan Plateau and other regions.\n",
       "4. **Impact on Indian Society**: The battle had significant social and economic implications. The British established a new system of administration, which led to changes in land tenure, taxation, and trade.\n",
       "\n",
       "**Key Points for UPSC:**\n",
       "\n",
       "1. **Date**: June 23, 1757\n",
       "2. **Location**: Plassey, West Bengal, India\n",
       "3. **British Forces**: Led by Robert Clive, around 3,000 troops\n",
       "4. **Nawab's Forces**: Led by Siraj-ud-Daula, around 50,000 troops\n",
       "5. **Causes**: Revenge for the Battle of Calcutta, exploiting Siraj-ud-Daula's weaknesses\n",
       "6. **Consequences**: British dominance in India, downfall of Siraj-ud-Daula, expansion of British India, and impact on Indian society\n",
       "\n",
       "Remember to highlight the significance of the Battle of Plassey in the context of British expansion in India and its long-term consequences for Indian society and politics. Good luck with your UPSC preparations!"
      ],
      "text/plain": [
       "<IPython.core.display.Markdown object>"
      ]
     },
     "metadata": {},
     "output_type": "display_data"
    }
   ],
   "source": [
    "from IPython.display import display, Markdown\n",
    "display(Markdown(formatted_response4))"
   ]
  },
  {
   "cell_type": "code",
   "execution_count": 23,
   "metadata": {},
   "outputs": [],
   "source": [
    "formatted_response4 = llm4.invoke(\"create a quizz for photosynthesis neet exam \").content # flash lite"
   ]
  },
  {
   "cell_type": "code",
   "execution_count": 24,
   "metadata": {},
   "outputs": [
    {
     "data": {
      "text/markdown": [
       "Here's a quiz on photosynthesis for NEET exam:\n",
       "\n",
       "**Section A: Multiple Choice Questions**\n",
       "\n",
       "1. What is the process by which plants make their own food?\n",
       "a) Respiration\n",
       "b) Photosynthesis\n",
       "c) Fermentation\n",
       "d) Decomposition\n",
       "\n",
       "Answer: b) Photosynthesis\n",
       "\n",
       "2. Which of the following is NOT a product of photosynthesis?\n",
       "a) Glucose\n",
       "b) Oxygen\n",
       "c) Carbon dioxide\n",
       "d) Water\n",
       "\n",
       "Answer: c) Carbon dioxide\n",
       "\n",
       "3. What is the role of light in photosynthesis?\n",
       "a) To break down glucose\n",
       "b) To synthesize ATP\n",
       "c) To produce oxygen\n",
       "d) To absorb carbon dioxide\n",
       "\n",
       "Answer: c) To produce oxygen\n",
       "\n",
       "4. Which pigment is responsible for absorbing blue and red light in photosynthesis?\n",
       "a) Chlorophyll a\n",
       "b) Chlorophyll b\n",
       "c) Carotenoids\n",
       "d) Anthocyanins\n",
       "\n",
       "Answer: a) Chlorophyll a\n",
       "\n",
       "5. What is the byproduct of oxygen production during photosynthesis?\n",
       "a) ATP\n",
       "b) NADPH\n",
       "c) Glucose\n",
       "d) Water\n",
       "\n",
       "Answer: a) ATP\n",
       "\n",
       "6. Which of the following is a characteristic of C3 plants?\n",
       "a) They have a higher rate of photosynthesis\n",
       "b) They have a lower rate of photosynthesis\n",
       "c) They have a different type of chloroplast\n",
       "d) They have a different type of stomata\n",
       "\n",
       "Answer: b) They have a lower rate of photosynthesis\n",
       "\n",
       "7. What is the function of stomata in photosynthesis?\n",
       "a) To release oxygen\n",
       "b) To absorb carbon dioxide\n",
       "c) To release water vapor\n",
       "d) To absorb light\n",
       "\n",
       "Answer: b) To absorb carbon dioxide\n",
       "\n",
       "8. Which of the following is NOT a factor that affects photosynthesis?\n",
       "a) Light intensity\n",
       "b) Temperature\n",
       "c) Water availability\n",
       "d) Gravity\n",
       "\n",
       "Answer: d) Gravity\n",
       "\n",
       "9. What is the role of water in photosynthesis?\n",
       "a) To produce glucose\n",
       "b) To produce oxygen\n",
       "c) To absorb carbon dioxide\n",
       "d) To release ATP\n",
       "\n",
       "Answer: c) To absorb carbon dioxide\n",
       "\n",
       "10. Which of the following is a type of photosynthetic reaction?\n",
       "a) Light-dependent reaction\n",
       "b) Light-independent reaction\n",
       "c) Fermentation\n",
       "d) Respiration\n",
       "\n",
       "Answer: a) Light-dependent reaction\n",
       "\n",
       "**Section B: Short Answer Questions**\n",
       "\n",
       "1. Describe the light-dependent reactions in photosynthesis. (10 marks)\n",
       "\n",
       "Answer: (Insert answer here)\n",
       "\n",
       "2. What is the role of ATP and NADPH in the Calvin cycle? (10 marks)\n",
       "\n",
       "Answer: (Insert answer here)\n",
       "\n",
       "**Section C: Long Answer Question**\n",
       "\n",
       "1. Describe the overall equation of photosynthesis and explain the importance of each reactant and product. (20 marks)\n",
       "\n",
       "Answer: (Insert answer here)\n",
       "\n",
       "Note: This is just a sample quiz and the marking scheme may vary."
      ],
      "text/plain": [
       "<IPython.core.display.Markdown object>"
      ]
     },
     "metadata": {},
     "output_type": "display_data"
    }
   ],
   "source": [
    "from IPython.display import display, Markdown\n",
    "display(Markdown(formatted_response4))"
   ]
  },
  {
   "cell_type": "code",
   "execution_count": 26,
   "metadata": {},
   "outputs": [],
   "source": [
    "formatted_response4 = llm1.invoke(\"create a quizz for photosynthesis neet exam \").content # flash lite"
   ]
  },
  {
   "cell_type": "code",
   "execution_count": 27,
   "metadata": {},
   "outputs": [
    {
     "data": {
      "text/markdown": [
       "Okay, here's a NEET-style quiz on Photosynthesis, designed to test your understanding of the key concepts and details.  I've tried to include different question types (assertion-reason, statement-based, direct, and conceptual) and cover a range of difficulty levels.\n",
       "\n",
       "**Instructions:** Choose the best answer for each question.\n",
       "\n",
       "**Photosynthesis NEET Quiz**\n",
       "\n",
       "**1.  The primary function of the light-dependent reactions of photosynthesis is to:**\n",
       "    (a) Fix carbon dioxide to produce glucose.\n",
       "    (b) Synthesize ATP and NADPH.\n",
       "    (c) Generate oxygen.\n",
       "    (d) All of the above.\n",
       "\n",
       "**2.  Which of the following is the electron donor in the light-dependent reactions of photosynthesis?**\n",
       "    (a) Carbon dioxide\n",
       "    (b) Glucose\n",
       "    (c) Water\n",
       "    (d) RuBP\n",
       "\n",
       "**3.  The Calvin cycle takes place in the:**\n",
       "    (a) Thylakoid membrane\n",
       "    (b) Stroma\n",
       "    (c) Grana\n",
       "    (d) Outer membrane of the chloroplast\n",
       "\n",
       "**4.  Which of the following pigments is the primary light-harvesting pigment in plants?**\n",
       "    (a) Chlorophyll b\n",
       "    (b) Carotenoids\n",
       "    (c) Xanthophylls\n",
       "    (d) Chlorophyll a\n",
       "\n",
       "**5.  Cyclic photophosphorylation results in the production of:**\n",
       "    (a) ATP and NADPH\n",
       "    (b) ATP only\n",
       "    (c) NADPH only\n",
       "    (d) Oxygen only\n",
       "\n",
       "**6.  Photorespiration is a process that:**\n",
       "    (a) Increases photosynthetic efficiency.\n",
       "    (b) Occurs when RuBisCO binds to oxygen instead of carbon dioxide.\n",
       "    (c) Is beneficial to C4 plants.\n",
       "    (d) Produces glucose directly.\n",
       "\n",
       "**7.  C4 plants are more efficient at photosynthesis than C3 plants because:**\n",
       "    (a) They have a higher concentration of RuBisCO.\n",
       "    (b) They can fix carbon dioxide at lower concentrations.\n",
       "    (c) They do not require water.\n",
       "    (d) They only perform cyclic photophosphorylation.\n",
       "\n",
       "**8.  Which of the following is NOT required for the Calvin cycle?**\n",
       "    (a) RuBP\n",
       "    (b) ATP\n",
       "    (c) NADPH\n",
       "    (d) Oxygen\n",
       "\n",
       "**9.  The splitting of water during photosynthesis is directly associated with:**\n",
       "    (a) Photosystem I\n",
       "    (b) Photosystem II\n",
       "    (c) The Calvin cycle\n",
       "    (d) Photorespiration\n",
       "\n",
       "**10.  The enzyme responsible for the initial fixation of carbon dioxide in C4 plants is:**\n",
       "    (a) RuBisCO\n",
       "    (b) PEP carboxylase\n",
       "    (c) RuBP carboxylase\n",
       "    (d) Carbonic anhydrase\n",
       "\n",
       "**11.  Assertion:  Photorespiration decreases the efficiency of photosynthesis in C3 plants.**\n",
       "**Reason: RuBisCO has a higher affinity for oxygen than carbon dioxide at high temperatures.**\n",
       "\n",
       "    (a) Both assertion and reason are true, and the reason is the correct explanation of the assertion.\n",
       "    (b) Both assertion and reason are true, but the reason is not the correct explanation of the assertion.\n",
       "    (c) Assertion is true, but the reason is false.\n",
       "    (d) Assertion is false, but the reason is true.\n",
       "\n",
       "**12.  Which of the following statements is/are correct?**\n",
       "    *   I.  The light-dependent reactions occur in the stroma.\n",
       "    *   II.  The Calvin cycle uses ATP and NADPH to convert CO2 to sugar.\n",
       "    *   III.  Photosystem I absorbs light at a wavelength of 700 nm.\n",
       "    *   IV.  Photorespiration is beneficial for C3 plants in hot, dry conditions.\n",
       "\n",
       "    (a) I and II\n",
       "    (b) II and III\n",
       "    (c) I and IV\n",
       "    (d) All of the above\n",
       "\n",
       "**13.  Which of the following is the final electron acceptor in the light-dependent reactions?**\n",
       "    (a) Oxygen\n",
       "    (b) Carbon Dioxide\n",
       "    (c) NADP+\n",
       "    (d) Water\n",
       "\n",
       "**14.  What is the role of carotenoids in photosynthesis?**\n",
       "    (a) Absorb light energy and transfer it to chlorophyll.\n",
       "    (b) Protect chlorophyll from photo-oxidation.\n",
       "    (c) Both (a) and (b).\n",
       "    (d) None of the above.\n",
       "\n",
       "**15.  Kranz anatomy is characteristic of:**\n",
       "    (a) C3 plants\n",
       "    (b) C4 plants\n",
       "    (c) CAM plants\n",
       "    (d) All of the above\n",
       "\n",
       "**16.  Which of the following is the first stable product of carbon fixation in C3 plants?**\n",
       "    (a) Oxaloacetic acid (OAA)\n",
       "    (b) Phosphoglycerate (PGA)\n",
       "    (c) Malic acid\n",
       "    (d) RuBP\n",
       "\n",
       "**17.  CAM plants open their stomata:**\n",
       "    (a) During the day\n",
       "    (b) During the night\n",
       "    (c) Both day and night\n",
       "    (d) Never\n",
       "\n",
       "**18.  The Chemiosmotic hypothesis explains the mechanism of ATP synthesis in chloroplasts.  Which of the following statements accurately describes a component of this process?**\n",
       "    (a)  Protons are pumped from the stroma into the thylakoid lumen, creating a proton gradient.\n",
       "    (b)  Electrons are directly passed from Photosystem II to ATP synthase.\n",
       "    (c)  The pH of the stroma is lower than the pH of the thylakoid lumen.\n",
       "    (d)  ATP is synthesized in the thylakoid lumen and then transported to the stroma.\n",
       "\n",
       "**19.  The number of ATP and NADPH molecules required to fix one molecule of CO2 in C3 plants is:**\n",
       "    (a) 2 ATP and 2 NADPH\n",
       "    (b) 3 ATP and 2 NADPH\n",
       "    (c) 2 ATP and 3 NADPH\n",
       "    (d) 3 ATP and 3 NADPH\n",
       "\n",
       "**20.  Given the following information, identify the type of plant:**\n",
       "\n",
       "*   **High photosynthetic rate in hot, dry conditions.**\n",
       "*   **Possesses PEP carboxylase.**\n",
       "*   **Stomata open primarily at night.**\n",
       "\n",
       "    (a) C3 plant\n",
       "    (b) C4 plant\n",
       "    (c) CAM plant\n",
       "    (d) Shade-adapted C3 plant\n",
       "\n",
       "**Answer Key:**\n",
       "\n",
       "1.  (b)\n",
       "2.  (c)\n",
       "3.  (b)\n",
       "4.  (d)\n",
       "5.  (b)\n",
       "6.  (b)\n",
       "7.  (b)\n",
       "8.  (d)\n",
       "9.  (b)\n",
       "10. (b)\n",
       "11. (a)\n",
       "12. (b)\n",
       "13. (c)\n",
       "14. (c)\n",
       "15. (b)\n",
       "16. (b)\n",
       "17. (b)\n",
       "18. (a)\n",
       "19. (b)\n",
       "20. (c)\n",
       "\n",
       "**Explanation of some answers and why others are wrong:**\n",
       "\n",
       "*   **Q1:**  The light-dependent reactions convert light energy into chemical energy in the form of ATP and NADPH.  They also produce oxygen as a byproduct.\n",
       "*   **Q2:** Water is split to provide electrons to Photosystem II, replenishing the electrons lost by chlorophyll.\n",
       "*   **Q6:** Photorespiration is a wasteful process that occurs when RuBisCO binds to O2 instead of CO2.  It reduces photosynthetic efficiency.\n",
       "*   **Q7:** C4 plants have a mechanism to concentrate CO2 around RuBisCO, minimizing photorespiration.\n",
       "*   **Q11:** RuBisCO *does* have a higher affinity for O2 at higher temperatures, leading to increased photorespiration.\n",
       "*   **Q12:**  I is incorrect because the light dependent reaction occur in the thylakoid membrane. IV is incorrect because photorespiration is harmful not beneficial.\n",
       "*   **Q15:** Kranz anatomy (bundle sheath cells surrounding vascular bundles) is a key characteristic of C4 plants.\n",
       "*   **Q18:** The proton gradient drives ATP synthesis as protons flow down their concentration gradient through ATP synthase. The pH gradient exists because there are more protons in the thylakoid lumen than in the stroma.\n",
       "*   **Q20:** The combination of PEP carboxylase and stomata opening at night is characteristic of CAM plants, which minimize water loss by fixing CO2 at night and then using it during the day when stomata are closed.\n",
       "\n",
       "**How to Use This Quiz:**\n",
       "\n",
       "1.  **Take the quiz:**  Try to answer all the questions without looking at the answers.\n",
       "2.  **Check your answers:** Use the answer key to see how you did.\n",
       "3.  **Review:** For any questions you missed, review the relevant concepts in your textbook or notes.  Understand *why* the correct answer is correct and *why* the other options are wrong.\n",
       "4.  **Repeat:**  Retake the quiz after reviewing to reinforce your understanding.\n",
       "5.  **Focus on Weak Areas:**  Identify areas where you consistently struggle and dedicate extra study time to those topics.\n",
       "\n",
       "Good luck with your NEET preparation!  Let me know if you'd like more practice questions on specific aspects of photosynthesis or other biology topics."
      ],
      "text/plain": [
       "<IPython.core.display.Markdown object>"
      ]
     },
     "metadata": {},
     "output_type": "display_data"
    }
   ],
   "source": [
    "from IPython.display import display, Markdown\n",
    "display(Markdown(formatted_response4))"
   ]
  },
  {
   "cell_type": "code",
   "execution_count": 6,
   "metadata": {},
   "outputs": [
    {
     "name": "stdout",
     "output_type": "stream",
     "text": [
      "Hello!\n",
      "How are you?\n"
     ]
    }
   ],
   "source": [
    "from typing import TypedDict, Sequence, Annotated\n",
    "from langchain_core.messages import BaseMessage\n",
    "import operator\n",
    "\n",
    "class BaseMessage:\n",
    "    def __init__(self, content: str):\n",
    "        self.content = content\n",
    "\n",
    "class AgentState(TypedDict):\n",
    "    messages: Annotated[Sequence[BaseMessage], operator.add]\n",
    "\n",
    "# Creating an initial state\n",
    "state: AgentState = {\"messages\": [BaseMessage(\"Hello!\")]}\n",
    "\n",
    "# Adding a new message (simulating \"adding\" with operator.add)\n",
    "new_message = BaseMessage(\"How are you?\")\n",
    "state[\"messages\"] = state[\"messages\"] + [new_message,]\n",
    "\n",
    "# Printing the messages\n",
    "for message in state[\"messages\"]:\n",
    "    print(message.content)"
   ]
  },
  {
   "cell_type": "code",
   "execution_count": 7,
   "metadata": {},
   "outputs": [],
   "source": [
    "from pydantic import BaseModel, Field\n",
    "from typing import Optional\n",
    "from langchain.output_parsers import PydanticOutputParser\n",
    "\n",
    "class FieldSelectionParser(BaseModel):\n",
    "    Field_study: Optional[str] = Field(default=None, description='Selected fields (science, arts, or N/A)')\n",
    "    Subject: Optional[str] = Field(default=None, description='Selected subjects')\n",
    "    Chapter: Optional[str] = Field(default=None, description='Selected chapters')\n",
    "    Topic: Optional[str] = Field(default=None, description='Selected topic')\n",
    "    Difficulty_level: Optional[str] = Field(default=None, description='Selected difficulty level')\n",
    "    Question_or_query: Optional[str] = Field(default=None, description='Given input question or query')\n",
    "    Answer: Optional[str] = Field(default=None, description='Answer to the given question or query')\n",
    "\n",
    "# Initialize the parser\n",
    "parser = PydanticOutputParser(pydantic_object=FieldSelectionParser)"
   ]
  },
  {
   "cell_type": "code",
   "execution_count": 268,
   "metadata": {},
   "outputs": [
    {
     "name": "stdout",
     "output_type": "stream",
     "text": [
      "Field_study='Quantum Computing' Subject=None Topic=None Difficulty_level=None Question_or_query=None Answer=None\n",
      "Quantum Computing\n",
      "None\n"
     ]
    }
   ],
   "source": [
    "\n",
    "llm_output = \"\"\"\n",
    "{\n",
    "  \"Field_study\": \"Quantum Computing\",\n",
    "  \"answer\": \"It's a cutting-edge field with potential for significant impact.\"\n",
    "}\n",
    "\"\"\"\n",
    "\n",
    "# Parse the LLM output\n",
    "parsed_data = parser.parse(llm_output)\n",
    "print(parsed_data)\n",
    "\n",
    "# Access the parsed data\n",
    "print(parsed_data.Field_study)\n",
    "print(parsed_data.Topic)"
   ]
  },
  {
   "cell_type": "code",
   "execution_count": 269,
   "metadata": {},
   "outputs": [],
   "source": [
    "parsed_data = FieldSelectionParser(\n",
    "            Field_study=\"semiconductor\",\n",
    "            \n",
    "        )"
   ]
  },
  {
   "cell_type": "code",
   "execution_count": 270,
   "metadata": {},
   "outputs": [
    {
     "data": {
      "text/plain": [
       "FieldSelectionParser(Field_study='semiconductor', Subject=None, Topic=None, Difficulty_level=None, Question_or_query=None, Answer=None)"
      ]
     },
     "execution_count": 270,
     "metadata": {},
     "output_type": "execute_result"
    }
   ],
   "source": [
    "parsed_data"
   ]
  },
  {
   "cell_type": "code",
   "execution_count": 8,
   "metadata": {},
   "outputs": [],
   "source": [
    "from langchain_core.output_parsers import StrOutputParser\n",
    "from langchain_core.prompts import ChatPromptTemplate\n",
    "from langchain_core.runnables import RunnablePassthrough\n",
    "from langchain.prompts import PromptTemplate\n"
   ]
  },
  {
   "cell_type": "code",
   "execution_count": 9,
   "metadata": {},
   "outputs": [],
   "source": [
    "from langchain_community.chat_message_histories import ChatMessageHistory\n",
    "from langchain_core.chat_history import BaseChatMessageHistory\n",
    "from langchain_core.runnables.history import RunnableWithMessageHistory"
   ]
  },
  {
   "cell_type": "code",
   "execution_count": 10,
   "metadata": {},
   "outputs": [],
   "source": [
    "user_name = \"Shubhankar Samnata\"\n",
    "age = 20\n",
    "standard_name = \"class 10\"\n",
    "bot_name = \"classmate\""
   ]
  },
  {
   "cell_type": "code",
   "execution_count": 11,
   "metadata": {},
   "outputs": [],
   "source": [
    "chat_history = [f\"UserMessage:my name is {user_name}, age is {age}, study in {standard_name}\" f\"SystemMessage: hi! I am your {bot_name}\"]"
   ]
  },
  {
   "cell_type": "code",
   "execution_count": 61,
   "metadata": {},
   "outputs": [],
   "source": [
    "from duckduckgo_search import DDGS  # Import DuckDuckGo search"
   ]
  },
  {
   "cell_type": "code",
   "execution_count": 62,
   "metadata": {},
   "outputs": [
    {
     "name": "stdout",
     "output_type": "stream",
     "text": [
      "[{'title': 'Kolkata, West Bengal, India Weather Forecast | AccuWeather', 'href': 'https://www.accuweather.com/en/in/kolkata/206690/weather-forecast/206690', 'body': 'Kolkata, West Bengal, India Weather Forecast, with current conditions, wind, air quality, and what to expect for the next 3 days.'}, {'title': 'Kolkata, West Bengal, India Current Weather | AccuWeather', 'href': 'https://www.accuweather.com/en/in/kolkata/206690/current-weather/206690', 'body': 'Current weather in Kolkata, West Bengal, India. Check current conditions in Kolkata, West Bengal, India with radar, hourly, and more.'}, {'title': 'Hourly forecast for Kolkata, West Bengal, India - timeanddate.com', 'href': 'https://www.timeanddate.com/weather/india/kolkata/hourly', 'body': 'Hour-by-Hour Forecast for Kolkata, West Bengal, India. Time/General; Weather . Weather Today/Tomorrow ; Hour-by-Hour Forecast ; 14 Day Forecast'}, {'title': \"Today's Weather in Kolkata - Hourly Forecast and Conditions\", 'href': 'https://www.easeweather.com/asia/india/west-bengal/kolkata/today', 'body': 'The weather in Kolkata today is expected to be noticeably cooler than usual, with a forecast temperature of 39 ° C, compared to an average of 43 ° C for 1st of April in recent years. temperatures 39 ° C'}, {'title': 'Weather Today for Kolkata, West Bengal, India | AccuWeather', 'href': 'https://www.accuweather.com/en/in/kolkata/206690/weather-today/206690', 'body': \"Everything you need to know about today's weather in Kolkata, West Bengal, India. High/Low, Precipitation Chances, Sunrise/Sunset, and today's Temperature History.\"}]\n"
     ]
    }
   ],
   "source": [
    "results = DDGS().text(\"weather of kolkata today\", max_results=5)\n",
    "print(results)"
   ]
  },
  {
   "cell_type": "code",
   "execution_count": 267,
   "metadata": {},
   "outputs": [
    {
     "data": {
      "text/plain": [
       "'Kolkata, West Bengal, India Weather Forecast, with current conditions, wind, air quality, and what to expect for the next 3 days.'"
      ]
     },
     "execution_count": 267,
     "metadata": {},
     "output_type": "execute_result"
    }
   ],
   "source": [
    "results[0]['body'][:1000]"
   ]
  },
  {
   "cell_type": "code",
   "execution_count": 12,
   "metadata": {},
   "outputs": [
    {
     "data": {
      "text/plain": [
       "True"
      ]
     },
     "execution_count": 12,
     "metadata": {},
     "output_type": "execute_result"
    }
   ],
   "source": [
    "from dotenv import load_dotenv\n",
    "load_dotenv()"
   ]
  },
  {
   "cell_type": "code",
   "execution_count": 13,
   "metadata": {},
   "outputs": [],
   "source": [
    "import os\n",
    "import pprint\n",
    "\n",
    "os.environ[\"SERPER_API_KEY\"] = os.environ[\"SERPER_API_KEY\"]"
   ]
  },
  {
   "cell_type": "code",
   "execution_count": 14,
   "metadata": {},
   "outputs": [],
   "source": [
    "from langchain_community.utilities import GoogleSerperAPIWrapper"
   ]
  },
  {
   "cell_type": "code",
   "execution_count": 15,
   "metadata": {},
   "outputs": [],
   "source": [
    "import requests\n",
    "import json\n",
    "from langchain.prompts import PromptTemplate\n",
    "from langchain.output_parsers import PydanticOutputParser\n",
    "from pydantic import BaseModel, Field\n",
    "\n",
    "# Define a generic Pydantic model for LLM responses\n",
    "class SearchAnswer(BaseModel):\n",
    "    extracted_result:str = Field(description=\"A concise answer to the user's query extracted from context\")\n",
    "\n",
    "# Initialize the parser\n",
    "parser2 = PydanticOutputParser(pydantic_object=SearchAnswer)\n",
    "\n",
    "question = \"What is the capital of France?\"\n",
    "# Serper API request function\n",
    "\n",
    "def search_tool(question:str):\n",
    "\n",
    "    url = \"https://google.serper.dev/search\"\n",
    "    payload = json.dumps({\"q\": question, \"num\": 5})\n",
    "    headers = {\n",
    "        'X-API-KEY': os.environ[\"SERPER_API_KEY\"],\n",
    "        'Content-Type': 'application/json'\n",
    "    }\n",
    "    result = requests.request(\"POST\", url, headers=headers, data=payload)\n",
    "    print(result.text)\n",
    "\n",
    "    search_data = json.loads(result.text)\n",
    "    snippets = [result.get(\"snippet\", \"\") for result in search_data.get(\"organic\", [])]\n",
    "    context = \"\\n\".join(snippets)\n",
    "    print(\"Search Response:\", context)\n",
    "\n",
    "\n",
    "    template = \"\"\"\n",
    "    You are an AI designed to extract precise answers from search data. Given the following context and user query, provide a concise answer to the query based on the data. \n",
    "\n",
    "    ### context\n",
    "    {context}\n",
    "\n",
    "    ### User Query\n",
    "    {question}\n",
    "\n",
    "    ### Instructions\n",
    "    - Analyze the context to find the most relevant and accurate answer to the user’s query.\n",
    "    - If the data is unclear or insufficient, provide a fallback answer like \"I couldn’t find a clear answer based on the data.\"\n",
    "    - Keep the answer concise and directly related to the query, return the answer in following valid json format in extracted_result parameter.\n",
    "    - **extracted_result**: The answer.\n",
    "\n",
    "    {format_instructions}\n",
    "    \"\"\"\n",
    "    # \n",
    "\n",
    "    prompt = PromptTemplate(\n",
    "        template=template,\n",
    "        input_variables=[context, question],\n",
    "        partial_variables={\"format_instructions\": parser2.get_format_instructions()}\n",
    "    )\n",
    "\n",
    "    # Simulate LLM processing (replace with your actual LLM, e.g., Grok or OpenAI)\n",
    "\n",
    "\n",
    "    chain = prompt | llm4 | parser2\n",
    "\n",
    "    search_response = chain.invoke({\"context\":context , \"question\":question, \"format_instructions\":parser2.get_format_instructions()})\n",
    "    print(\"LLM Response:\", search_response)\n",
    "    \n",
    "    return search_response\n",
    "\n"
   ]
  },
  {
   "cell_type": "code",
   "execution_count": 121,
   "metadata": {},
   "outputs": [],
   "source": [
    "question = \"where is the capital of india ?\""
   ]
  },
  {
   "cell_type": "code",
   "execution_count": 122,
   "metadata": {},
   "outputs": [
    {
     "name": "stdout",
     "output_type": "stream",
     "text": [
      "{\"searchParameters\":{\"q\":\"where is the capital of india ?\",\"type\":\"search\",\"num\":5,\"engine\":\"google\"},\"organic\":[{\"title\":\"New Delhi - Wikipedia\",\"link\":\"https://en.wikipedia.org/wiki/New_Delhi\",\"snippet\":\"New Delhi is the capital of India and a part of the National Capital Territory of Delhi (NCT). New Delhi is the seat of all three branches of the Government ...\",\"position\":1},{\"title\":\"New Delhi | History, Population, Map, & Facts - Britannica\",\"link\":\"https://www.britannica.com/place/New-Delhi\",\"snippet\":\"New Delhi, national capital of India. It is situated in the north-central part of the country on the west bank of the Yamuna River.\",\"position\":2},{\"title\":\"Delhi - Wikipedia\",\"link\":\"https://en.wikipedia.org/wiki/Delhi\",\"snippet\":\"Delhi, officially the National Capital Territory (NCT) of Delhi, is a city and a union territory of India containing New Delhi, the capital of India.\",\"sitelinks\":[{\"title\":\"New Delhi\",\"link\":\"https://en.wikipedia.org/wiki/New_Delhi\"},{\"title\":\"History\",\"link\":\"https://en.wikipedia.org/wiki/History_of_Delhi\"},{\"title\":\"List of towns in Delhi by...\",\"link\":\"https://en.wikipedia.org/wiki/List_of_towns_in_Delhi_by_population\"},{\"title\":\"Old Delhi\",\"link\":\"https://en.wikipedia.org/wiki/Old_Delhi\"}],\"position\":3},{\"title\":\"The Capital of India | Know Your Country | National Geographic\",\"link\":\"https://www.youtube.com/watch?v=qELzANfST38&pp=0gcJCdgAo7VqN5tD\",\"snippet\":\"From the land of Pandavas, Indraprastha to now the capital region of the largest democracy, India, Delhi has been the face to many kingdoms ...\",\"date\":\"Aug 11, 2022\",\"position\":4}],\"images\":[{\"title\":\"What is the Capital of India? | Mappr\",\"imageUrl\":\"https://www.mappr.co/wp-content/uploads/2021/08/image-279.jpeg\",\"link\":\"https://www.mappr.co/capital-cities/india/\"},{\"title\":\"New Delhi | History, Population, Map, & Facts | Britannica\",\"imageUrl\":\"https://cdn.britannica.com/39/137639-050-0D1BC0BF/Delhi-India-site-World-Heritage.jpg\",\"link\":\"https://www.britannica.com/place/New-Delhi\"},{\"title\":\"Delhi | national capital territory, India | Britannica\",\"imageUrl\":\"https://cdn.britannica.com/39/137639-004-EE561359/Delhi-India-site-World-Heritage.jpg\",\"link\":\"https://www.britannica.com/place/Delhi-national-capital-territory-India\"},{\"title\":\"India Capital, What is the Capital of India?\",\"imageUrl\":\"https://www.burningcompass.com/countries/india/maps/india-capital.jpg\",\"link\":\"https://www.burningcompass.com/countries/india/india-capital.html\"},{\"title\":\"What is the Capital of India? - WorldAtlas\",\"imageUrl\":\"https://www.worldatlas.com/r/w1200/upload/64/a3/ca/shutterstock-563982820.jpg\",\"link\":\"https://www.worldatlas.com/articles/what-is-the-capital-of-india.html\"},{\"title\":\"National Capital Region (India) - Wikipedia\",\"imageUrl\":\"https://upload.wikimedia.org/wikipedia/commons/thumb/7/7f/India_NCR_locator_map.svg/250px-India_NCR_locator_map.svg.png\",\"link\":\"https://en.wikipedia.org/wiki/National_Capital_Region_(India)\"},{\"title\":\"Indian States and Capitals on Map | List of All India's 8 UTs and ...\",\"imageUrl\":\"https://www.mapsofindia.com/maps/schoolchildrens/india_states_and_capitals.jpg\",\"link\":\"https://www.mapsofindia.com/maps/schoolchildrens/states-and-capitals.htm\"},{\"title\":\"Delhi, India's MEGACITY: Capital of a Billion People - YouTube\",\"imageUrl\":\"https://i.ytimg.com/vi/OUPTGDrXDy4/hq720.jpg?sqp=-oaymwEhCK4FEIIDSFryq4qpAxMIARUAAAAAGAElAADIQj0AgKJD&rs=AOn4CLAqc_2cg1DilphTyzUv_i40bT6VDQ\",\"link\":\"https://m.youtube.com/watch?v=OUPTGDrXDy4\"},{\"title\":\"60 Second City: New Delhi, India! #60secondcities #newdelhi #india ...\",\"imageUrl\":\"https://i.ytimg.com/vi/d8DFRr3rRec/hq720.jpg?sqp=-oaymwEhCK4FEIIDSFryq4qpAxMIARUAAAAAGAElAADIQj0AgKJD&rs=AOn4CLBhfuw61xDt_b4ecSZ3zRwtyOKSFg\",\"link\":\"https://www.youtube.com/watch?v=g6VkgTe5JgU\"}],\"relatedSearches\":[{\"query\":\"Mumbai\"},{\"query\":\"Where is the capital of india located in india\"},{\"query\":\"Capital of India before Delhi\"},{\"query\":\"Second capital of India\"},{\"query\":\"Where is Delhi located in which state\"},{\"query\":\"First capital of India\"},{\"query\":\"India map\"},{\"query\":\"Capital of Delhi\"},{\"query\":\"List of 29 states of India with capital\"}],\"credits\":1}\n",
      "Search Response: New Delhi is the capital of India and a part of the National Capital Territory of Delhi (NCT). New Delhi is the seat of all three branches of the Government ...\n",
      "New Delhi, national capital of India. It is situated in the north-central part of the country on the west bank of the Yamuna River.\n",
      "Delhi, officially the National Capital Territory (NCT) of Delhi, is a city and a union territory of India containing New Delhi, the capital of India.\n",
      "From the land of Pandavas, Indraprastha to now the capital region of the largest democracy, India, Delhi has been the face to many kingdoms ...\n",
      "LLM Response: extracted_result='New Delhi'\n"
     ]
    }
   ],
   "source": [
    "search_response = search_tool(question)"
   ]
  },
  {
   "cell_type": "code",
   "execution_count": 123,
   "metadata": {},
   "outputs": [
    {
     "data": {
      "text/plain": [
       "'New Delhi'"
      ]
     },
     "execution_count": 123,
     "metadata": {},
     "output_type": "execute_result"
    }
   ],
   "source": [
    "search_response.extracted_result"
   ]
  },
  {
   "cell_type": "code",
   "execution_count": null,
   "metadata": {},
   "outputs": [],
   "source": [
    "def master_bot_router(state, chat_history:list): # agent call\n",
    "    messages =state[\"messages\"]\n",
    "    question=messages[-1] # last message\n",
    "    print(question)\n",
    "    \n",
    "    chat_history_str = \" \"\n",
    "    chat_history_str = \"\\n\".join(chat_history)\n",
    "        \n",
    "    \n",
    "    template=\"\"\"\n",
    "       You are an AI name given in chat history inside SystemMessage designed to conversation as a friend, educational carrier guide ,mentor, classmate or teacher with student politely with fun and ethically and full fill their need and help in study.\n",
    "       Below is the conversation history to provide context if it related to previous conversations:\n",
    "       \n",
    "       ### Chat History:{chat_history}\n",
    "       \n",
    "       ### Instructions:\n",
    "       1. **If the user asks a direct factual question or general knowledge related question or greetings (e.g.,\"hi\", \"hello\", \"Who is the current president of America?\", \"What is 2+2?, \"what is the weather in kolkata today?\")**:\n",
    "        - Provide a concise, direct Answer (e.g., \"Hi! user_name, how can I help you?\",\"how are you doing\", \"today is sunday\")  and store your answer in following parameter .\n",
    "        - Do not invent information or assume details not provided, if you not aware of latest information, if you dont know indicate this by setting **Answer** to \"I’m not aware, search needed\" (this will trigger an external search tool).\n",
    "        - **Answer**: your Answer with greetings related question (e.g., \"hi, this is a good question here is your answer, etc.\") .\n",
    "        - return response in following valid JSON format in parameters.\n",
    "        \n",
    "       2. **if they ask for \"research, study plan or course or problem solving like higher math(e.g,find the value of ∫2x cos (x² – 5) ) for high school or grad school or content creation or answer step by step, explain, answer with reason, context related study, asking some question for a topic for practice, create mcq for exam like NEET, JEE etc\" (e.g.,\"find the value of mathematics problem\", \"Create a study plan for...\", \"Solve this...\",\"Write a...\", \"create quiz .....)**:\n",
    "        - always starting with greetings (e.g., \"that is great\", etc.\")\n",
    "        - extract specific fields from student input without providing answers or additional content.\n",
    "        - When given a question or request, identify and extract the following parameters (if present): \n",
    "        - **Field_study**: Whether the topic is related to science or arts (e.g., science or arts), this field is mandatory must give value science or arts related to question.\n",
    "        - **Subject**: The general subject area (e.g., mathematics, history, English).\n",
    "        - *Chapter**: The specific chapter area (e.g., photosynthesis, calculus, mechanics)\n",
    "        - **Topic**: The specific topic within the subject (e.g., integration, kelvin cycle, gravitation).\n",
    "        - **Difficulty_level**: The difficulty level (e.g., beginner, intermediate, advanced) or \"N/A\" if not specified.\n",
    "        - **Question_or_query**: User input question as it is given.\n",
    "        - **Answer**: say something  to engage because it take few seconds (e.g, \"happy to see you progressive learning about Topic\",\"About to launch! welcome to your new learning\",\"it is processing\" ).\n",
    "        - returns response in following valid JSON format in parameters.\n",
    "           \n",
    "       3. **If the context is unclear or doesn’t fit the above categories**:\n",
    "        - Ask the user to clarify their request (e.g., \"Could you please provide more details so I can assist you better?\").\n",
    "        - Do not invent information or assume details not provided\n",
    "        \n",
    "        ### User query: {question}\n",
    "        {format_instructions}\n",
    "    \"\"\"\n",
    "    \n",
    "    prompt = PromptTemplate(template=template,\n",
    "                                    input_variables=[chat_history_str, question],\n",
    "                                    partial_variables={\n",
    "                                        \"format_instructions\" : parser.get_format_instructions()                                    }\n",
    "                                    )\n",
    "    chain =  prompt | llm4 | parser\n",
    "    \n",
    "    response = chain.invoke({\"chat_history\":chat_history_str,\"question\":question,\"format_instructions\" : parser.get_format_instructions() })\n",
    "    # next call either llm or rag\n",
    "    print(question)\n",
    "    # Initialize searchresults as None\n",
    "    searchresults = None\n",
    "    \n",
    "    if response.Answer == \"I’m not aware, search needed\":\n",
    "        search = search_tool(question=str(question))\n",
    "        print(search)\n",
    "        searchresults = f\"Hi, I looked it up and what I found: {search.extracted_result}\"\n",
    "        # Update the response with search result\n",
    "        print(searchresults)\n",
    "    \n",
    "    # Update response based on whether search was performed\n",
    "    final_response = FieldSelectionParser(\n",
    "        Field_study=response.Field_study,\n",
    "        Subject=response.Subject,\n",
    "        Chapter=response.Chapter,\n",
    "        Topic=response.Topic,\n",
    "        Difficulty_level=response.Difficulty_level,\n",
    "        Question_or_query=response.Question_or_query,\n",
    "        Answer=searchresults if searchresults else response.Answer\n",
    "    )\n",
    "\n",
    "    chat_history.extend([f\"UserMessage:{final_response.Question_or_query}\",f\"SystemMessage:{final_response.Answer}\"])\n",
    "    print(chat_history)\n",
    "    \n",
    "    # Print the response for debugging\n",
    "    print(\"Bot Response:\", final_response)\n",
    "\n",
    "    # Update the messages list with the new response\n",
    "    # updated_messages = messages + [response]\n",
    "\n",
    "    return {\"messages\": [final_response]} # this response go for llm or rag call using routing function"
   ]
  },
  {
   "cell_type": "code",
   "execution_count": 127,
   "metadata": {},
   "outputs": [],
   "source": [
    "state={\"messages\": [\"where is the capital of india ?\"]}"
   ]
  },
  {
   "cell_type": "code",
   "execution_count": 216,
   "metadata": {},
   "outputs": [
    {
     "data": {
      "text/plain": [
       "'Who is the current president of America?'"
      ]
     },
     "execution_count": 216,
     "metadata": {},
     "output_type": "execute_result"
    }
   ],
   "source": [
    "state[\"messages\"][-1]"
   ]
  },
  {
   "cell_type": "code",
   "execution_count": 227,
   "metadata": {},
   "outputs": [
    {
     "data": {
      "text/plain": [
       "['User:my name is Shubhankar Samnata, age is 20, study in class 10\\nBot:(No response yet)',\n",
       " 'Who is the current president of America?',\n",
       " 'Who is the current president of America?']"
      ]
     },
     "execution_count": 227,
     "metadata": {},
     "output_type": "execute_result"
    }
   ],
   "source": [
    "chat_history"
   ]
  },
  {
   "cell_type": "code",
   "execution_count": 226,
   "metadata": {},
   "outputs": [],
   "source": [
    "chat_history_str = \"\\n\".join(chat_history)"
   ]
  },
  {
   "cell_type": "code",
   "execution_count": 228,
   "metadata": {},
   "outputs": [
    {
     "data": {
      "text/plain": [
       "'User:my name is Shubhankar Samnata, age is 20, study in class 10\\nBot:(No response yet)\\nWho is the current president of America?\\nWho is the current president of America?'"
      ]
     },
     "execution_count": 228,
     "metadata": {},
     "output_type": "execute_result"
    }
   ],
   "source": [
    "chat_history_str"
   ]
  },
  {
   "cell_type": "code",
   "execution_count": 128,
   "metadata": {},
   "outputs": [
    {
     "name": "stdout",
     "output_type": "stream",
     "text": [
      "where is the capital of india ?\n",
      "where is the capital of india ?\n",
      "['UserMessage:my name is Shubhankar Samnata, age is 20, study in class 10SystemMessage: hi! I am your classmate', 'UserMessage:Find the value of ∫2x cos (x² – 5) with step by step solution', \"SystemMessage:Happy to help you with that! I'll break it down step by step. Are you ready?\", 'UserMessage:where is the capital of india ?', 'SystemMessage:The capital of India is New Delhi. How can I help you with that?']\n",
      "Bot Response: Field_study=None Subject=None Topic=None Difficulty_level=None Question_or_query='where is the capital of india ?' Answer='The capital of India is New Delhi. How can I help you with that?'\n"
     ]
    },
    {
     "data": {
      "text/plain": [
       "{'messages': [FieldSelectionParser(Field_study=None, Subject=None, Topic=None, Difficulty_level=None, Question_or_query='where is the capital of india ?', Answer='The capital of India is New Delhi. How can I help you with that?')]}"
      ]
     },
     "execution_count": 128,
     "metadata": {},
     "output_type": "execute_result"
    }
   ],
   "source": [
    "master_bot_router(state,chat_history)"
   ]
  },
  {
   "cell_type": "code",
   "execution_count": 244,
   "metadata": {},
   "outputs": [
    {
     "name": "stdout",
     "output_type": "stream",
     "text": [
      "['User:my name is Shubhankar Samnata, age is 20, study in class 10\\nBot:(No response yet)', 'UserMessage:Hi', 'SystemMessage:Hi Shubhankar Samnata, how can I help you?']\n"
     ]
    }
   ],
   "source": [
    "print(chat_history)"
   ]
  },
  {
   "cell_type": "code",
   "execution_count": 129,
   "metadata": {},
   "outputs": [
    {
     "data": {
      "text/plain": [
       "['UserMessage:my name is Shubhankar Samnata, age is 20, study in class 10SystemMessage: hi! I am your classmate',\n",
       " 'UserMessage:Find the value of ∫2x cos (x² – 5) with step by step solution',\n",
       " \"SystemMessage:Happy to help you with that! I'll break it down step by step. Are you ready?\",\n",
       " 'UserMessage:where is the capital of india ?',\n",
       " 'SystemMessage:The capital of India is New Delhi. How can I help you with that?']"
      ]
     },
     "execution_count": 129,
     "metadata": {},
     "output_type": "execute_result"
    }
   ],
   "source": [
    "chat_history"
   ]
  },
  {
   "cell_type": "code",
   "execution_count": 246,
   "metadata": {},
   "outputs": [],
   "source": [
    "state={\"messages\": [\"what is 3 times 4 ?\"]}"
   ]
  },
  {
   "cell_type": "code",
   "execution_count": 247,
   "metadata": {},
   "outputs": [
    {
     "name": "stdout",
     "output_type": "stream",
     "text": [
      "None\n",
      "Bot Response: Field_study=None Subject=None Topic=None Difficulty_level=None Question_or_query='what is 3 times 4 ?' Answer='Hi Shubhankar, the answer is 12.'\n"
     ]
    }
   ],
   "source": [
    "response=master_bot_router(state,chat_history=chat_history)"
   ]
  },
  {
   "cell_type": "code",
   "execution_count": 248,
   "metadata": {},
   "outputs": [
    {
     "data": {
      "text/plain": [
       "{'messages': [FieldSelectionParser(Field_study=None, Subject=None, Topic=None, Difficulty_level=None, Question_or_query='what is 3 times 4 ?', Answer='Hi Shubhankar, the answer is 12.')]}"
      ]
     },
     "execution_count": 248,
     "metadata": {},
     "output_type": "execute_result"
    }
   ],
   "source": [
    "response"
   ]
  },
  {
   "cell_type": "code",
   "execution_count": 249,
   "metadata": {},
   "outputs": [
    {
     "data": {
      "text/plain": [
       "'Hi Shubhankar, the answer is 12.'"
      ]
     },
     "execution_count": 249,
     "metadata": {},
     "output_type": "execute_result"
    }
   ],
   "source": [
    "response[\"messages\"][0].model_dump()[\"Answer\"]"
   ]
  },
  {
   "cell_type": "code",
   "execution_count": 250,
   "metadata": {},
   "outputs": [
    {
     "data": {
      "text/plain": [
       "['User:my name is Shubhankar Samnata, age is 20, study in class 10\\nBot:(No response yet)',\n",
       " 'UserMessage:Hi',\n",
       " 'SystemMessage:Hi Shubhankar Samnata, how can I help you?',\n",
       " 'UserMessage:what is 3 times 4 ?',\n",
       " 'SystemMessage:Hi Shubhankar, the answer is 12.']"
      ]
     },
     "execution_count": 250,
     "metadata": {},
     "output_type": "execute_result"
    }
   ],
   "source": [
    "chat_history"
   ]
  },
  {
   "cell_type": "code",
   "execution_count": 251,
   "metadata": {},
   "outputs": [
    {
     "data": {
      "text/plain": [
       "{'messages': ['what is 3 times 4 ?']}"
      ]
     },
     "execution_count": 251,
     "metadata": {},
     "output_type": "execute_result"
    }
   ],
   "source": [
    "state"
   ]
  },
  {
   "cell_type": "code",
   "execution_count": 29,
   "metadata": {},
   "outputs": [],
   "source": [
    "\n",
    "state={\"messages\": [\"Find the value of ∫2x cos (x² – 5) with step by step solution \"]}"
   ]
  },
  {
   "cell_type": "code",
   "execution_count": 253,
   "metadata": {},
   "outputs": [
    {
     "data": {
      "text/plain": [
       "{'messages': ['Find the value of ∫2x cos (x² – 5) with step by step solution ']}"
      ]
     },
     "execution_count": 253,
     "metadata": {},
     "output_type": "execute_result"
    }
   ],
   "source": [
    "state"
   ]
  },
  {
   "cell_type": "code",
   "execution_count": 30,
   "metadata": {},
   "outputs": [
    {
     "name": "stdout",
     "output_type": "stream",
     "text": [
      "Find the value of ∫2x cos (x² – 5) with step by step solution \n",
      "Find the value of ∫2x cos (x² – 5) with step by step solution \n",
      "['UserMessage:my name is Shubhankar Samnata, age is 20, study in class 10SystemMessage: hi! I am your classmate', 'UserMessage:Find the value of ∫2x cos (x² – 5) with step by step solution', 'SystemMessage:Happy to help you with that! Our journey to solve this integration problem begins now...', 'UserMessage:Find the value of ∫2x cos (x² – 5) with step by step solution', 'SystemMessage:Happy to help you with that! Our journey to solve this integration problem begins now... Let me guide you through the steps.', 'UserMessage:Find the value of ∫2x cos (x² – 5) with step by step solution', 'SystemMessage:Happy to help you with that! Our journey to solve this integration problem begins now... Let me guide you through the steps.']\n",
      "Bot Response: Field_study='science' Subject='math' Chapter='calculus' Topic='integration' Difficulty_level='intermediate' Question_or_query='Find the value of ∫2x cos (x² – 5) with step by step solution' Answer='Happy to help you with that! Our journey to solve this integration problem begins now... Let me guide you through the steps.'\n"
     ]
    }
   ],
   "source": [
    "response = master_bot_router(state,chat_history= chat_history)"
   ]
  },
  {
   "cell_type": "code",
   "execution_count": 255,
   "metadata": {},
   "outputs": [
    {
     "data": {
      "text/plain": [
       "{'messages': [FieldSelectionParser(Field_study=None, Subject=None, Topic=None, Difficulty_level=None, Question_or_query='Find the value of ∫2x cos (x² – 5) with step by step solution', Answer='Happy to see you diving into calculus! This is a complex integration problem, please allow me a few seconds to process it...')]}"
      ]
     },
     "execution_count": 255,
     "metadata": {},
     "output_type": "execute_result"
    }
   ],
   "source": [
    "response"
   ]
  },
  {
   "cell_type": "code",
   "execution_count": 53,
   "metadata": {},
   "outputs": [
    {
     "data": {
      "text/plain": [
       "['UserMessage:my name is Shubhankar Samnata, age is 20, study in class 10SystemMessage: hi! I am your classmate',\n",
       " 'UserMessage:Find the value of ∫2x cos (x² – 5) with step by step solution',\n",
       " \"SystemMessage:Happy to help you with that! I'll break it down step by step. Are you ready?\"]"
      ]
     },
     "execution_count": 53,
     "metadata": {},
     "output_type": "execute_result"
    }
   ],
   "source": [
    "chat_history"
   ]
  },
  {
   "cell_type": "code",
   "execution_count": 259,
   "metadata": {},
   "outputs": [
    {
     "data": {
      "text/plain": [
       "'Happy to see you diving into calculus! This is a complex integration problem, please allow me a few seconds to process it...'"
      ]
     },
     "execution_count": 259,
     "metadata": {},
     "output_type": "execute_result"
    }
   ],
   "source": [
    "response[\"messages\"][0].model_dump()[\"Answer\"]"
   ]
  },
  {
   "cell_type": "code",
   "execution_count": 131,
   "metadata": {},
   "outputs": [],
   "source": [
    "from langchain_core.output_parsers import StrOutputParser"
   ]
  },
  {
   "cell_type": "code",
   "execution_count": null,
   "metadata": {},
   "outputs": [],
   "source": [
    "def science_bot(state):\n",
    "    messages = state[\"messages\"]\n",
    "    context = messages[-1]\n",
    "    print(context)\n",
    "    \n",
    "    template = \"\"\"\n",
    "        You are an AI educational assistant designed to help students by creating detailed study plans, courses, or generating exam-style questions and check answer , provide correct answer based on their input. Use the following details provided by the user to generate a response tailored to their request.\n",
    "        extract parameters from context .\n",
    "        ### context: {context}\n",
    "    \n",
    "        ### Instructions:\n",
    "        1. **If the query or question asks to \"create a course\" or \"create a study plan\" ** (e.g., \"Create a course on...\", \"Create a study plan for...\"):\n",
    "        - Design a detailed course or study plan based on the provided subject, topic, and difficulty level/class.\n",
    "        - Include the following sections in your response:\n",
    "            - **Overview**: A brief introduction to the course/study plan.\n",
    "            - **Duration**: Suggested time frame (e.g., 1 week, 1 month).\n",
    "            - **Learning Objectives**: 3-5 specific goals for the student.\n",
    "            - **Schedule/Structure**: A breakdown of topics/subtopics with suggested time allocations (e.g., daily or weekly tasks).\n",
    "    \n",
    "        - Keep the content appropriate for the specified difficulty level or class (e.g., beginner, intermediate, advanced, or grade level).\n",
    "\n",
    "        2. **If the query asks to \"create questions\" or \"generate exam questions\"** (e.g., \"Create MCQs for...\", \"Generate descriptive questions on...\", \"create numerical questions on...\"):\n",
    "        - Generate 10-15 questions based on the subject, topic, difficulty level/class, and specified question type (e.g., MCQ, descriptive, short answer).\n",
    "        - For MCQs:\n",
    "            - Provide 4 answer options (a, b, c, d) with no answer  marked.\n",
    "        - For descriptive questions:\n",
    "            - Ensure the questions require detailed explanations or reasoning.\n",
    "        - Match the complexity to the difficulty level/class provided.\n",
    "        \n",
    "        3. **If the query ask for give tutorial or lecture on topic sub topic, details derivation of formula, prove any equation or formulae details explanation or reasoning or doubt clearing or solve problems step by step (e.g.,\"Find the value of ∫2x cos (x² – 5) with step by step solution\", \"explain kelvin cycle\", \"I have doubt or confusion about...\")\n",
    "        - Explain in detail easiest way ,give example, derivation , equation, formula, diagram, graph if has, solve problems step by step solution, with fun so that student can understand easily.\n",
    "        - give a list of resources, link , book etc.\n",
    "        \n",
    "        4. **If the query is unclear or incomplete**:\n",
    "        - Politely ask for clarification (e.g., \"Could you please specify if you want a study plan or questions, and provide more details?\").\n",
    "\n",
    "        5. **General Guidelines**:\n",
    "        - Keep the tone friendly, encouraging, and educational. make fun with learning\n",
    "        - Ensure the response is detailed, structured, and directly addresses the query.\n",
    "        - Adapt the content to the difficulty level or class (e.g., simpler explanations for beginners, advanced concepts for higher levels).\n",
    "\n",
    "        ### Response Format:\n",
    "        - Provide your response in clear, well-organized text.\n",
    "        - Use headings (e.g., ## Overview, ## Learning Objectives) to structure the output.\n",
    "\n",
    "        ---\n",
    "\n",
    "        ### Example Inputs and Expected Outputs:\n",
    "        **Input 1**: \n",
    "        - Subject: Mathematics\n",
    "        - Topic: Algebra\n",
    "        - Difficulty Level: Intermediate\n",
    "        - Query: Create a study plan on that topic\n",
    "        **Output**: A detailed study plan with overview, duration, objectives, schedule, and resources.\n",
    "\n",
    "        **Input 2**: \n",
    "        - Subject: Biology\n",
    "        - Topic: Cell Structure\n",
    "        - Difficulty Level: Class 10\n",
    "        - Question Type: MCQ\n",
    "        - Query: Generate exam questions\n",
    "        **Output**: 10-15 multiple-choice questions with options and correct answers.\n",
    "\n",
    "        \n",
    "    \"\"\"\n",
    "    \n",
    "    prompt = PromptTemplate(template=template,\n",
    "                                    input_variables=[context],\n",
    "                                    partial_variables={}\n",
    "                                    )\n",
    "    \n",
    "    chain =  prompt | llm1 #| StrOutputParser()\n",
    "    \n",
    "    response = chain.invoke({\"context\": context})\n",
    "    \n",
    "    return {\"messages\": [response]}\n",
    "            \n",
    "            "
   ]
  },
  {
   "cell_type": "code",
   "execution_count": 133,
   "metadata": {},
   "outputs": [],
   "source": [
    "\n",
    "state={\"messages\": [\"Find the value of ∫2x cos (x² – 5) with step by step solution \"]}"
   ]
  },
  {
   "cell_type": "code",
   "execution_count": 140,
   "metadata": {},
   "outputs": [],
   "source": [
    "state = {\"messages\": [\"give me study plan for quantum mechanics in grad levels\"]}"
   ]
  },
  {
   "cell_type": "code",
   "execution_count": 141,
   "metadata": {},
   "outputs": [
    {
     "name": "stdout",
     "output_type": "stream",
     "text": [
      "give me study plan for quantum mechanics in grad levels\n"
     ]
    }
   ],
   "source": [
    "solution = science_bot(state)"
   ]
  },
  {
   "cell_type": "code",
   "execution_count": 142,
   "metadata": {},
   "outputs": [
    {
     "data": {
      "text/plain": [
       "'Okay, I can help you create a study plan for Quantum Mechanics at the graduate level. Here\\'s a detailed plan to guide you through the subject:\\n\\n## Overview\\n\\nThis study plan is designed to provide a comprehensive understanding of Quantum Mechanics at the graduate level. It covers fundamental principles, mathematical tools, and advanced topics, ensuring a strong foundation for research and further study.\\n\\n## Duration\\n\\n12 Months (3 Semesters)\\n\\n## Learning Objectives\\n\\nBy the end of this study plan, you should be able to:\\n\\n1.  Understand and apply the fundamental principles of quantum mechanics, including wave-particle duality, superposition, and entanglement.\\n2.  Solve the Schrödinger equation for various potentials and systems.\\n3.  Apply perturbation theory and other approximation methods to solve complex quantum mechanical problems.\\n4.  Understand and apply quantum mechanics to advanced topics such as quantum field theory and quantum information.\\n5.  Develop problem-solving skills and apply quantum mechanical concepts to real-world scenarios.\\n\\n## Schedule/Structure\\n\\n### Semester 1: Foundations of Quantum Mechanics (4 Months)\\n\\n#### Week 1-2: Introduction to Quantum Mechanics\\n\\n*   **Topics**:\\n    *   Historical Overview of Quantum Mechanics\\n    *   Wave-Particle Duality\\n    *   Uncertainty Principle\\n    *   **Readings**:\\n        *   Griffiths, \"Introduction to Quantum Mechanics,\" Chapter 1\\n        *   Shankar, \"Principles of Quantum Mechanics,\" Chapter 1-2\\n\\n#### Week 3-4: Mathematical Tools for Quantum Mechanics\\n\\n*   **Topics**:\\n    *   Linear Vector Spaces\\n    *   Operators and Eigenvalues\\n    *   Dirac Notation\\n    *   **Readings**:\\n        *   Griffiths, \"Introduction to Quantum Mechanics,\" Chapter 3\\n        *   Shankar, \"Principles of Quantum Mechanics,\" Chapter 2\\n\\n#### Week 5-6: Postulates of Quantum Mechanics\\n\\n*   **Topics**:\\n    *   State Vectors and Wave Functions\\n    *   Operators and Observables\\n    *   Time Evolution\\n    *   **Readings**:\\n        *   Griffiths, \"Introduction to Quantum Mechanics,\" Chapter 3\\n        *   Sakurai, \"Modern Quantum Mechanics,\" Chapter 1\\n\\n#### Week 7-8: One-Dimensional Potentials\\n\\n*   **Topics**:\\n    *   Free Particle\\n    *   Infinite Square Well\\n    *   Finite Potential Well\\n    *   Harmonic Oscillator\\n    *   **Readings**:\\n        *   Griffiths, \"Introduction to Quantum Mechanics,\" Chapter 2\\n        *   Shankar, \"Principles of Quantum Mechanics,\" Chapter 5\\n\\n#### Week 9-10: Three-Dimensional Potentials\\n\\n*   **Topics**:\\n    *   Central Potentials\\n    *   Hydrogen Atom\\n    *   Angular Momentum\\n    *   **Readings**:\\n        *   Griffiths, \"Introduction to Quantum Mechanics,\" Chapter 4\\n        *   Sakurai, \"Modern Quantum Mechanics,\" Chapter 3\\n\\n#### Week 11-12: Angular Momentum\\n\\n*   **Topics**:\\n    *   Orbital Angular Momentum\\n    *   Spin Angular Momentum\\n    *   Addition of Angular Momenta\\n    *   **Readings**:\\n        *   Griffiths, \"Introduction to Quantum Mechanics,\" Chapter 4\\n        *   Sakurai, \"Modern Quantum Mechanics,\" Chapter 3\\n\\n#### Week 13-16: Review and Problem Solving\\n\\n*   **Tasks**:\\n    *   Review all topics\\n    *   Solve problems from textbooks and previous exams\\n    *   Work on assignments\\n\\n### Semester 2: Approximation Methods and Applications (4 Months)\\n\\n#### Week 1-2: Time-Independent Perturbation Theory\\n\\n*   **Topics**:\\n    *   Non-Degenerate Perturbation Theory\\n    *   Degenerate Perturbation Theory\\n    *   **Readings**:\\n        *   Griffiths, \"Introduction to Quantum Mechanics,\" Chapter 6\\n        *   Sakurai, \"Modern Quantum Mechanics,\" Chapter 5\\n\\n#### Week 3-4: Variational Method\\n\\n*   **Topics**:\\n    *   Variational Principle\\n    *   Applications of Variational Method\\n    *   **Readings**:\\n        *   Griffiths, \"Introduction to Quantum Mechanics,\" Chapter 7\\n        *   Shankar, \"Principles of Quantum Mechanics,\" Chapter 16\\n\\n#### Week 5-6: WKB Approximation\\n\\n*   **Topics**:\\n    *   WKB Method\\n    *   Applications to Barrier Penetration and Bound States\\n    *   **Readings**:\\n        *   Griffiths, \"Introduction to Quantum Mechanics,\" Chapter 8\\n        *   Sakurai, \"Modern Quantum Mechanics,\" Chapter 6\\n\\n#### Week 7-8: Time-Dependent Perturbation Theory\\n\\n*   **Topics**:\\n    *   Transition Rates\\n    *   Fermi\\'s Golden Rule\\n    *   **Readings**:\\n        *   Griffiths, \"Introduction to Quantum Mechanics,\" Chapter 9\\n        *   Sakurai, \"Modern Quantum Mechanics,\" Chapter 5\\n\\n#### Week 9-10: Scattering Theory\\n\\n*   **Topics**:\\n    *   Scattering Amplitude\\n    *   Born Approximation\\n    *   Partial Wave Analysis\\n    *   **Readings**:\\n        *   Griffiths, \"Introduction to Quantum Mechanics,\" Chapter 11\\n        *   Sakurai, \"Modern Quantum Mechanics,\" Chapter 7\\n\\n#### Week 11-12: Identical Particles\\n\\n*   **Topics**:\\n    *   Bosons and Fermions\\n    *   Symmetric and Antisymmetric Wave Functions\\n    *   **Readings**:\\n        *   Griffiths, \"Introduction to Quantum Mechanics,\" Chapter 5\\n        *   Sakurai, \"Modern Quantum Mechanics,\" Chapter 6\\n\\n#### Week 13-16: Review and Problem Solving\\n\\n*   **Tasks**:\\n    *   Review all topics\\n    *   Solve problems from textbooks and previous exams\\n    *   Work on assignments\\n\\n### Semester 3: Advanced Topics in Quantum Mechanics (4 Months)\\n\\n#### Week 1-4: Relativistic Quantum Mechanics\\n\\n*   **Topics**:\\n    *   Klein-Gordon Equation\\n    *   Dirac Equation\\n    *   Solutions of Dirac Equation\\n    *   **Readings**:\\n        *   Sakurai, \"Advanced Quantum Mechanics,\" Chapter 3\\n        *   Greiner, \"Relativistic Quantum Mechanics\"\\n\\n#### Week 5-8: Quantum Field Theory\\n\\n*   **Topics**:\\n    *   Quantization of Scalar Fields\\n    *   Quantization of Dirac Fields\\n    *   Introduction to Feynman Diagrams\\n    *   **Readings**:\\n        *   Peskin and Schroeder, \"An Introduction to Quantum Field Theory,\" Chapters 2-4\\n        *   Ryder, \"Quantum Field Theory,\" Chapters 2-3\\n\\n#### Week 9-12: Quantum Information and Computation\\n\\n*   **Topics**:\\n    *   Qubits and Quantum Gates\\n    *   Quantum Algorithms (e.g., Shor\\'s Algorithm)\\n    *   Quantum Key Distribution\\n    *   **Readings**:\\n        *   Nielsen and Chuang, \"Quantum Computation and Quantum Information,\" Chapters 1-4\\n        *   Mermin, \"Quantum Computer Science: An Introduction\"\\n\\n#### Week 13-16: Advanced Topics and Research\\n\\n*   **Tasks**:\\n    *   Explore advanced topics based on interest (e.g., Quantum Electrodynamics, Quantum Chromodynamics)\\n    *   Start working on a research project or thesis\\n    *   Presentations and discussions on selected topics\\n\\n## Resources\\n\\n*   **Textbooks**:\\n    *   Griffiths, \"Introduction to Quantum Mechanics\"\\n    *   Shankar, \"Principles of Quantum Mechanics\"\\n    *   Sakurai, \"Modern Quantum Mechanics\"\\n    *   Sakurai, \"Advanced Quantum Mechanics\"\\n    *   Nielsen and Chuang, \"Quantum Computation and Quantum Information\"\\n    *   Peskin and Schroeder, \"An Introduction to Quantum Field Theory\"\\n*   **Online Resources**:\\n    *   MIT OpenCourseWare\\n    *   Coursera\\n    *   edX\\n*   **Journals**:\\n    *   Physical Review Letters\\n    *   Physical Review A, B, C, D, E\\n    *   Journal of Mathematical Physics\\n\\n## Tips for Success\\n\\n*   **Consistency**: Dedicate specific hours each day for studying.\\n*   **Problem Solving**: Regularly solve problems to reinforce your understanding.\\n*   **Discussion**: Engage in discussions with peers and professors.\\n*   **Review**: Regularly review previous topics to keep the concepts fresh.\\n*   **Application**: Try to relate theoretical concepts to real-world applications.\\n\\nThis study plan should provide a solid foundation in Quantum Mechanics at the graduate level. Good luck with your studies! Let me know if you need any further assistance or modifications to this plan.'"
      ]
     },
     "execution_count": 142,
     "metadata": {},
     "output_type": "execute_result"
    }
   ],
   "source": [
    "solution[\"messages\"][0]"
   ]
  },
  {
   "cell_type": "markdown",
   "metadata": {},
   "source": [
    "#### Date wise (date indexing) chat history  store for long term (may be in summary or entity memory)"
   ]
  },
  {
   "cell_type": "code",
   "execution_count": 143,
   "metadata": {},
   "outputs": [
    {
     "data": {
      "text/markdown": [
       "Okay, I can help you create a study plan for Quantum Mechanics at the graduate level. Here's a detailed plan to guide you through the subject:\n",
       "\n",
       "## Overview\n",
       "\n",
       "This study plan is designed to provide a comprehensive understanding of Quantum Mechanics at the graduate level. It covers fundamental principles, mathematical tools, and advanced topics, ensuring a strong foundation for research and further study.\n",
       "\n",
       "## Duration\n",
       "\n",
       "12 Months (3 Semesters)\n",
       "\n",
       "## Learning Objectives\n",
       "\n",
       "By the end of this study plan, you should be able to:\n",
       "\n",
       "1.  Understand and apply the fundamental principles of quantum mechanics, including wave-particle duality, superposition, and entanglement.\n",
       "2.  Solve the Schrödinger equation for various potentials and systems.\n",
       "3.  Apply perturbation theory and other approximation methods to solve complex quantum mechanical problems.\n",
       "4.  Understand and apply quantum mechanics to advanced topics such as quantum field theory and quantum information.\n",
       "5.  Develop problem-solving skills and apply quantum mechanical concepts to real-world scenarios.\n",
       "\n",
       "## Schedule/Structure\n",
       "\n",
       "### Semester 1: Foundations of Quantum Mechanics (4 Months)\n",
       "\n",
       "#### Week 1-2: Introduction to Quantum Mechanics\n",
       "\n",
       "*   **Topics**:\n",
       "    *   Historical Overview of Quantum Mechanics\n",
       "    *   Wave-Particle Duality\n",
       "    *   Uncertainty Principle\n",
       "    *   **Readings**:\n",
       "        *   Griffiths, \"Introduction to Quantum Mechanics,\" Chapter 1\n",
       "        *   Shankar, \"Principles of Quantum Mechanics,\" Chapter 1-2\n",
       "\n",
       "#### Week 3-4: Mathematical Tools for Quantum Mechanics\n",
       "\n",
       "*   **Topics**:\n",
       "    *   Linear Vector Spaces\n",
       "    *   Operators and Eigenvalues\n",
       "    *   Dirac Notation\n",
       "    *   **Readings**:\n",
       "        *   Griffiths, \"Introduction to Quantum Mechanics,\" Chapter 3\n",
       "        *   Shankar, \"Principles of Quantum Mechanics,\" Chapter 2\n",
       "\n",
       "#### Week 5-6: Postulates of Quantum Mechanics\n",
       "\n",
       "*   **Topics**:\n",
       "    *   State Vectors and Wave Functions\n",
       "    *   Operators and Observables\n",
       "    *   Time Evolution\n",
       "    *   **Readings**:\n",
       "        *   Griffiths, \"Introduction to Quantum Mechanics,\" Chapter 3\n",
       "        *   Sakurai, \"Modern Quantum Mechanics,\" Chapter 1\n",
       "\n",
       "#### Week 7-8: One-Dimensional Potentials\n",
       "\n",
       "*   **Topics**:\n",
       "    *   Free Particle\n",
       "    *   Infinite Square Well\n",
       "    *   Finite Potential Well\n",
       "    *   Harmonic Oscillator\n",
       "    *   **Readings**:\n",
       "        *   Griffiths, \"Introduction to Quantum Mechanics,\" Chapter 2\n",
       "        *   Shankar, \"Principles of Quantum Mechanics,\" Chapter 5\n",
       "\n",
       "#### Week 9-10: Three-Dimensional Potentials\n",
       "\n",
       "*   **Topics**:\n",
       "    *   Central Potentials\n",
       "    *   Hydrogen Atom\n",
       "    *   Angular Momentum\n",
       "    *   **Readings**:\n",
       "        *   Griffiths, \"Introduction to Quantum Mechanics,\" Chapter 4\n",
       "        *   Sakurai, \"Modern Quantum Mechanics,\" Chapter 3\n",
       "\n",
       "#### Week 11-12: Angular Momentum\n",
       "\n",
       "*   **Topics**:\n",
       "    *   Orbital Angular Momentum\n",
       "    *   Spin Angular Momentum\n",
       "    *   Addition of Angular Momenta\n",
       "    *   **Readings**:\n",
       "        *   Griffiths, \"Introduction to Quantum Mechanics,\" Chapter 4\n",
       "        *   Sakurai, \"Modern Quantum Mechanics,\" Chapter 3\n",
       "\n",
       "#### Week 13-16: Review and Problem Solving\n",
       "\n",
       "*   **Tasks**:\n",
       "    *   Review all topics\n",
       "    *   Solve problems from textbooks and previous exams\n",
       "    *   Work on assignments\n",
       "\n",
       "### Semester 2: Approximation Methods and Applications (4 Months)\n",
       "\n",
       "#### Week 1-2: Time-Independent Perturbation Theory\n",
       "\n",
       "*   **Topics**:\n",
       "    *   Non-Degenerate Perturbation Theory\n",
       "    *   Degenerate Perturbation Theory\n",
       "    *   **Readings**:\n",
       "        *   Griffiths, \"Introduction to Quantum Mechanics,\" Chapter 6\n",
       "        *   Sakurai, \"Modern Quantum Mechanics,\" Chapter 5\n",
       "\n",
       "#### Week 3-4: Variational Method\n",
       "\n",
       "*   **Topics**:\n",
       "    *   Variational Principle\n",
       "    *   Applications of Variational Method\n",
       "    *   **Readings**:\n",
       "        *   Griffiths, \"Introduction to Quantum Mechanics,\" Chapter 7\n",
       "        *   Shankar, \"Principles of Quantum Mechanics,\" Chapter 16\n",
       "\n",
       "#### Week 5-6: WKB Approximation\n",
       "\n",
       "*   **Topics**:\n",
       "    *   WKB Method\n",
       "    *   Applications to Barrier Penetration and Bound States\n",
       "    *   **Readings**:\n",
       "        *   Griffiths, \"Introduction to Quantum Mechanics,\" Chapter 8\n",
       "        *   Sakurai, \"Modern Quantum Mechanics,\" Chapter 6\n",
       "\n",
       "#### Week 7-8: Time-Dependent Perturbation Theory\n",
       "\n",
       "*   **Topics**:\n",
       "    *   Transition Rates\n",
       "    *   Fermi's Golden Rule\n",
       "    *   **Readings**:\n",
       "        *   Griffiths, \"Introduction to Quantum Mechanics,\" Chapter 9\n",
       "        *   Sakurai, \"Modern Quantum Mechanics,\" Chapter 5\n",
       "\n",
       "#### Week 9-10: Scattering Theory\n",
       "\n",
       "*   **Topics**:\n",
       "    *   Scattering Amplitude\n",
       "    *   Born Approximation\n",
       "    *   Partial Wave Analysis\n",
       "    *   **Readings**:\n",
       "        *   Griffiths, \"Introduction to Quantum Mechanics,\" Chapter 11\n",
       "        *   Sakurai, \"Modern Quantum Mechanics,\" Chapter 7\n",
       "\n",
       "#### Week 11-12: Identical Particles\n",
       "\n",
       "*   **Topics**:\n",
       "    *   Bosons and Fermions\n",
       "    *   Symmetric and Antisymmetric Wave Functions\n",
       "    *   **Readings**:\n",
       "        *   Griffiths, \"Introduction to Quantum Mechanics,\" Chapter 5\n",
       "        *   Sakurai, \"Modern Quantum Mechanics,\" Chapter 6\n",
       "\n",
       "#### Week 13-16: Review and Problem Solving\n",
       "\n",
       "*   **Tasks**:\n",
       "    *   Review all topics\n",
       "    *   Solve problems from textbooks and previous exams\n",
       "    *   Work on assignments\n",
       "\n",
       "### Semester 3: Advanced Topics in Quantum Mechanics (4 Months)\n",
       "\n",
       "#### Week 1-4: Relativistic Quantum Mechanics\n",
       "\n",
       "*   **Topics**:\n",
       "    *   Klein-Gordon Equation\n",
       "    *   Dirac Equation\n",
       "    *   Solutions of Dirac Equation\n",
       "    *   **Readings**:\n",
       "        *   Sakurai, \"Advanced Quantum Mechanics,\" Chapter 3\n",
       "        *   Greiner, \"Relativistic Quantum Mechanics\"\n",
       "\n",
       "#### Week 5-8: Quantum Field Theory\n",
       "\n",
       "*   **Topics**:\n",
       "    *   Quantization of Scalar Fields\n",
       "    *   Quantization of Dirac Fields\n",
       "    *   Introduction to Feynman Diagrams\n",
       "    *   **Readings**:\n",
       "        *   Peskin and Schroeder, \"An Introduction to Quantum Field Theory,\" Chapters 2-4\n",
       "        *   Ryder, \"Quantum Field Theory,\" Chapters 2-3\n",
       "\n",
       "#### Week 9-12: Quantum Information and Computation\n",
       "\n",
       "*   **Topics**:\n",
       "    *   Qubits and Quantum Gates\n",
       "    *   Quantum Algorithms (e.g., Shor's Algorithm)\n",
       "    *   Quantum Key Distribution\n",
       "    *   **Readings**:\n",
       "        *   Nielsen and Chuang, \"Quantum Computation and Quantum Information,\" Chapters 1-4\n",
       "        *   Mermin, \"Quantum Computer Science: An Introduction\"\n",
       "\n",
       "#### Week 13-16: Advanced Topics and Research\n",
       "\n",
       "*   **Tasks**:\n",
       "    *   Explore advanced topics based on interest (e.g., Quantum Electrodynamics, Quantum Chromodynamics)\n",
       "    *   Start working on a research project or thesis\n",
       "    *   Presentations and discussions on selected topics\n",
       "\n",
       "## Resources\n",
       "\n",
       "*   **Textbooks**:\n",
       "    *   Griffiths, \"Introduction to Quantum Mechanics\"\n",
       "    *   Shankar, \"Principles of Quantum Mechanics\"\n",
       "    *   Sakurai, \"Modern Quantum Mechanics\"\n",
       "    *   Sakurai, \"Advanced Quantum Mechanics\"\n",
       "    *   Nielsen and Chuang, \"Quantum Computation and Quantum Information\"\n",
       "    *   Peskin and Schroeder, \"An Introduction to Quantum Field Theory\"\n",
       "*   **Online Resources**:\n",
       "    *   MIT OpenCourseWare\n",
       "    *   Coursera\n",
       "    *   edX\n",
       "*   **Journals**:\n",
       "    *   Physical Review Letters\n",
       "    *   Physical Review A, B, C, D, E\n",
       "    *   Journal of Mathematical Physics\n",
       "\n",
       "## Tips for Success\n",
       "\n",
       "*   **Consistency**: Dedicate specific hours each day for studying.\n",
       "*   **Problem Solving**: Regularly solve problems to reinforce your understanding.\n",
       "*   **Discussion**: Engage in discussions with peers and professors.\n",
       "*   **Review**: Regularly review previous topics to keep the concepts fresh.\n",
       "*   **Application**: Try to relate theoretical concepts to real-world applications.\n",
       "\n",
       "This study plan should provide a solid foundation in Quantum Mechanics at the graduate level. Good luck with your studies! Let me know if you need any further assistance or modifications to this plan."
      ],
      "text/plain": [
       "<IPython.core.display.Markdown object>"
      ]
     },
     "metadata": {},
     "output_type": "display_data"
    }
   ],
   "source": [
    "from IPython.display import display, Markdown\n",
    "display(Markdown(solution[\"messages\"][0]))"
   ]
  },
  {
   "cell_type": "code",
   "execution_count": null,
   "metadata": {},
   "outputs": [],
   "source": []
  }
 ],
 "metadata": {
  "kernelspec": {
   "display_name": "Python 3",
   "language": "python",
   "name": "python3"
  },
  "language_info": {
   "codemirror_mode": {
    "name": "ipython",
    "version": 3
   },
   "file_extension": ".py",
   "mimetype": "text/x-python",
   "name": "python",
   "nbconvert_exporter": "python",
   "pygments_lexer": "ipython3",
   "version": "3.12.0"
  }
 },
 "nbformat": 4,
 "nbformat_minor": 2
}
