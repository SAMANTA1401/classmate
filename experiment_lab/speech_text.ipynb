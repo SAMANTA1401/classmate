{
 "cells": [
  {
   "cell_type": "code",
   "execution_count": null,
   "metadata": {},
   "outputs": [],
   "source": [
    "import speech_recognition as sr\n",
    "from gtts import gTTS\n",
    "import playsound"
   ]
  },
  {
   "cell_type": "code",
   "execution_count": null,
   "metadata": {},
   "outputs": [],
   "source": [
    "import os"
   ]
  },
  {
   "cell_type": "code",
   "execution_count": null,
   "metadata": {},
   "outputs": [],
   "source": [
    "def speech_to_text():\n",
    "    \"\"\"Converts spoken input to text using speech recognition.\"\"\"\n",
    "    recognizer = sr.Recognizer()\n",
    "    with sr.Microphone() as source:\n",
    "        print(\"Please speak your math problem (e.g., 'Solve two x plus three equals seven')...\")\n",
    "        recognizer.adjust_for_ambient_noise(source, duration=1)  # Adjust for noise\n",
    "        audio = recognizer.listen(source)\n",
    "    \n",
    "    try:\n",
    "        text = recognizer.recognize_google(audio).lower()\n",
    "        print(\"You said:\", text)\n",
    "        return text\n",
    "    except sr.UnknownValueError:\n",
    "        print(\"Sorry, I couldn’t understand what you said.\")\n",
    "        return None\n",
    "    except sr.RequestError as e:\n",
    "        print(f\"Speech recognition error: {e}\")\n",
    "        return None\n",
    "\n",
    "# Text-to-Speech Function\n"
   ]
  },
  {
   "cell_type": "code",
   "execution_count": null,
   "metadata": {},
   "outputs": [],
   "source": [
    "def text_to_speech(text):\n",
    "    \"\"\"Converts text to speech and plays it.\"\"\"\n",
    "    try:\n",
    "        tts = gTTS(text=text, lang='en', slow=False)\n",
    "        tts.save(\"solution.mp3\")\n",
    "        playsound.playsound(\"solution.mp3\")\n",
    "        os.remove(\"solution.mp3\")  # Clean up the file after playing\n",
    "    except Exception as e:\n",
    "        print(f\"Text-to-speech error: {e}\")"
   ]
  }
 ],
 "metadata": {
  "language_info": {
   "name": "python"
  }
 },
 "nbformat": 4,
 "nbformat_minor": 2
}
