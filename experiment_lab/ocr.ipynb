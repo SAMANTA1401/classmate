{
 "cells": [
  {
   "cell_type": "code",
   "execution_count": 1,
   "metadata": {},
   "outputs": [],
   "source": [
    "import pytesseract\n",
    "from PIL import Image\n",
    "import os"
   ]
  },
  {
   "cell_type": "code",
   "execution_count": null,
   "metadata": {},
   "outputs": [
    {
     "name": "stdout",
     "output_type": "stream",
     "text": [
      "Collecting pytesseract\n",
      "  Downloading pytesseract-0.3.13-py3-none-any.whl.metadata (11 kB)\n",
      "Requirement already satisfied: Pillow in d:\\a27_years_old\\langgraph\\venv\\lib\\site-packages (10.4.0)\n",
      "Requirement already satisfied: packaging>=21.3 in d:\\a27_years_old\\langgraph\\venv\\lib\\site-packages (from pytesseract) (24.2)\n",
      "Downloading pytesseract-0.3.13-py3-none-any.whl (14 kB)\n",
      "Installing collected packages: pytesseract\n",
      "Successfully installed pytesseract-0.3.13\n",
      "Note: you may need to restart the kernel to use updated packages.\n"
     ]
    }
   ],
   "source": [
    "# pip install pytesseract Pillow"
   ]
  },
  {
   "cell_type": "code",
   "execution_count": 2,
   "metadata": {},
   "outputs": [
    {
     "data": {
      "text/plain": [
       "'d:\\\\TutorEngine\\\\experiment_lab'"
      ]
     },
     "execution_count": 2,
     "metadata": {},
     "output_type": "execute_result"
    }
   ],
   "source": [
    "os.getcwd()"
   ]
  },
  {
   "cell_type": "code",
   "execution_count": 3,
   "metadata": {},
   "outputs": [],
   "source": [
    "image_path = os.path.join(os.getcwd(), 'integration.png')"
   ]
  },
  {
   "cell_type": "code",
   "execution_count": 4,
   "metadata": {},
   "outputs": [
    {
     "data": {
      "text/plain": [
       "'d:\\\\TutorEngine\\\\experiment_lab\\\\integration.png'"
      ]
     },
     "execution_count": 4,
     "metadata": {},
     "output_type": "execute_result"
    }
   ],
   "source": [
    "image_path"
   ]
  },
  {
   "cell_type": "code",
   "execution_count": 5,
   "metadata": {},
   "outputs": [],
   "source": [
    "image = Image.open(image_path)"
   ]
  },
  {
   "cell_type": "code",
   "execution_count": 6,
   "metadata": {},
   "outputs": [
    {
     "data": {
      "image/png": "[encoded data removed]",
      "text/plain": [
       "<PIL.PngImagePlugin.PngImageFile image mode=P size=304x166>"
      ]
     },
     "execution_count": 6,
     "metadata": {},
     "output_type": "execute_result"
    }
   ],
   "source": [
    "image"
   ]
  },
  {
   "cell_type": "code",
   "execution_count": null,
   "metadata": {},
   "outputs": [],
   "source": [
    "C:\\Program Files\\Tesseract-OCR"
   ]
  },
  {
   "cell_type": "code",
   "execution_count": 8,
   "metadata": {},
   "outputs": [],
   "source": [
    "pytesseract.pytesseract.tesseract_cmd = r'C://Program Files/Tesseract-OCR/tesseract.exe'"
   ]
  },
  {
   "cell_type": "code",
   "execution_count": 9,
   "metadata": {},
   "outputs": [],
   "source": [
    "# OCR: Extract text from the image\n",
    "extracted_text = pytesseract.image_to_string(image)"
   ]
  },
  {
   "cell_type": "code",
   "execution_count": 10,
   "metadata": {},
   "outputs": [
    {
     "name": "stdout",
     "output_type": "stream",
     "text": [
      "Extracted Text: [ 14+ x2\n",
      "x\n",
      "5 142%\n",
      "\n"
     ]
    }
   ],
   "source": [
    "print(\"Extracted Text:\", extracted_text)"
   ]
  },
  {
   "cell_type": "code",
   "execution_count": null,
   "metadata": {},
   "outputs": [],
   "source": [
    "from flask import Flask, request, jsonify\n",
    "import pytesseract  # For Tesseract OCR\n",
    "from PIL import Image  # For image processing\n",
    "import io\n",
    "import sympy #for math solving\n",
    "\n",
    "app = Flask(__name__)\n",
    "\n",
    "# Configure Tesseract (adjust path if needed)\n",
    "pytesseract.pytesseract.tesseract_cmd = r'/usr/bin/tesseract' #example path, check your tesseract installation path\n",
    "\n",
    "@app.route('/process_image', methods=['POST'])\n",
    "def process_image():\n",
    "    if 'image' not in request.files:\n",
    "        return jsonify({'error': 'No image provided'}), 400\n",
    "\n",
    "    image_file = request.files['image']\n",
    "    try:\n",
    "        image = Image.open(io.BytesIO(image_file.read()))\n",
    "        extracted_text = pytesseract.image_to_string(image)\n",
    "\n",
    "        # Example: Basic text return (you'll add math logic here)\n",
    "        result = {\"extracted_text\": extracted_text}\n",
    "\n",
    "        #Example Math Solving Section.\n",
    "        try:\n",
    "            equation = sympy.sympify(extracted_text)\n",
    "            x = sympy.symbols('x')\n",
    "            solution = sympy.solve(equation, x)\n",
    "            result[\"solution\"] = str(solution)\n",
    "\n",
    "        except:\n",
    "            print(\"Math solving error\")\n",
    "\n",
    "        return jsonify(result), 200\n",
    "\n",
    "    except Exception as e:\n",
    "        return jsonify({'error': str(e)}), 500\n",
    "\n",
    "if __name__ == '__main__':\n",
    "    app.run(debug=True)"
   ]
  },
  {
   "cell_type": "code",
   "execution_count": null,
   "metadata": {},
   "outputs": [],
   "source": [
    "import google.generativeai as genai\n",
    "import PIL.Image as Image\n",
    "import io\n",
    "import requests\n",
    "\n",
    "# Configure your API key\n",
    "genai.configure(api_key=\"YOUR_API_KEY\")\n",
    "\n",
    "def generate_response_with_image(image_data, prompt_text):\n",
    "    \"\"\"Generates a response from Gemini with an image and text prompt.\"\"\"\n",
    "\n",
    "    model = genai.GenerativeModel('gemini-pro-vision')\n",
    "\n",
    "    try:\n",
    "        response = model.generate_content([prompt_text, image_data])\n",
    "        return response.text\n",
    "    except Exception as e:\n",
    "        return f\"An error occurred: {e}\"\n",
    "\n",
    "def image_from_url(url):\n",
    "    \"\"\"Fetches an image from a URL and returns it as a PIL Image.\"\"\"\n",
    "    try:\n",
    "        response = requests.get(url, stream=True)\n",
    "        response.raise_for_status()  # Raise HTTPError for bad responses (4xx or 5xx)\n",
    "        image = Image.open(io.BytesIO(response.content))\n",
    "        return image\n",
    "\n",
    "    except requests.exceptions.RequestException as e:\n",
    "        print(f\"Error fetching image from URL: {e}\")\n",
    "        return None\n",
    "    except Exception as e:\n",
    "        print(f\"An unexpected error occured: {e}\")\n",
    "        return None\n",
    "\n",
    "def image_from_file(file_path):\n",
    "    \"\"\"Opens an image from a local file path and returns it as a PIL Image.\"\"\"\n",
    "    try:\n",
    "        image = Image.open(file_path)\n",
    "        return image\n",
    "    except Exception as e:\n",
    "        print(f\"Error opening image: {e}\")\n",
    "        return None\n",
    "\n",
    "# Example usage (from URL)\n",
    "image_url = \"YOUR_IMAGE_URL\" #replace with your image url\n",
    "image_data = image_from_url(image_url)\n",
    "\n",
    "if image_data:\n",
    "    prompt = \"Describe the image.\" #your prompt\n",
    "    response_text = generate_response_with_image(image_data, prompt)\n",
    "    print(response_text)\n",
    "\n",
    "# Example Usage (from local file)\n",
    "local_image_path = \"local_image.jpg\" #replace with your local image file path\n",
    "local_image = image_from_file(local_image_path)\n",
    "\n",
    "if local_image:\n",
    "    prompt = \"What objects are present in this image?\"\n",
    "    local_response = generate_response_with_image(local_image, prompt)\n",
    "    print(local_response)"
   ]
  },
  {
   "cell_type": "code",
   "execution_count": null,
   "metadata": {},
   "outputs": [],
   "source": [
    "from groq import Groq\n",
    "import base64\n",
    "\n",
    "client = Groq(api_key=\"your_api_key\")\n",
    "with open(\"image.jpg\", \"rb\") as image_file:\n",
    "    encoded_image = base64.b64encode(image_file.read()).decode(\"utf-8\")\n",
    "\n",
    "response = client.chat.completions.create(\n",
    "    model=\"llama-3.2-11b-vision-preview\",\n",
    "    messages=[\n",
    "        {\n",
    "            \"role\": \"user\",\n",
    "            \"content\": [\n",
    "                {\"type\": \"text\", \"text\": \"Describe this image\"},\n",
    "                {\"type\": \"image_url\", \"image_url\": {\"url\": f\"data:image/jpeg;base64,{encoded_image}\"}}\n",
    "            ]\n",
    "        }\n",
    "    ]\n",
    ")\n",
    "print(response.choices[0].message.content)"
   ]
  }
 ],
 "metadata": {
  "kernelspec": {
   "display_name": "Python 3",
   "language": "python",
   "name": "python3"
  },
  "language_info": {
   "codemirror_mode": {
    "name": "ipython",
    "version": 3
   },
   "file_extension": ".py",
   "mimetype": "text/x-python",
   "name": "python",
   "nbconvert_exporter": "python",
   "pygments_lexer": "ipython3",
   "version": "3.12.0"
  }
 },
 "nbformat": 4,
 "nbformat_minor": 2
}
